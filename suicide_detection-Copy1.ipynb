{
 "cells": [
  {
   "cell_type": "code",
   "execution_count": 87,
   "id": "51446539",
   "metadata": {},
   "outputs": [],
   "source": [
    "import warnings; \n",
    "warnings.simplefilter('ignore')"
   ]
  },
  {
   "cell_type": "markdown",
   "id": "f135b2d1",
   "metadata": {},
   "source": [
    "# Importing the libraries"
   ]
  },
  {
   "cell_type": "code",
   "execution_count": 88,
   "id": "a72b770d",
   "metadata": {},
   "outputs": [],
   "source": [
    "import numpy as np\n",
    "import matplotlib.pyplot as plt\n",
    "import pandas as pd\n",
    "import seaborn as sns"
   ]
  },
  {
   "cell_type": "markdown",
   "id": "bd62584c",
   "metadata": {},
   "source": [
    "# Importing the dataset"
   ]
  },
  {
   "cell_type": "code",
   "execution_count": 89,
   "id": "916ceea2",
   "metadata": {},
   "outputs": [],
   "source": [
    "dataset = pd.read_csv('suicide.csv', encoding = 'ISO-8859-1')"
   ]
  },
  {
   "cell_type": "code",
   "execution_count": 90,
   "id": "2242c04a",
   "metadata": {},
   "outputs": [
    {
     "data": {
      "text/html": [
       "<div>\n",
       "<style scoped>\n",
       "    .dataframe tbody tr th:only-of-type {\n",
       "        vertical-align: middle;\n",
       "    }\n",
       "\n",
       "    .dataframe tbody tr th {\n",
       "        vertical-align: top;\n",
       "    }\n",
       "\n",
       "    .dataframe thead th {\n",
       "        text-align: right;\n",
       "    }\n",
       "</style>\n",
       "<table border=\"1\" class=\"dataframe\">\n",
       "  <thead>\n",
       "    <tr style=\"text-align: right;\">\n",
       "      <th></th>\n",
       "      <th>Gender</th>\n",
       "      <th>Text</th>\n",
       "      <th>Suicide</th>\n",
       "    </tr>\n",
       "  </thead>\n",
       "  <tbody>\n",
       "    <tr>\n",
       "      <th>0</th>\n",
       "      <td>1</td>\n",
       "      <td>He said he had not felt that way before, sugge...</td>\n",
       "      <td>1</td>\n",
       "    </tr>\n",
       "    <tr>\n",
       "      <th>1</th>\n",
       "      <td>0</td>\n",
       "      <td>Hey there r/assistance, Not sure if this is th...</td>\n",
       "      <td>0</td>\n",
       "    </tr>\n",
       "    <tr>\n",
       "      <th>2</th>\n",
       "      <td>0</td>\n",
       "      <td>My mom then hit me with the newspaper and it s...</td>\n",
       "      <td>1</td>\n",
       "    </tr>\n",
       "    <tr>\n",
       "      <th>3</th>\n",
       "      <td>1</td>\n",
       "      <td>until i met my new boyfriend, he is amazing, h...</td>\n",
       "      <td>1</td>\n",
       "    </tr>\n",
       "    <tr>\n",
       "      <th>4</th>\n",
       "      <td>1</td>\n",
       "      <td>October is Domestic Violence Awareness Month a...</td>\n",
       "      <td>1</td>\n",
       "    </tr>\n",
       "    <tr>\n",
       "      <th>...</th>\n",
       "      <td>...</td>\n",
       "      <td>...</td>\n",
       "      <td>...</td>\n",
       "    </tr>\n",
       "    <tr>\n",
       "      <th>3548</th>\n",
       "      <td>0</td>\n",
       "      <td>i have horrible vivid nightmares every night. ...</td>\n",
       "      <td>1</td>\n",
       "    </tr>\n",
       "    <tr>\n",
       "      <th>3549</th>\n",
       "      <td>1</td>\n",
       "      <td>Also I can't think about both of them without ...</td>\n",
       "      <td>1</td>\n",
       "    </tr>\n",
       "    <tr>\n",
       "      <th>3550</th>\n",
       "      <td>1</td>\n",
       "      <td>Furthermore, I told him before we got really s...</td>\n",
       "      <td>1</td>\n",
       "    </tr>\n",
       "    <tr>\n",
       "      <th>3551</th>\n",
       "      <td>1</td>\n",
       "      <td>Here's the link to my amazon wish list where t...</td>\n",
       "      <td>0</td>\n",
       "    </tr>\n",
       "    <tr>\n",
       "      <th>3552</th>\n",
       "      <td>1</td>\n",
       "      <td>How can I keep us protected? They have already...</td>\n",
       "      <td>1</td>\n",
       "    </tr>\n",
       "  </tbody>\n",
       "</table>\n",
       "<p>3553 rows × 3 columns</p>\n",
       "</div>"
      ],
      "text/plain": [
       "      Gender                                               Text  Suicide\n",
       "0          1  He said he had not felt that way before, sugge...        1\n",
       "1          0  Hey there r/assistance, Not sure if this is th...        0\n",
       "2          0  My mom then hit me with the newspaper and it s...        1\n",
       "3          1  until i met my new boyfriend, he is amazing, h...        1\n",
       "4          1  October is Domestic Violence Awareness Month a...        1\n",
       "...      ...                                                ...      ...\n",
       "3548       0  i have horrible vivid nightmares every night. ...        1\n",
       "3549       1  Also I can't think about both of them without ...        1\n",
       "3550       1  Furthermore, I told him before we got really s...        1\n",
       "3551       1  Here's the link to my amazon wish list where t...        0\n",
       "3552       1  How can I keep us protected? They have already...        1\n",
       "\n",
       "[3553 rows x 3 columns]"
      ]
     },
     "execution_count": 90,
     "metadata": {},
     "output_type": "execute_result"
    }
   ],
   "source": [
    "dataset"
   ]
  },
  {
   "cell_type": "markdown",
   "id": "68908e09",
   "metadata": {},
   "source": [
    "# Data visualization"
   ]
  },
  {
   "cell_type": "code",
   "execution_count": 6,
   "id": "8755b32c",
   "metadata": {},
   "outputs": [],
   "source": [
    "not_attempt_to_suicide = dataset[dataset['Suicide']==0]"
   ]
  },
  {
   "cell_type": "code",
   "execution_count": 7,
   "id": "05f54ff8",
   "metadata": {},
   "outputs": [
    {
     "data": {
      "text/html": [
       "<div>\n",
       "<style scoped>\n",
       "    .dataframe tbody tr th:only-of-type {\n",
       "        vertical-align: middle;\n",
       "    }\n",
       "\n",
       "    .dataframe tbody tr th {\n",
       "        vertical-align: top;\n",
       "    }\n",
       "\n",
       "    .dataframe thead th {\n",
       "        text-align: right;\n",
       "    }\n",
       "</style>\n",
       "<table border=\"1\" class=\"dataframe\">\n",
       "  <thead>\n",
       "    <tr style=\"text-align: right;\">\n",
       "      <th></th>\n",
       "      <th>Gender</th>\n",
       "      <th>Text</th>\n",
       "      <th>Suicide</th>\n",
       "    </tr>\n",
       "  </thead>\n",
       "  <tbody>\n",
       "    <tr>\n",
       "      <th>1</th>\n",
       "      <td>0</td>\n",
       "      <td>Hey there r/assistance, Not sure if this is th...</td>\n",
       "      <td>0</td>\n",
       "    </tr>\n",
       "    <tr>\n",
       "      <th>6</th>\n",
       "      <td>1</td>\n",
       "      <td>It was a big company so luckily I didn't have ...</td>\n",
       "      <td>0</td>\n",
       "    </tr>\n",
       "    <tr>\n",
       "      <th>18</th>\n",
       "      <td>1</td>\n",
       "      <td>This is helping to get kids in the area tan ab...</td>\n",
       "      <td>0</td>\n",
       "    </tr>\n",
       "    <tr>\n",
       "      <th>19</th>\n",
       "      <td>1</td>\n",
       "      <td>We had plans to move in together, a fancy $1,8...</td>\n",
       "      <td>0</td>\n",
       "    </tr>\n",
       "    <tr>\n",
       "      <th>21</th>\n",
       "      <td>1</td>\n",
       "      <td>I was going through a hard time after our brea...</td>\n",
       "      <td>0</td>\n",
       "    </tr>\n",
       "    <tr>\n",
       "      <th>...</th>\n",
       "      <td>...</td>\n",
       "      <td>...</td>\n",
       "      <td>...</td>\n",
       "    </tr>\n",
       "    <tr>\n",
       "      <th>3542</th>\n",
       "      <td>1</td>\n",
       "      <td>Ok, I don't normally post much and wasn't sure...</td>\n",
       "      <td>0</td>\n",
       "    </tr>\n",
       "    <tr>\n",
       "      <th>3543</th>\n",
       "      <td>1</td>\n",
       "      <td>I'm not massively worried about it at the mome...</td>\n",
       "      <td>0</td>\n",
       "    </tr>\n",
       "    <tr>\n",
       "      <th>3545</th>\n",
       "      <td>0</td>\n",
       "      <td>I cannot remember for a fact what age we were ...</td>\n",
       "      <td>0</td>\n",
       "    </tr>\n",
       "    <tr>\n",
       "      <th>3546</th>\n",
       "      <td>1</td>\n",
       "      <td>My other brother is quite religious / catholic...</td>\n",
       "      <td>0</td>\n",
       "    </tr>\n",
       "    <tr>\n",
       "      <th>3551</th>\n",
       "      <td>1</td>\n",
       "      <td>Here's the link to my amazon wish list where t...</td>\n",
       "      <td>0</td>\n",
       "    </tr>\n",
       "  </tbody>\n",
       "</table>\n",
       "<p>1696 rows × 3 columns</p>\n",
       "</div>"
      ],
      "text/plain": [
       "      Gender                                               Text  Suicide\n",
       "1          0  Hey there r/assistance, Not sure if this is th...        0\n",
       "6          1  It was a big company so luckily I didn't have ...        0\n",
       "18         1  This is helping to get kids in the area tan ab...        0\n",
       "19         1  We had plans to move in together, a fancy $1,8...        0\n",
       "21         1  I was going through a hard time after our brea...        0\n",
       "...      ...                                                ...      ...\n",
       "3542       1  Ok, I don't normally post much and wasn't sure...        0\n",
       "3543       1  I'm not massively worried about it at the mome...        0\n",
       "3545       0  I cannot remember for a fact what age we were ...        0\n",
       "3546       1  My other brother is quite religious / catholic...        0\n",
       "3551       1  Here's the link to my amazon wish list where t...        0\n",
       "\n",
       "[1696 rows x 3 columns]"
      ]
     },
     "execution_count": 7,
     "metadata": {},
     "output_type": "execute_result"
    }
   ],
   "source": [
    "not_attempt_to_suicide"
   ]
  },
  {
   "cell_type": "code",
   "execution_count": 8,
   "id": "25f7776a",
   "metadata": {},
   "outputs": [],
   "source": [
    "attempt_to_suicide = dataset[dataset['Suicide']==1]"
   ]
  },
  {
   "cell_type": "code",
   "execution_count": 9,
   "id": "43d17347",
   "metadata": {},
   "outputs": [
    {
     "data": {
      "text/html": [
       "<div>\n",
       "<style scoped>\n",
       "    .dataframe tbody tr th:only-of-type {\n",
       "        vertical-align: middle;\n",
       "    }\n",
       "\n",
       "    .dataframe tbody tr th {\n",
       "        vertical-align: top;\n",
       "    }\n",
       "\n",
       "    .dataframe thead th {\n",
       "        text-align: right;\n",
       "    }\n",
       "</style>\n",
       "<table border=\"1\" class=\"dataframe\">\n",
       "  <thead>\n",
       "    <tr style=\"text-align: right;\">\n",
       "      <th></th>\n",
       "      <th>Gender</th>\n",
       "      <th>Text</th>\n",
       "      <th>Suicide</th>\n",
       "    </tr>\n",
       "  </thead>\n",
       "  <tbody>\n",
       "    <tr>\n",
       "      <th>0</th>\n",
       "      <td>1</td>\n",
       "      <td>He said he had not felt that way before, sugge...</td>\n",
       "      <td>1</td>\n",
       "    </tr>\n",
       "    <tr>\n",
       "      <th>2</th>\n",
       "      <td>0</td>\n",
       "      <td>My mom then hit me with the newspaper and it s...</td>\n",
       "      <td>1</td>\n",
       "    </tr>\n",
       "    <tr>\n",
       "      <th>3</th>\n",
       "      <td>1</td>\n",
       "      <td>until i met my new boyfriend, he is amazing, h...</td>\n",
       "      <td>1</td>\n",
       "    </tr>\n",
       "    <tr>\n",
       "      <th>4</th>\n",
       "      <td>1</td>\n",
       "      <td>October is Domestic Violence Awareness Month a...</td>\n",
       "      <td>1</td>\n",
       "    </tr>\n",
       "    <tr>\n",
       "      <th>5</th>\n",
       "      <td>0</td>\n",
       "      <td>I think he doesn't want to put in the effort f...</td>\n",
       "      <td>1</td>\n",
       "    </tr>\n",
       "    <tr>\n",
       "      <th>...</th>\n",
       "      <td>...</td>\n",
       "      <td>...</td>\n",
       "      <td>...</td>\n",
       "    </tr>\n",
       "    <tr>\n",
       "      <th>3547</th>\n",
       "      <td>1</td>\n",
       "      <td>I had been searching for a new place to live s...</td>\n",
       "      <td>1</td>\n",
       "    </tr>\n",
       "    <tr>\n",
       "      <th>3548</th>\n",
       "      <td>0</td>\n",
       "      <td>i have horrible vivid nightmares every night. ...</td>\n",
       "      <td>1</td>\n",
       "    </tr>\n",
       "    <tr>\n",
       "      <th>3549</th>\n",
       "      <td>1</td>\n",
       "      <td>Also I can't think about both of them without ...</td>\n",
       "      <td>1</td>\n",
       "    </tr>\n",
       "    <tr>\n",
       "      <th>3550</th>\n",
       "      <td>1</td>\n",
       "      <td>Furthermore, I told him before we got really s...</td>\n",
       "      <td>1</td>\n",
       "    </tr>\n",
       "    <tr>\n",
       "      <th>3552</th>\n",
       "      <td>1</td>\n",
       "      <td>How can I keep us protected? They have already...</td>\n",
       "      <td>1</td>\n",
       "    </tr>\n",
       "  </tbody>\n",
       "</table>\n",
       "<p>1857 rows × 3 columns</p>\n",
       "</div>"
      ],
      "text/plain": [
       "      Gender                                               Text  Suicide\n",
       "0          1  He said he had not felt that way before, sugge...        1\n",
       "2          0  My mom then hit me with the newspaper and it s...        1\n",
       "3          1  until i met my new boyfriend, he is amazing, h...        1\n",
       "4          1  October is Domestic Violence Awareness Month a...        1\n",
       "5          0  I think he doesn't want to put in the effort f...        1\n",
       "...      ...                                                ...      ...\n",
       "3547       1  I had been searching for a new place to live s...        1\n",
       "3548       0  i have horrible vivid nightmares every night. ...        1\n",
       "3549       1  Also I can't think about both of them without ...        1\n",
       "3550       1  Furthermore, I told him before we got really s...        1\n",
       "3552       1  How can I keep us protected? They have already...        1\n",
       "\n",
       "[1857 rows x 3 columns]"
      ]
     },
     "execution_count": 9,
     "metadata": {},
     "output_type": "execute_result"
    }
   ],
   "source": [
    "attempt_to_suicide"
   ]
  },
  {
   "cell_type": "code",
   "execution_count": 13,
   "id": "bbeb827e",
   "metadata": {},
   "outputs": [
    {
     "name": "stdout",
     "output_type": "stream",
     "text": [
      "Attempt to suicide percentage = 52.265690965381374 %\n"
     ]
    }
   ],
   "source": [
    "print( 'Attempt to suicide percentage =', (len(attempt_to_suicide) / len(dataset) )*100,\"%\")"
   ]
  },
  {
   "cell_type": "code",
   "execution_count": 14,
   "id": "b8154909",
   "metadata": {},
   "outputs": [
    {
     "name": "stdout",
     "output_type": "stream",
     "text": [
      "Not attempt to suicide percentage = 47.73430903461863 %\n"
     ]
    }
   ],
   "source": [
    "print( 'Not attempt to suicide percentage =', (len(not_attempt_to_suicide) / len(dataset) )*100,\"%\")"
   ]
  },
  {
   "cell_type": "code",
   "execution_count": 15,
   "id": "10c1ab19",
   "metadata": {},
   "outputs": [],
   "source": [
    "Male = dataset[dataset['Gender']==0]"
   ]
  },
  {
   "cell_type": "code",
   "execution_count": 16,
   "id": "fd318b60",
   "metadata": {},
   "outputs": [
    {
     "data": {
      "text/html": [
       "<div>\n",
       "<style scoped>\n",
       "    .dataframe tbody tr th:only-of-type {\n",
       "        vertical-align: middle;\n",
       "    }\n",
       "\n",
       "    .dataframe tbody tr th {\n",
       "        vertical-align: top;\n",
       "    }\n",
       "\n",
       "    .dataframe thead th {\n",
       "        text-align: right;\n",
       "    }\n",
       "</style>\n",
       "<table border=\"1\" class=\"dataframe\">\n",
       "  <thead>\n",
       "    <tr style=\"text-align: right;\">\n",
       "      <th></th>\n",
       "      <th>Gender</th>\n",
       "      <th>Text</th>\n",
       "      <th>Suicide</th>\n",
       "    </tr>\n",
       "  </thead>\n",
       "  <tbody>\n",
       "    <tr>\n",
       "      <th>1</th>\n",
       "      <td>0</td>\n",
       "      <td>Hey there r/assistance, Not sure if this is th...</td>\n",
       "      <td>0</td>\n",
       "    </tr>\n",
       "    <tr>\n",
       "      <th>2</th>\n",
       "      <td>0</td>\n",
       "      <td>My mom then hit me with the newspaper and it s...</td>\n",
       "      <td>1</td>\n",
       "    </tr>\n",
       "    <tr>\n",
       "      <th>5</th>\n",
       "      <td>0</td>\n",
       "      <td>I think he doesn't want to put in the effort f...</td>\n",
       "      <td>1</td>\n",
       "    </tr>\n",
       "    <tr>\n",
       "      <th>12</th>\n",
       "      <td>0</td>\n",
       "      <td>IÛªve been taking 12.5 mgs zoloft for about 6...</td>\n",
       "      <td>1</td>\n",
       "    </tr>\n",
       "    <tr>\n",
       "      <th>13</th>\n",
       "      <td>0</td>\n",
       "      <td>No place in my city has shelter space for us, ...</td>\n",
       "      <td>1</td>\n",
       "    </tr>\n",
       "    <tr>\n",
       "      <th>...</th>\n",
       "      <td>...</td>\n",
       "      <td>...</td>\n",
       "      <td>...</td>\n",
       "    </tr>\n",
       "    <tr>\n",
       "      <th>3539</th>\n",
       "      <td>0</td>\n",
       "      <td>However, I've vaguely brought it up before and...</td>\n",
       "      <td>0</td>\n",
       "    </tr>\n",
       "    <tr>\n",
       "      <th>3541</th>\n",
       "      <td>0</td>\n",
       "      <td>FOR ANYONE IN A DOMESTIC VIOLENCE SITUATION Fo...</td>\n",
       "      <td>0</td>\n",
       "    </tr>\n",
       "    <tr>\n",
       "      <th>3544</th>\n",
       "      <td>0</td>\n",
       "      <td>My daughter's father I was with for 5 years on...</td>\n",
       "      <td>1</td>\n",
       "    </tr>\n",
       "    <tr>\n",
       "      <th>3545</th>\n",
       "      <td>0</td>\n",
       "      <td>I cannot remember for a fact what age we were ...</td>\n",
       "      <td>0</td>\n",
       "    </tr>\n",
       "    <tr>\n",
       "      <th>3548</th>\n",
       "      <td>0</td>\n",
       "      <td>i have horrible vivid nightmares every night. ...</td>\n",
       "      <td>1</td>\n",
       "    </tr>\n",
       "  </tbody>\n",
       "</table>\n",
       "<p>1684 rows × 3 columns</p>\n",
       "</div>"
      ],
      "text/plain": [
       "      Gender                                               Text  Suicide\n",
       "1          0  Hey there r/assistance, Not sure if this is th...        0\n",
       "2          0  My mom then hit me with the newspaper and it s...        1\n",
       "5          0  I think he doesn't want to put in the effort f...        1\n",
       "12         0  IÛªve been taking 12.5 mgs zoloft for about 6...        1\n",
       "13         0  No place in my city has shelter space for us, ...        1\n",
       "...      ...                                                ...      ...\n",
       "3539       0  However, I've vaguely brought it up before and...        0\n",
       "3541       0  FOR ANYONE IN A DOMESTIC VIOLENCE SITUATION Fo...        0\n",
       "3544       0  My daughter's father I was with for 5 years on...        1\n",
       "3545       0  I cannot remember for a fact what age we were ...        0\n",
       "3548       0  i have horrible vivid nightmares every night. ...        1\n",
       "\n",
       "[1684 rows x 3 columns]"
      ]
     },
     "execution_count": 16,
     "metadata": {},
     "output_type": "execute_result"
    }
   ],
   "source": [
    "Male"
   ]
  },
  {
   "cell_type": "code",
   "execution_count": 17,
   "id": "cbeb7dca",
   "metadata": {},
   "outputs": [],
   "source": [
    "Female = dataset[dataset['Gender']==1]"
   ]
  },
  {
   "cell_type": "code",
   "execution_count": 18,
   "id": "b3551471",
   "metadata": {},
   "outputs": [
    {
     "data": {
      "text/html": [
       "<div>\n",
       "<style scoped>\n",
       "    .dataframe tbody tr th:only-of-type {\n",
       "        vertical-align: middle;\n",
       "    }\n",
       "\n",
       "    .dataframe tbody tr th {\n",
       "        vertical-align: top;\n",
       "    }\n",
       "\n",
       "    .dataframe thead th {\n",
       "        text-align: right;\n",
       "    }\n",
       "</style>\n",
       "<table border=\"1\" class=\"dataframe\">\n",
       "  <thead>\n",
       "    <tr style=\"text-align: right;\">\n",
       "      <th></th>\n",
       "      <th>Gender</th>\n",
       "      <th>Text</th>\n",
       "      <th>Suicide</th>\n",
       "    </tr>\n",
       "  </thead>\n",
       "  <tbody>\n",
       "    <tr>\n",
       "      <th>0</th>\n",
       "      <td>1</td>\n",
       "      <td>He said he had not felt that way before, sugge...</td>\n",
       "      <td>1</td>\n",
       "    </tr>\n",
       "    <tr>\n",
       "      <th>3</th>\n",
       "      <td>1</td>\n",
       "      <td>until i met my new boyfriend, he is amazing, h...</td>\n",
       "      <td>1</td>\n",
       "    </tr>\n",
       "    <tr>\n",
       "      <th>4</th>\n",
       "      <td>1</td>\n",
       "      <td>October is Domestic Violence Awareness Month a...</td>\n",
       "      <td>1</td>\n",
       "    </tr>\n",
       "    <tr>\n",
       "      <th>6</th>\n",
       "      <td>1</td>\n",
       "      <td>It was a big company so luckily I didn't have ...</td>\n",
       "      <td>0</td>\n",
       "    </tr>\n",
       "    <tr>\n",
       "      <th>7</th>\n",
       "      <td>1</td>\n",
       "      <td>It cleared up and I was okay but. On Monday ...</td>\n",
       "      <td>1</td>\n",
       "    </tr>\n",
       "    <tr>\n",
       "      <th>...</th>\n",
       "      <td>...</td>\n",
       "      <td>...</td>\n",
       "      <td>...</td>\n",
       "    </tr>\n",
       "    <tr>\n",
       "      <th>3547</th>\n",
       "      <td>1</td>\n",
       "      <td>I had been searching for a new place to live s...</td>\n",
       "      <td>1</td>\n",
       "    </tr>\n",
       "    <tr>\n",
       "      <th>3549</th>\n",
       "      <td>1</td>\n",
       "      <td>Also I can't think about both of them without ...</td>\n",
       "      <td>1</td>\n",
       "    </tr>\n",
       "    <tr>\n",
       "      <th>3550</th>\n",
       "      <td>1</td>\n",
       "      <td>Furthermore, I told him before we got really s...</td>\n",
       "      <td>1</td>\n",
       "    </tr>\n",
       "    <tr>\n",
       "      <th>3551</th>\n",
       "      <td>1</td>\n",
       "      <td>Here's the link to my amazon wish list where t...</td>\n",
       "      <td>0</td>\n",
       "    </tr>\n",
       "    <tr>\n",
       "      <th>3552</th>\n",
       "      <td>1</td>\n",
       "      <td>How can I keep us protected? They have already...</td>\n",
       "      <td>1</td>\n",
       "    </tr>\n",
       "  </tbody>\n",
       "</table>\n",
       "<p>1869 rows × 3 columns</p>\n",
       "</div>"
      ],
      "text/plain": [
       "      Gender                                               Text  Suicide\n",
       "0          1  He said he had not felt that way before, sugge...        1\n",
       "3          1  until i met my new boyfriend, he is amazing, h...        1\n",
       "4          1  October is Domestic Violence Awareness Month a...        1\n",
       "6          1  It was a big company so luckily I didn't have ...        0\n",
       "7          1    It cleared up and I was okay but. On Monday ...        1\n",
       "...      ...                                                ...      ...\n",
       "3547       1  I had been searching for a new place to live s...        1\n",
       "3549       1  Also I can't think about both of them without ...        1\n",
       "3550       1  Furthermore, I told him before we got really s...        1\n",
       "3551       1  Here's the link to my amazon wish list where t...        0\n",
       "3552       1  How can I keep us protected? They have already...        1\n",
       "\n",
       "[1869 rows x 3 columns]"
      ]
     },
     "execution_count": 18,
     "metadata": {},
     "output_type": "execute_result"
    }
   ],
   "source": [
    "Female"
   ]
  },
  {
   "cell_type": "code",
   "execution_count": 20,
   "id": "56e4a889",
   "metadata": {},
   "outputs": [
    {
     "data": {
      "text/plain": [
       "<AxesSubplot:xlabel='Suicide', ylabel='count'>"
      ]
     },
     "execution_count": 20,
     "metadata": {},
     "output_type": "execute_result"
    },
    {
     "data": {
      "image/png": "[encoded data removed]",
      "text/plain": [
       "<Figure size 432x288 with 1 Axes>"
      ]
     },
     "metadata": {
      "needs_background": "light"
     },
     "output_type": "display_data"
    }
   ],
   "source": [
    "sns.countplot(dataset['Suicide'], label = \"Count\") "
   ]
  },
  {
   "cell_type": "code",
   "execution_count": 21,
   "id": "cf1b4f08",
   "metadata": {},
   "outputs": [
    {
     "data": {
      "text/plain": [
       "<AxesSubplot:xlabel='Gender', ylabel='count'>"
      ]
     },
     "execution_count": 21,
     "metadata": {},
     "output_type": "execute_result"
    },
    {
     "data": {
      "image/png": "[encoded data removed]",
      "text/plain": [
       "<Figure size 432x288 with 1 Axes>"
      ]
     },
     "metadata": {
      "needs_background": "light"
     },
     "output_type": "display_data"
    }
   ],
   "source": [
    "sns.countplot(dataset['Gender'],label = \"Count\") "
   ]
  },
  {
   "cell_type": "markdown",
   "id": "c5de7e33",
   "metadata": {},
   "source": [
    "# Count Vectorizer"
   ]
  },
  {
   "cell_type": "code",
   "execution_count": 26,
   "id": "3906f204",
   "metadata": {},
   "outputs": [],
   "source": [
    "from sklearn.feature_extraction.text import CountVectorizer\n",
    "\n",
    "vectorizer = CountVectorizer()\n",
    "suicide_countvectorizer = vectorizer.fit_transform(dataset['Text'])"
   ]
  },
  {
   "cell_type": "code",
   "execution_count": 27,
   "id": "f2bd3f7a",
   "metadata": {},
   "outputs": [
    {
     "name": "stdout",
     "output_type": "stream",
     "text": [
      "['00', '000', '00am', '00pm', '02', '06', '10', '100', '1000', '100k', '100kg', '100mg', '100x', '103lbs', '10k', '10lbs', '10m', '10mg', '10pm', '10th', '10yr', '11', '110', '11000', '110k', '111', '1150', '11800', '11k', '11th', '12', '120', '1200', '125', '12lbs', '13', '130', '1300', '135', '14', '140', '1400', '14f', '14th', '15', '150', '1500', '150k', '150lb', '150mg', '15k', '15lbs', '15th', '16', '1600', '162cm', '16f', '16m', '16th', '17', '173', '175', '17f', '17th', '17years', '18', '180', '18f', '18mg', '18th', '19', '190', '194cm', '1965', '1981', '1984', '1986', '1987', '1989', '1997', '19f', '19m', '19th', '1am', '1k', '1mg', '1oz', '1pm', '1st', '1x', '1å', '20', '200', '2000', '2002', '2003', '2005', '2006', '2007', '2007ish', '2010', '2011', '2012', '2013', '2014', '2015', '2016', '2017', '2018', '2019', '20f', '20k', '20mg', '20s', '20th', '20years', '21', '2102', '211', '212', '21f', '21st', '22', '225', '2250', '22f', '22nd', '23', '230', '23rd', '24', '240', '2400', '24f', '24hr', '24m', '24th', '25', '250', '2500', '25f', '25g', '25mg', '26', '2600', '2631nrc17', '265', '26f', '26m', '26th', '26years', '26yo', '27', '273', '27m', '27yrs', '28', '28f', '29', '298', '29m', '29th', '2hs', '2k', '2m', '2mg', '2months', '2nd', '2pm', '2yo', '2yrs', '30', '300', '3000', '300mg', '30am', '30f', '30ish', '30k', '30lbs', '30m', '30mg', '30minutes', '30pm', '30th', '31', '31m', '31st', '32', '33', '33f', '33m', '34', '3456', '35', '3500', '35020', '35k', '36', '37', '380', '380k', '39', '39m', '3am', '3m', '3rd', '3x', '40', '400', '4000', '401k', '40219', '406', '40k', '40mg', '42', '420', '42m', '439', '440', '449', '45', '450', '454', '45am', '45ish', '46', '48', '490', '49kg', '4am', '4k', '4th', '4x', '50', '500', '50000', '500mg', '505', '50g', '50mg', '50min', '51', '510', '52', '53', '54f', '55', '550', '56', '575', '585', '598', '5am', '5ft8', '5g', '5h', '5k', '5mg', '5pm', '5t', '5th', '60', '600', '60s', '61', '62', '620', '64', '65', '650', '654', '65ish', '66', '68', '6am', '6k', '6lbs', '6months', '6pm', '6th', '70', '700', '70s', '72', '7206', '730', '74', '75', '750', '77bpm', '785', '7k', '7pm', '7st', '7th', '7yo', '80', '800', '80s', '8255', '85', '8500', '85301', '8am', '8pm', '8th', '90', '900', '9000', '90s', '91', '911', '95', '957', '9670', '99', '9pm', '9th', '______', '_______', '____________________________________________', '________________________________________________', '__________________________________________________________', '____________________________________________________________________________________________________________________________', '__affiliation__', '__background__', '__compensation__', '__link__', '__target', '__who', '_agent_perk', '_more_', '_think_', '_very', 'aa', 'aaaa', 'aaand', 'abandon', 'abandoned', 'abandoning', 'abandonment', 'abb', 'abd', 'abdomen', 'abhorrent', 'abilities', 'ability', 'abitur', 'able', 'abortion', 'abound', 'about', 'above', 'abrasive', 'abridged', 'abroad', 'abruptly', 'abs', 'absence', 'absent', 'absoluly', 'absolute', 'absolutely', 'absolve', 'absorbed', 'absorbing', 'abstinence', 'abstract', 'absurd', 'abuse', 'abused', 'abuser', 'abusers', 'abuses', 'abusing', 'abusive', 'abut', 'abyss', 'ac', 'academic', 'academics', 'academy', 'acap', 'accelerated', 'accent', 'accept', 'acceptable', 'acceptance', 'accepted', 'accepting', 'accepts', 'access', 'accessed', 'accessible', 'accessories', 'accident', 'accidental', 'accidentally', 'accidentalsuicide', 'accidents', 'acclamation', 'accommodate', 'accommodation', 'accommodations', 'accomodation', 'accompanied', 'accomplish', 'accomplishing', 'accomplishment', 'accomplishments', 'according', 'account', 'accountable', 'accounts', 'accurate', 'accurately', 'accusation', 'accusations', 'accusatory', 'accuse', 'accused', 'accuses', 'accusing', 'accustomed', 'ace', 'achalasia', 'ache', 'aches', 'achieve', 'achievements', 'achiever', 'achilles', 'acid', 'acidentaly', 'acknowledge', 'acknowledged', 'acknowledges', 'acne', 'acquaintance', 'acquaintances', 'acquainted', 'acquire', 'acre', 'acres', 'across', 'act', 'acted', 'acting', 'action', 'actionable', 'actions', 'activate', 'activating', 'activation', 'active', 'actively', 'activities', 'activitiy', 'activity', 'acts', 'actual', 'actually', 'acute', 'acutely', 'ad', 'ada', 'adamant', 'adams', 'adapt', 'add', 'added', 'addendum', 'addict', 'addicted', 'addiction', 'addictions', 'addictive', 'adding', 'addition', 'additional', 'additionally', 'address', 'addressed', 'addresses', 'addressing', 'adds', 'adequate', 'adequately', 'adhd', 'adinazolam', 'adjust', 'adjusted', 'adjusters', 'adjusting', 'adjustment', 'adjustments', 'adls', 'administration', 'administrative', 'administrator', 'admins', 'admire', 'admired', 'admission', 'admit', 'admitedly', 'admits', 'admittance', 'admitted', 'admittedly', 'admitting', 'adolescence', 'adolescent', 'adolescents', 'adopt', 'adopted', 'adoption', 'adoptive', 'adore', 'adrenal', 'adrenaline', 'adrenalized', 'adress', 'ads', 'adulating', 'adult', 'adulthood', 'adults', 'advance', 'advanced', 'advantage', 'adventure', 'adventurous', 'adversarial', 'adversity', 'advertisements', 'advertising', 'advice', 'advices', 'advisable', 'advise', 'advised', 'advisers', 'advising', 'advisor', 'advocacy', 'advocate', 'advocating', 'ae', 'aesthetic', 'aesthetics', 'af', 'afaik', 'affair', 'affairs', 'affaris', 'affect', 'affected', 'affecting', 'affection', 'affectionate', 'affections', 'affects', 'affiliated', 'affiliates', 'affiliation', 'affinity', 'affirming', 'afflicted', 'afford', 'affordable', 'afghanistan', 'aforementioned', 'afraid', 'africa', 'african', 'after', 'afterhysterically', 'afterlife', 'aftermath', 'afternoon', 'afterward', 'afterwards', 'aftraid', 'agaim', 'again', 'against', 'age', 'aged', 'agencies', 'agency', 'agenda', 'agent', 'ages', 'aggravate', 'aggravated', 'aggrement', 'aggresive', 'aggression', 'aggressive', 'aggressively', 'agian', 'agitated', 'agitation', 'ago', 'agony', 'agoraphobia', 'agoraphobic', 'agravated', 'agree', 'agreed', 'agreeing', 'agreement', 'agreements', 'agrees', 'agressive', 'agricultural', 'ah', 'ahead', 'ahold', 'aid', 'ailments', 'aim', 'aimed', 'ain', 'air', 'airbnb', 'aired', 'airing', 'airplane', 'airport', 'aisle', 'aka', 'aladdin', 'alarm', 'alarming', 'alas', 'alaska', 'albeit', 'albert', 'albums', 'alchie', 'alcohol', 'alcoholi', 'alcoholic', 'alcoholics', 'alcoholism', 'alert', 'alerted', 'alerts', 'alex', 'alice', 'alien', 'alienating', 'alienation', 'aliens', 'aligned', 'alignment', 'alimony', 'alive', 'alj', 'all', 'allegations', 'allegedly', 'allergic', 'allergies', 'allergy', 'alleviate', 'alleviated', 'alley', 'allotted', 'alloutte', 'allow', 'allowance', 'allowed', 'allowing', 'allows', 'alluded', 'allyship', 'alma', 'almost', 'almsot', 'alone', 'along', 'alongside', 'alot', 'alprazolam', 'already', 'alright', 'also', 'alsobtake', 'alt', 'altercations', 'altered', 'altering', 'alternate', 'alternating', 'alternative', 'alternatives', 'alternator', 'although', 'althozght', 'altogether', 'always', 'alzheimer', 'am', 'am__', 'amanae', 'amanda', 'amass', 'amateur', 'amazing', 'amazingly', 'amazon', 'ambassador', 'ambitions', 'ambitious', 'ambivalent', 'ambulance', 'america', 'american', 'americans', 'americas', 'americorps', 'amharic', 'amicable', 'amicably', 'amoeba', 'among', 'amongst', 'amother', 'amount', 'amounts', 'ample', 'amplified', 'amputate', 'amsterdam', 'amusing', 'an', 'ana', 'anal', 'analyze', 'analyzing', 'anchor', 'ancient', 'and', 'andi', 'andres', 'andrew', 'android', 'andy', 'anesthetic', 'angel', 'angeles', 'angelswingssupport', 'anger', 'angina', 'angle', 'angrier', 'angrily', 'angry', 'angst', 'anguish', 'animal', 'animalistic', 'animals', 'animated', 'anime', 'animosity', 'ankle', 'anna', 'annie', 'anniversaries', 'anniversary', 'announced', 'annoy', 'annoyance', 'annoyed', 'annoying', 'annually', 'anonymity', 'anonymous', 'anonymously', 'anorexia', 'anorexic', 'another', 'ans', 'answer', 'answered', 'answering', 'answers', 'ant', 'anti', 'antibiotics', 'anticipated', 'anticipating', 'anticipation', 'anticipatory', 'antidepressant', 'antidepressants', 'antisocial', 'antithesis', 'antonio', 'anvil', 'anxieties', 'anxiety', 'anxious', 'any', 'anybody', 'anyhow', 'anymore', 'anyone', 'anyones', 'anyplace', 'anything', 'anytime', 'anyway', 'anyways', 'anywhere', 'apart', 'apartment', 'apartments', 'apathetic', 'apathy', 'apetite', 'apex', 'apnea', 'apocalyptic', 'apoligizes', 'apologetic', 'apologies', 'apologise', 'apologised', 'apologising', 'apologize', 'apologized', 'apologizes', 'apologizing', 'apology', 'apon', 'app', 'apparent', 'apparently', 'appartement', 'appeal', 'appealing', 'appeals', 'appear', 'appearance', 'appearances', 'appeared', 'appearing', 'appears', 'appease', 'appending', 'apperantly', 'appetite', 'apple', 'applicable', 'applicants', 'application', 'applications', 'applied', 'applies', 'apply', 'applying', 'appointment', 'appointments', 'appreciate', 'appreciated', 'appreciative', 'apprehensive', 'apprenticeship', 'appriciate', 'apprised', 'approach', 'approachable', 'approached', 'approaches', 'approaching', 'appropriate', 'appropriated', 'appropriately', 'approve', 'approved', 'approx', 'approximately', 'apps', 'appts', 'april', 'april14', 'aproach', 'apt', 'aquatinted', 'ar', 'arby', 'are', 'area', 'areas', 'aren', 'arent', 'argue', 'argued', 'arguement', 'arguements', 'argues', 'arguing', 'argument', 'argumentative', 'arguments', 'arise', 'arises', 'arizona', 'arm', 'armed', 'armour', 'arms', 'army', 'aromantic', 'arose', 'around', 'arousal', 'arrange', 'arranged', 'arrangement', 'arrangements', 'arranging', 'arrest', 'arrested', 'arrests', 'arrival', 'arrive', 'arrived', 'arrives', 'arriving', 'arrogance', 'arse', 'arsehole', 'arsenal', 'art', 'arthritis', 'arthur', 'article', 'articles', 'articulate', 'artificial', 'artist', 'artistic', 'artists', 'arts', 'artsy', 'artwork', 'aryan', 'as', 'asap', 'asd', 'asda', 'asexual', 'asexuality', 'ashamed', 'ashed', 'ashes', 'asia', 'asian', 'aside', 'asinine', 'ask', 'asked', 'asking', 'asks', 'asleep', 'aspca', 'aspect', 'aspects', 'aspergers', 'asphyxiating', 'aspire', 'aspires', 'aspiring', 'ass', 'assassin', 'assault', 'assaulted', 'assaulter', 'assaulters', 'assaulting', 'assaults', 'assertive', 'asses', 'assess', 'assessed', 'assessment', 'assessments', 'assets', 'asshole', 'assign', 'assigned', 'assignment', 'assignments', 'assist', 'assistance', 'assistant', 'assistantships', 'assisted', 'assisting', 'associate', 'associated', 'associates', 'associating', 'association', 'assuage', 'assume', 'assumed', 'assuming', 'assumptions', 'assure', 'assured', 'assuring', 'asthma', 'aswell', 'at', 'ate', 'atenolol', 'atheist', 'athletes', 'athletics', 'atlanta', 'atleast', 'atleazt', 'atm', 'atmosphere', 'atomoxetine', 'atrocious', 'atrocities', 'attach', 'attached', 'attaching', 'attachment', 'attack', 'attacked', 'attacking', 'attacks', 'attempt', 'attempted', 'attempting', 'attempts', 'attenborough', 'attend', 'attendant', 'attended', 'attending', 'attends', 'attention', 'attentive', 'attest', 'atticus', 'attitude', 'attitudes', 'attorney', 'attorneys', 'attract', 'attracted', 'attraction', 'attractive', 'attribute', 'attributed', 'attributing', 'attrition', 'au', 'audacity', 'audible', 'audibly', 'audience', 'audio', 'audition', 'auditory', 'audrey', 'aug', 'augment', 'augmentation', 'august', 'aunt', 'aunts', 'aunty', 'australia', 'author', 'authorities', 'authority', 'authorized', 'autism', 'autistic', 'auto', 'automated', 'automatic', 'automatically', 'automod', 'automoderator', 'autopilot', 'avail', 'availability', 'available', 'availible', 'avenue', 'avenues', 'average', 'averaged', 'averages', 'averaging', 'aversives', 'avid', 'avoid', 'avoidance', 'avoidant', 'avoide', 'avoided', 'avoiding', 'avrege', 'awaiting', 'awake', 'awaking', 'award', 'awarded', 'awards', 'aware', 'awareness', 'away', 'awesome', 'awful', 'awfully', 'awhile', 'awkward', 'awkwardly', 'awkwardness', 'awoke', 'awol', 'awry', 'awww', 'axe', 'axiety', 'az', 'ba', 'babble', 'babe', 'babies', 'babu', 'baby', 'babysit', 'babysitter', 'babysitters', 'bachelor', 'bachelors', 'back', 'backed', 'backfired', 'background', 'backgrounds', 'backlash', 'backpack', 'backpacks', 'backpedaled', 'backs', 'backseat', 'backstories', 'backstory', 'backup', 'backward', 'backwards', 'backyard', 'bacteria', 'bactiral', 'bad', 'badger', 'badly', 'badminton', 'badmouthing', 'baffles', 'bag', 'baggage', 'bags', 'bah', 'bail', 'bailed', 'bait', 'baiting', 'baker', 'bakery', 'balance', 'balanced', 'balancing', 'balcony', 'bald', 'ball', 'balled', 'ballers', 'ballet', 'balloon', 'balls', 'balthazar', 'baltimore', 'ban', 'band', 'bandage', 'bandaids', 'bands', 'bang', 'banging', 'bank', 'banker', 'bankruptcy', 'banks', 'banned', 'baptisms', 'baptize', 'bar', 'barbecuing', 'bare', 'barely', 'bargained', 'barged', 'barista', 'barking', 'barn', 'barrage', 'barricaded', 'barrier', 'barriers', 'bars', 'bart', 'bartender', 'base', 'baseball', 'baseboard', 'based', 'baseline', 'basement', 'bash', 'bashed', 'bashings', 'basic', 'basically', 'basics', 'basing', 'basis', 'basket', 'baskets', 'bass', 'bastard', 'bat', 'batch', 'bath', 'bathe', 'bathroom', 'bathrooms', 'baths', 'battering', 'battery', 'battle', 'battled', 'battles', 'battling', 'bawl', 'bawled', 'bawling', 'bay', 'bbb', 'bbc', 'bbctwo', 'bbq', 'bc', 'bday', 'be', 'beacause', 'beach', 'bean', 'beans', 'bear', 'bearable', 'bears', 'beat', 'beaten', 'beating', 'beatings', 'beats', 'beatty', 'beautiful', 'beautifully', 'beauty', 'became', 'because', 'become', 'becomes', 'becoming', 'bed', 'bedding', 'bedroll', 'bedroom', 'bedrooms', 'beds', 'bedside', 'bee', 'been', 'beeping', 'beer', 'beers', 'beetles', 'befallen', 'befoe', 'before', 'beforehand', 'befour', 'befriend', 'befriended', 'beg', 'began', 'begged', 'begging', 'begin', 'beginner', 'beginners', 'beginning', 'begins', 'begs', 'begun', 'behalf', 'behave', 'behaved', 'behaving', 'behavior', 'behavioral', 'behaviors', 'behaviour', 'behaviours', 'behind', 'being', 'beings', 'belated', 'belching', 'belgium', 'belief', 'beliefs', 'believable', 'believe', 'believed', 'believer', 'believes', 'believing', 'belittle', 'belittling', 'bellow', 'belly', 'belong', 'belongings', 'belongs', 'beloved', 'below', 'belt', 'ben', 'bender', 'bending', 'beneath', 'beneficial', 'beneficiary', 'benefit', 'benefited', 'benefits', 'benefitted', 'benefitting', 'benevolence', 'benzo', 'benzos', 'berate', 'berated', 'berates', 'berating', 'bereft', 'bern', 'bernardino', 'berth', 'beside', 'besides', 'best', 'bet', 'beta', 'betrayal', 'betrayed', 'better', 'betting', 'between', 'beverage', 'bewilderment', 'beyoncì', 'beyond', 'bf', 'bff', 'bfs', 'bi', 'bias', 'biased', 'bible', 'bickering', 'bicycle', 'biding', 'big', 'bigger', 'biggest', 'bigot', 'bike', 'bikes', 'bikini', 'bikinis', 'bil', 'bile', 'bilingual', 'bill', 'billing', 'billion', 'billions', 'bills', 'bin', 'binary', 'bind', 'binds', 'bing', 'binge', 'binges', 'binging', 'binoculars', 'bio', 'biological', 'biologically', 'biologist', 'biology', 'bipolar', 'birds', 'birth', 'birthday', 'birthdays', 'bisexual', 'bishop', 'bit', 'bitch', 'bitching', 'bitcoin', 'bite', 'bites', 'biting', 'bits', 'bitten', 'bitter', 'bizarre', 'black', 'blacked', 'blackeyes', 'blackie', 'blackmailing', 'blackout', 'bladder', 'blade', 'blah', 'blame', 'blamed', 'blames', 'blaming', 'blaminish', 'bland', 'blank', 'blanket', 'blankets', 'blaring', 'blast', 'blatant', 'bleach', 'bleak', 'bled', 'bleed', 'bleeding', 'bleh', 'blemishes', 'bless', 'blessed', 'blessing', 'blessings', 'blew', 'blind', 'blinded', 'blinds', 'blindsided', 'blinkers', 'bliss', 'block', 'blocked', 'blockers', 'blocking', 'blocks', 'blog', 'blood', 'bloodflow', 'bloodlines', 'bloody', 'bloomed', 'bloomer', 'blow', 'blowing', 'blown', 'blows', 'blue', 'blues', 'blunt', 'bluntly', 'blur', 'blurred', 'blurry', 'blurted', 'bmv', 'bo', 'board', 'boardgame', 'boat', 'bob', 'bodies', 'body', 'bodywork', 'boil', 'bojack', 'bold', 'boldly', 'bolster', 'bomb', 'bombard', 'bombed', 'bombs', 'bombshell', 'bond', 'bonding', 'bone', 'bones', 'bonfire', 'bonus', 'boobs', 'book', 'booked', 'booking', 'bookkeepers', 'books', 'boom', 'boondocks', 'boorish', 'boost', 'boosted', 'boosting', 'boot', 'booted', 'bootsy', 'booze', 'border', 'bordering', 'borderline', 'bore', 'bored', 'boring', 'born', 'borrow', 'borrowed', 'boss', 'bosses', 'boston', 'bot', 'botched', 'both', 'bother', 'bothered', 'bothering', 'bothers', 'bots', 'botterill', 'bottle', 'bottled', 'bottles', 'bottom', 'bought', 'bounce', 'bouncing', 'bound', 'boundaries', 'boundary', 'bout', 'boutique', 'bouts', 'bowl', 'box', 'boxed', 'boxes', 'boxing', 'boy', 'boyfriend', 'boyfriends', 'boys', 'bp', 'bpa', 'bpd', 'bpm', 'bpsychsci', 'bra', 'brace', 'bracelets', 'braces', 'brag', 'bragged', 'bragging', 'braille', 'brain', 'brains', 'brainstorming', 'brake', 'brakes', 'branching', 'brand', 'brat', 'brave', 'braver', 'bravery', 'breach', 'bread', 'breadwinner', 'break', 'breakdown', 'breakdowns', 'breakfast', 'breaking', 'breakout', 'breaks', 'breakthrough', 'breakup', 'breakups', 'breast', 'breastfeeding', 'breasts', 'breath', 'breathe', 'breathing', 'breaths', 'breed', 'breeders', 'breezes', 'brescia', 'brian', 'brick', 'bridesmaid', 'bridezilla', 'bridge', 'bridging', 'brief', 'briefly', 'bright', 'brilliant', 'brim', 'bring', 'bringing', 'brings', 'brink', 'britain', 'british', 'bro', 'broach', 'broaching', 'broadcasting', 'broadening', 'broadway', 'brody', 'broke', 'broken', 'bromazepam', 'bronchitis', 'bronx', 'brooding', 'broom', 'broomhead', 'brother', 'brotherhood', 'brothers', 'brotizolam', 'brought', 'brouvht', 'broward', 'brown', 'browse', 'browser', 'browsers', 'browsing', 'bruise', 'bruises', 'bruising', 'brunswick', 'brush', 'brushed', 'brushes', 'brushing', 'brutal', 'brutality', 'brutally', 'brute', 'bs', 'btw', 'bubble', 'bubbles', 'bubbly', 'bucket', 'bucks', 'bud', 'buddhism', 'buddies', 'buddy', 'budge', 'budget', 'budgeted', 'bug', 'bugged', 'bugging', 'build', 'builder', 'building', 'buildings', 'built', 'buisness', 'bulging', 'bulimia', 'bulimic', 'bulk', 'bullet', 'bullied', 'bullies', 'bullshit', 'bullshited', 'bully', 'bullying', 'bumble', 'bummed', 'bummer', 'bump', 'bumped', 'bunch', 'bundle', 'bunk', 'bunnies', 'bunny', 'burden', 'burdens', 'burdensome', 'bureaucracies', 'bureaucracy', 'bureaucratic', 'buried', 'burn', 'burned', 'burner', 'burning', 'burns', 'burnt', 'burping', 'burps', 'bursaries', 'burst', 'bursting', 'bury', 'burying', 'bus', 'busboy', 'buses', 'bush', 'bushes', 'business', 'businesses', 'busking', 'buspar', 'busphar', 'busses', 'bust', 'busted', 'busting', 'bustling', 'busts', 'busy', 'but', 'butt', 'butter', 'butterflies', 'button', 'buttons', 'buttt', 'buy', 'buyers', 'buying', 'buys', 'by', 'bye', 'bygones', 'bystander', 'ca', 'cab', 'cabin', 'cabinet', 'cable', 'cableize', 'caf', 'cafe', 'caffeine', 'cage', 'cagey', 'cake', 'calcium', 'calf', 'california', 'call', 'callback', 'called', 'caller', 'calling', 'callous', 'calls', 'calm', 'calmed', 'calming', 'calmly', 'calmness', 'calms', 'calorie', 'calories', 'cam', 'came', 'cameras', 'cameron', 'camp', 'campaign', 'camped', 'camper', 'campground', 'camping', 'camps', 'campus', 'can', 'canada', 'canadian', 'canalso', 'cancel', 'canceled', 'cancellations', 'cancelled', 'cancelling', 'cancels', 'cancer', 'cancers', 'candidacy', 'candidate', 'candidates', 'candies', 'candy', 'cane', 'canine', 'cannabis', 'canned', 'cannibis', 'cannot', 'cans', 'cant', 'canå', 'canæèt', 'capabilities', 'capable', 'capacity', 'capillaries', 'capital', 'capitalized', 'capris', 'caps', 'captain', 'captains', 'car', 'card', 'cardiac', 'cardiologyst', 'cards', 'care', 'cared', 'career', 'careers', 'carefree', 'careful', 'carefully', 'caregiver', 'cares', 'caretaker', 'caring', 'carlaåê', 'carolina', 'carpal', 'carpentry', 'carpet', 'carried', 'carries', 'carry', 'carrying', 'cars', 'cart', 'cartoony', 'case', 'cases', 'caseworker', 'cash', 'cashiering', 'cashiers', 'cass', 'cassandra', 'casserole', 'cast', 'castaway', 'casual', 'casually', 'cat', 'catastrophic', 'catastrophizing', 'catatonia', 'catatonic', 'catch', 'catches', 'catching', 'catchy', 'catered', 'catfish', 'catholic', 'cats', 'caught', 'cauliflowers', 'cause', 'caused', 'causes', 'causing', 'cautious', 'caved', 'cbd', 'cbt', 'cc', 'cdc', 'cds', 'cease', 'ceased', 'ceiling', 'celebrate', 'celebrating', 'celebrity', 'celexa', 'celiac', 'cell', 'cellmate', 'cellphone', 'cells', 'cellular', 'cellulitis', 'celprix', 'cemented', 'census', 'cent', 'center', 'centered', 'centers', 'central', 'centre', 'centres', 'centric', 'centrist', 'cents', 'ceo', 'cereal', 'cerebrospinal', 'certain', 'certainly', 'certainty', 'certian', 'certificate', 'certified', 'cetera', 'cfs', 'chain', 'chained', 'chair', 'chairs', 'chalk', 'chalked', 'challenge', 'challenged', 'challenges', 'challenging', 'chamber', 'champ', 'chance', 'chances', 'change', 'changed', 'changes', 'changing', 'channel', 'channels', 'chaos', 'chaotic', 'chap', 'chapter', 'character', 'characterizes', 'characters', 'charge', 'charged', 'charger', 'chargers', 'charges', 'charging', 'charitable', 'charities', 'charity', 'charming', 'chart', 'charts', 'chase', 'chased', 'chasing', 'chat', 'chatroom', 'chats', 'chatted', 'chattering', 'chatting', 'cheap', 'cheaper', 'cheapest', 'cheat', 'cheated', 'cheaters', 'cheating', 'cheats', 'check', 'checked', 'checking', 'checklist', 'checks', 'checkup', 'cheek', 'cheeks', 'cheer', 'cheered', 'cheerful', 'cheering', 'cheers', 'cheese', 'cheeses', 'cheesy', 'chem', 'chemical', 'chemicals', 'chemistry', 'chemo', 'chemotherapy', 'cherish', 'cherished', 'chest', 'chevy', 'chew', 'chicago', 'chick', 'chicken', 'chickened', 'chihuahua', 'child', 'childcare', 'childhood', 'childhoos', 'childish', 'children', 'chile', 'chili', 'chill', 'chilled', 'chilling', 'chills', 'chimstry', 'chin', 'china', 'chinese', 'chinook', 'chip', 'chipped', 'chipping', 'chips', 'chiriaco', 'chirstmas', 'chit', 'chivalrous', 'chloe', 'chlordiazepoxide', 'chocolate', 'chocolates', 'choice', 'choices', 'choir', 'choke', 'choked', 'chokes', 'choking', 'chokings', 'choose', 'chooses', 'choosing', 'chopped', 'chores', 'chose', 'chosen', 'christ', 'christchurch', 'christian', 'christians', 'christmas', 'chronic', 'chronically', 'chronicled', 'chronologically', 'chu', 'chubby', 'chuckles', 'chunk', 'chunks', 'church', 'churches', 'cig', 'cigarette', 'cigarettes', 'cipralex', 'circadian', 'circle', 'circles', 'circulation', 'circulatory', 'circumstance', 'circumstances', 'circus', 'cirque', 'cirrhosis', 'citalopram', 'cities', 'citizen', 'citizenry', 'citizens', 'city', 'citypasses', 'civil', 'civilian', 'civilians', 'civilized', 'ck', 'ckery', 'cking', 'cl', 'claim', 'claimed', 'claiming', 'claims', 'clarify', 'clarity', 'clark', 'clash', 'class', 'classes', 'classic', 'classified', 'classmates', 'classroom', 'classrooms', 'claw', 'clawing', 'clay', 'clean', 'cleaned', 'cleanest', 'cleaning', 'cleans', 'clear', 'cleared', 'clearer', 'clearest', 'clearly', 'clenched', 'clerical', 'clerk', 'clerks', 'click', 'clickbait', 'clicked', 'clicking', 'client', 'clients', 'climb', 'climbing', 'clinginess', 'clinging', 'clingy', 'clinic', 'clinical', 'clinically', 'clinics', 'clip', 'clippers', 'clock', 'clogging', 'clognezapan', 'clonazepam', 'clone', 'clorazepate', 'clorox', 'close', 'closed', 'closely', 'closeness', 'closer', 'closes', 'closest', 'closet', 'closeted', 'closets', 'closing', 'closure', 'clot', 'clothes', 'clothing', 'clots', 'cloud', 'clouds', 'clown', 'club', 'clubbing', 'clubs', 'clue', 'clueless', 'cluster', 'cmon', 'co', 'coach', 'coached', 'coachella', 'coalition', 'coast', 'coastal', 'coaster', 'coasters', 'coat', 'coats', 'coax', 'cobwebs', 'cocaine', 'cocktail', 'coddled', 'coddling', 'code', 'codependant', 'codes', 'coding', 'coerced', 'coercing', 'coercion', 'coercive', 'coffee', 'cognition', 'cognitive', 'cognitivism', 'cohabiting', 'coherently', 'cohort', 'cohorts', 'coincide', 'coincidence', 'coincidentally', 'coins', 'cold', 'colder', 'coldness', 'cole', 'collaborated', 'collagen', 'collages', 'collapse', 'collapsed', 'collapses', 'collapsing', 'collar', 'collarbone', 'colleague', 'colleagues', 'collect', 'collected', 'collecting', 'collection', 'collections', 'collective', 'collectively', 'collectors', 'college', 'colleges', 'collegue', 'collision', 'colllege', 'color', 'colorado', 'colors', 'colossal', 'colour', 'colours', 'columbia', 'columbus', 'column', 'coma', 'combat', 'combative', 'combatting', 'combination', 'combinations', 'combine', 'combined', 'combo', 'come', 'comedic', 'comedown', 'comedy', 'comers', 'comes', 'comfort', 'comfortable', 'comfortably', 'comforted', 'comforter', 'comforting', 'comforts', 'comfy', 'comic', 'coming', 'command', 'commands', 'commencing', 'commendable', 'comment', 'commented', 'commenting', 'comments', 'commercial', 'commercialization', 'commiserating', 'commiseration', 'commission', 'commit', 'commited', 'commitment', 'committed', 'committee', 'committing', 'commodities', 'commom', 'common', 'commonality', 'commonly', 'commonplace', 'communal', 'communicate', 'communicating', 'communication', 'communications', 'communicative', 'communicator', 'community', 'commute', 'commuting', 'comp', 'companies', 'companion', 'companionship', 'company', 'compare', 'compared', 'compares', 'comparing', 'comparison', 'compartmentalized', 'compassion', 'compassionate', 'compatible', 'compelled', 'compensate', 'compensated', 'compensation', 'compensations', 'compete', 'competent', 'competition', 'competitive', 'competitively', 'compilations', 'complain', 'complained', 'complaining', 'complains', 'complaint', 'complaints', 'complementary', 'complements', 'complete', 'completed', 'completely', 'completes', 'completing', 'completion', 'completly', 'complex', 'complicate', 'complicated', 'complications', 'compliment', 'compliments', 'comply', 'component', 'composed', 'composure', 'compound', 'compounded', 'compounding', 'comprehend', 'comprehended', 'comprehensive', 'compromise', 'compromises', 'compromising', 'compton', 'compulsion', 'compulsions', 'compulsive', 'compulsively', 'computer', 'computers', 'comradeship', 'conceded', 'conceive', 'concentrate', 'concentrated', 'concentrating', 'concentration', 'concept', 'concepts', 'concern', 'concerned', 'concerning', 'concerns', 'concert', 'concerts', 'concession', 'conciously', 'conciousness', 'concise', 'concisely', 'concluded', 'conclusion', 'conclusions', 'concocted', 'concrete', 'concussion', 'condemned', 'condensed', 'condescending', 'condescendingly', 'condition', 'conditionally', 'conditioned', 'conditioning', 'conditions', 'condo', 'condom', 'condominium', 'condoms', 'condoning', 'conducted', 'conducting', 'conductor', 'cone', 'conected', 'conference', 'conferences', 'confess', 'confessed', 'confessing', 'confession', 'confidants', 'confided', 'confidence', 'confident', 'confidential', 'confidentiality', 'confined', 'confirm', 'confirmation', 'confirmed', 'confirming', 'confiscated', 'conflict', 'conflicted', 'confront', 'confrontation', 'confrontational', 'confronted', 'confronting', 'confuse', 'confused', 'confuses', 'confusing', 'confusion', 'congenita', 'congenital', 'congestion', 'congrats', 'congratulations', 'coniving', 'conjunction', 'conjuring', 'connect', 'connected', 'connecting', 'connection', 'connections', 'connective', 'conquer', 'conroe', 'cons', 'conscious', 'consciously', 'consciousness', 'consecutive', 'consent', 'consequence', 'consequences', 'conservative', 'conserve', 'consider', 'considerably', 'considerate', 'consideration', 'considerations', 'considered', 'considering', 'considers', 'consisted', 'consistent', 'consistently', 'consists', 'console', 'consoled', 'consoles', 'consolidate', 'consolidation', 'conspiracy', 'constancy', 'constant', 'constantly', 'constants', 'constitutes', 'constraints', 'constricted', 'constricting', 'constriction', 'constrictions', 'construction', 'constructive', 'constructual', 'consult', 'consultation', 'consulting', 'consults', 'consume', 'consumed', 'consumer', 'consumers', 'consumes', 'consuming', 'contact', 'contacted', 'contacting', 'contacts', 'contagious', 'contain', 'containers', 'contains', 'contaminant', 'contemplate', 'contemplated', 'contemplating', 'contemporary', 'contend', 'content', 'contest', 'context', 'contingent', 'continually', 'continud', 'continue', 'continued', 'continues', 'continuing', 'continuous', 'continuously', 'contract', 'contracting', 'contractor', 'contractors', 'contradict', 'contradicts', 'contrast', 'contribute', 'contributed', 'contributes', 'contributing', 'contribution', 'contributions', 'contrived', 'control', 'controlled', 'controllers', 'controlling', 'controls', 'controversial', 'convenience', 'convenient', 'convention', 'conversation', 'conversational', 'conversations', 'conversing', 'conversion', 'convey', 'convicted', 'convince', 'convinced', 'convinces', 'convincing', 'convo', 'convos', 'convulsive', 'cook', 'cooked', 'cookies', 'cooking', 'cooks', 'cool', 'cooler', 'coolest', 'cools', 'coop', 'cooped', 'cooperate', 'cooperatively', 'coordination', 'cop', 'cope', 'coped', 'copied', 'copies', 'coping', 'copper', 'cops', 'copulate', 'copy', 'cord', 'core', 'cork', 'corn', 'corner', 'cornered', 'corners', 'cornett', 'corny', 'corporate', 'corporation', 'corps', 'correct', 'corrected', 'correctional', 'corrections', 'correctly', 'correlate', 'correlation', 'corresponding', 'corridor', 'corrine', 'corruption', 'cosh', 'cosmic', 'cost', 'costa', 'costing', 'costly', 'costs', 'costume', 'costumer', 'cot', 'couch', 'couchsurfers', 'couchsurfing', 'cougars', 'cough', 'coughed', 'coughing', 'could', 'coulda', 'couldn', 'couldnt', 'couldnå', 'couldonly', 'counceling', 'councellor', 'council', 'councilor', 'counsel', 'counselers', 'counseling', 'counselling', 'counsellor', 'counselor', 'counselors', 'count', 'countdown', 'counter', 'counterproductive', 'counters', 'counties', 'counting', 'countless', 'countries', 'country', 'counts', 'county', 'couple', 'coupled', 'couples', 'courage', 'courageous', 'course', 'coursed', 'courses', 'coursework', 'court', 'courtroom', 'courts', 'cousin', 'cousins', 'covenant', 'coventry', 'cover', 'covered', 'covering', 'covers', 'covert', 'coward', 'cowering', 'coworker', 'coworkers', 'cows', 'cozy', 'cpap', 'cps', 'cptsd', 'crab', 'crack', 'cracked', 'crackers', 'cracks', 'cram', 'cramps', 'cranes', 'cranky', 'crap', 'crappy', 'crash', 'crashed', 'crashes', 'crashing', 'crates', 'crave', 'craven', 'craves', 'craving', 'cravings', 'craw', 'crawl', 'crawling', 'crazier', 'crazy', 'crazyass', 'crazyasses', 'cream', 'creams', 'create', 'created', 'creates', 'creating', 'creation', 'creative', 'creativity', 'creatures', 'cred', 'credential', 'credit', 'credits', 'creep', 'creeped', 'creeping', 'creeps', 'creepy', 'cremated', 'cremation', 'crept', 'crew', 'cricket', 'cried', 'cries', 'crime', 'crimes', 'criminal', 'cringe', 'cringeworthy', 'cripples', 'crippling', 'crisis', 'crisp', 'criss', 'criteria', 'critical', 'criticise', 'criticism', 'criticisms', 'criticize', 'criticized', 'criticizes', 'criticizing', 'critique', 'critiscise', 'croatia', 'crooked', 'cropped', 'cropping', 'cross', 'crossed', 'crossfit', 'crossing', 'crosspost', 'crossroads', 'crowd', 'crowded', 'crowley', 'crucial', 'cruel', 'cruise', 'cruising', 'crumble', 'crumbling', 'crumpled', 'crush', 'crushed', 'crushes', 'crushing', 'crushingly', 'crutch', 'crutches', 'cry', 'crybaby', 'crying', 'crypto', 'crystal', 'cs', 'csa', 'csf', 'cuddle', 'cuddled', 'cuddles', 'cuddling', 'cudi', 'cue', 'cuisines', 'culminated', 'cult', 'cults', 'culture', 'cultures', 'cum', 'cums', 'cunt', 'cuo', 'cup', 'cupboards', 'cups', 'curating', 'curb', 'cure', 'cured', 'curfew', 'curing', 'curiosity', 'curious', 'curl', 'current', 'currently', 'curse', 'cursed', 'curses', 'cursing', 'cursory', 'curve', 'cus', 'cushioning', 'cushions', 'cushy', 'cuss', 'cussed', 'cussing', 'custody', 'customer', 'customers', 'cut', 'cute', 'cuts', 'cutting', 'cuz', 'cv', 'cw', 'cycle', 'cycles', 'cyclic', 'cyclical', 'cymbalta', 'cyst', 'cysts', 'da', 'dad', 'daddy', 'dads', 'daily', 'dallas', 'dam', 'damage', 'damaged', 'damaging', 'damn', 'damned', 'damp', 'dan_coyle', 'dance', 'dancer', 'dancing', 'dandy', 'danger', 'dangerous', 'daniel', 'danika', 'dank', 'danlos', 'danny', 'dar', 'dare', 'dark', 'darkest', 'darkness', 'darling', 'darvin', 'dash', 'data', 'database', 'date', 'dated', 'dates', 'dating', 'daughter', 'daughters', 'dave', 'david', 'dawson', 'daxter', 'day', 'daycare', 'daylight', 'daylights', 'days', 'daytime', 'daze', 'dbt', 'dc', 'ddlg', 'dds', 'de', 'deactivated', 'dead', 'deadbedrooms', 'deadheaded', 'deadline', 'deadlines', 'deadly', 'deaf', 'deal', 'dealer', 'dealers', 'dealing', 'dealings', 'deals', 'dealt', 'dear', 'dearly', 'death', 'deathbed', 'deaths', 'debate', 'debated', 'debating', 'debilitating', 'debit', 'debris', 'debt', 'debts', 'dec', 'decade', 'decades', 'decals', 'decay', 'decaying', 'deceased', 'deceit', 'december', 'decency', 'decent', 'decently', 'deception', 'decide', 'decided', 'decidedly', 'decides', 'deciding', 'decision', 'decisions', 'decivilization', 'declaration', 'declare', 'decline', 'declined', 'declining', 'decrease', 'decreasing', 'dedicated', 'dedicating', 'dedication', 'deemed', 'deep', 'deepened', 'deeper', 'deepest', 'deeply', 'deer', 'defaming', 'default', 'defaulted', 'defeat', 'defeated', 'defecated', 'defective', 'defects', 'defend', 'defended', 'defending', 'defends', 'defense', 'defensive', 'defensiveness', 'define', 'defined', 'definetely', 'definetly', 'definitely', 'definition', 'definitive', 'deflects', 'deformity', 'defroster', 'defrosting', 'defy', 'degenerate', 'degenerated', 'degenerative', 'degradation', 'degrading', 'degree', 'degrees', 'dehydrated', 'dehydrating', 'dehydration', 'deja', 'delay', 'delayed', 'delays', 'delegate', 'delete', 'deleted', 'deletes', 'deleting', 'deli', 'deliberately', 'deliberation', 'delicate', 'delicious', 'delighted', 'delinquent', 'deliver', 'delivered', 'deliveries', 'delivery', 'delt', 'deluded', 'delusional', 'delusions', 'delve', 'delved', 'demand', 'demanded', 'demanding', 'demands', 'demeaning', 'demeanour', 'dementia', 'demise', 'democrats', 'demographic', 'demolish', 'demonic', 'demonizing', 'demons', 'demonstrable', 'demonstrate', 'demonstrated', 'demoralised', 'demoralizing', 'denial', 'denied', 'denies', 'denmark', 'dense', 'dent', 'dental', 'dentist', 'dentists', 'dentures', 'denver', 'deny', 'denying', 'deodorant', 'department', 'depend', 'dependable', 'depended', 'dependency', 'dependent', 'depending', 'depends', 'depersonalisation', 'depersonalization', 'depleted', 'deployable', 'depo', 'deported', 'deposit', 'deposited', 'deposits', 'depraved', 'depressant', 'depressants', 'depressed', 'depressing', 'depression', 'depressive', 'deprivation', 'deprived', 'dept', 'depth', 'derealisation', 'dereality', 'derealization', 'dermatologist', 'dermo', 'descended', 'descent', 'descion', 'describe', 'described', 'describes', 'describing', 'description', 'descriptions', 'descriptive', 'desensitising', 'desensitize', 'desert', 'deserve', 'deserved', 'deserves', 'deserving', 'design', 'designated', 'designed', 'designer', 'desirability', 'desire', 'desired', 'desires', 'desk', 'despair', 'desperate', 'desperately', 'desperation', 'despising', 'despite', 'dessert', 'destination', 'destinations', 'destined', 'destiny', 'destroy', 'destroyed', 'destroying', 'destroys', 'destruction', 'destructive', 'detach', 'detached', 'detaching', 'detachment', 'detail', 'detailed', 'detailing', 'details', 'detain', 'detect', 'detection', 'detector', 'deteriorate', 'determind', 'determine', 'determined', 'deterring', 'detrimental', 'detrimentally', 'detroit', 'dev', 'devastated', 'devastating', 'devastation', 'develop', 'develope', 'developed', 'developing', 'development', 'developmental', 'developments', 'deviations', 'device', 'devil', 'devin', 'devised', 'devote', 'devoted', 'devotion', 'dew', 'dfw', 'dh', 'diabetes', 'diabetic', 'diablo', 'diagnose', 'diagnosed', 'diagnoses', 'diagnosis', 'diagnostic', 'diagnostics', 'dial', 'dialed', 'dialogue', 'dialysis', 'diamonds', 'diaphragmatic', 'diarrhea', 'diary', 'diazepam', 'dice', 'dick', 'dictates', 'dictionary', 'did', 'didn', 'didnt', 'didnæèt', 'die', 'died', 'diego', 'dies', 'diet', 'dieting', 'diff', 'differ', 'difference', 'differences', 'different', 'differential', 'differently', 'differing', 'difficult', 'difficulties', 'difficulty', 'diffrent', 'diffuse', 'dig', 'digest', 'digestive', 'digging', 'digital', 'digits', 'dignity', 'digress', 'dilemma', 'dime', 'dimensions', 'diminish', 'diminished', 'din', 'diner', 'dining', 'dinner', 'dinners', 'diploma', 'dipped', 'dire', 'direct', 'directed', 'directing', 'direction', 'directions', 'directl', 'directly', 'director', 'dirt', 'dirty', 'disabilities', 'disability', 'disabled', 'disadvantaged', 'disagree', 'disagreed', 'disagreement', 'disagreements', 'disagrees', 'disappear', 'disappeared', 'disappearing', 'disappointed', 'disappointing', 'disappointment', 'disapproval', 'disapproving', 'disassociate', 'disassociated', 'disassociating', 'disassociation', 'disaster', 'disbelief', 'disc', 'discern', 'discernment', 'discharge', 'discharged', 'disciplinary', 'discipline', 'disclaimer', 'disclose', 'disclosed', 'disclosure', 'discomfort', 'disconcerting', 'disconnect', 'disconnected', 'discord', 'discount', 'discounted', 'discourage', 'discouraged', 'discouraging', 'discourse', 'discovered', 'discovering', 'discovery', 'discreet', 'discrimination', 'discuss', 'discussed', 'discussing', 'discussion', 'discussions', 'disease', 'diseases', 'disgrace', 'disguises', 'disgust', 'disgusted', 'disgusting', 'disgustingly', 'dish', 'disheartening', 'dishes', 'disinfect', 'disjointed', 'disk', 'dislike', 'dislikes', 'disliking', 'dislodge', 'dismantle', 'dismiss', 'dismissal', 'dismissed', 'dismissive', 'disney', 'disobedient', 'disorder', 'disorders', 'disorganized', 'disoriented', 'disowned', 'dispatcher', 'dispensary', 'displaced', 'display', 'displayed', 'displeased', 'displeasure', 'disposable', 'disproportional', 'dispute', 'disputes', 'disqualified', 'disregard', 'disregarded', 'disregarding', 'disrespected', 'disrespectful', 'disrupt', 'diss', 'dissapears', 'dissatisfaction', 'dissertation', 'disservice', 'dissociate', 'dissociated', 'dissociates', 'dissociating', 'dissociation', 'dissociations', 'dissociative', 'dissolving', 'distance', 'distanced', 'distances', 'distancing', 'distant', 'distinct', 'distinctly', 'distingusting', 'distorted', 'distorting', 'distract', 'distracted', 'distraction', 'distractions', 'distraught', 'distress', 'distressed', 'district', 'districts', 'disturbed', 'disturbers', 'disturbing', 'disturbs', 'ditch', 'ditched', 'ditzy', 'dive', 'divers', 'diverse', 'divide', 'divided', 'diving', 'divorce', 'divorced', 'divorces', 'divya', 'diwn', 'dizziness', 'dizzy', 'dj', 'dknt', 'dl', 'dm', 'dmt', 'dmv', 'dna', 'dnd', 'do', 'doc', 'docile', 'docket', 'docs', 'doctor', 'doctorate', 'doctorates', 'doctors', 'document', 'documentary', 'documentation', 'documented', 'documenting', 'documents', 'dodgy', 'doe', 'doer', 'doers', 'does', 'doesn', 'doesnt', 'doesnå', 'dog', 'dogging', 'doggo', 'doggy', 'dogs', 'doing', 'dole', 'doll', 'dollar', 'dollarama', 'dollars', 'domestic', 'domesticviolence', 'dominant', 'dominated', 'don', 'donald', 'donate', 'donated', 'donates', 'donating', 'donation', 'donations', 'done', 'donna', 'donor', 'dont', 'donå', 'doodles', 'dooley', 'doom', 'doomed', 'doomsday', 'door', 'doordash', 'doors', 'doorstall', 'doorstep', 'doorway', 'doping', 'dorky', 'dorm', 'dorms', 'dosage', 'dose', 'doseage', 'dosent', 'doses', 'dotard', 'dotting', 'dotty', 'double', 'doubled', 'doubt', 'doubted', 'doubting', 'doubts', 'douche', 'douchey', 'doug', 'down', 'downers', 'downfall', 'downgraded', 'downhill', 'downing', 'download', 'downloaded', 'downloading', 'downloads', 'downplay', 'downplayed', 'downplaying', 'downright', 'downs', 'downside', 'downstairs', 'downtown', 'downvotes', 'downvoting', 'downward', 'downwards', 'doze', 'dozen', 'dozens', 'dp', 'dpdr', 'dpss', 'dr', 'draft', 'drafts', 'drag', 'dragged', 'dragging', 'drags', 'drain', 'drained', 'drama', 'dramatic', 'drank', 'drastically', 'draw', 'drawbacks', 'drawing', 'drawings', 'drawn', 'dread', 'dreadfully', 'dreading', 'dream', 'dreams', 'dreamt', 'drears', 'drenched', 'dress', 'dressed', 'dressers', 'dresses', 'dressing', 'dried', 'drift', 'drifted', 'drifting', 'drill', 'drills', 'drink', 'drinking', 'drinks', 'drip', 'dripping', 'drive', 'driveable', 'driven', 'driver', 'drivers', 'drives', 'driveway', 'driving', 'drop', 'dropped', 'dropping', 'drops', 'drove', 'drown', 'drowned', 'drowning', 'drs', 'drug', 'drugged', 'druggies', 'drugs', 'drum', 'drums', 'drunk', 'drunken', 'drunkenly', 'drunker', 'drunks', 'dry', 'dryland', 'dsm', 'dss', 'du', 'dubai', 'ducked', 'duct', 'dude', 'dudes', 'due', 'dug', 'duh', 'dui', 'dull', 'dulling', 'duly', 'dumb', 'dumbbells', 'dumbwaiter', 'dump', 'dumped', 'dumps', 'dumpster', 'dundee', 'dunno', 'duplex', 'duration', 'duress', 'during', 'dursleys', 'dusk', 'duties', 'duty', 'duvet', 'dv', 'dvd', 'dw', 'dwarfism', 'dwell', 'dwellers', 'dwelling', 'dwi', 'dwindling', 'dwp', 'dying', 'dynamic', 'dynamics', 'dysfunction', 'dysfunctional', 'dyskeratosis', 'dysmorphia', 'dysphoria', 'ea', 'each', 'eachother', 'eager', 'eapecially', 'ear', 'earlier', 'earliest', 'early', 'earmuffs', 'earn', 'earned', 'earner', 'earning', 'earns', 'earphones', 'earplugs', 'ears', 'earshot', 'earth', 'earthbag', 'ease', 'eased', 'easier', 'easiest', 'easily', 'east', 'easter', 'easy', 'eat', 'eaten', 'eateries', 'eating', 'eats', 'ebt', 'echoey', 'eco', 'economically', 'economics', 'ecs', 'ecstasy', 'ecstatic', 'ect', 'ectropion', 'ed', 'edad', 'eddie', 'eddy', 'edge', 'edging', 'edgy', 'edit', 'edit2', 'edited', 'editing', 'educated', 'educates', 'education', 'educational', 'eerie', 'efc', 'effate', 'effect', 'effected', 'effecting', 'effective', 'effectively', 'effectiveness', 'effects', 'effeminate', 'effexor', 'efficiency', 'efficient', 'effort', 'effortless', 'effortlessly', 'efforts', 'eft', 'egg', 'eggs', 'egiftcard', 'ego', 'ehlers', 'eiffel', 'eight', 'eighteen', 'either', 'ejected', 'elaborate', 'elated', 'elbow', 'elbowed', 'elbowing', 'elderly', 'eldest', 'elected', 'election', 'elections', 'electric', 'electrical', 'electrician', 'electricity', 'electro', 'electrodes', 'electronics', 'element', 'elementary', 'elements', 'elephant', 'elephants', 'elevated', 'eleven', 'eleventeenth', 'eligibility', 'eligible', 'elixinol', 'ellis', 'else', 'elsewhere', 'em', 'email', 'emailed', 'emails', 'emancipation', 'emasculating', 'embarrased', 'embarrass', 'embarrassed', 'embarrasses', 'embarrassing', 'embarrassment', 'embarrassments', 'embassy', 'embedded', 'embrace', 'embracing', 'embroidery', 'emdr', 'emerg', 'emergencies', 'emergency', 'emetophobia', 'emily', 'emoji', 'emojis', 'emotion', 'emotional', 'emotionally', 'emotions', 'empath', 'empathetic', 'empathize', 'empathy', 'emphasize', 'employed', 'employee', 'employees', 'employer', 'employment', 'empowered', 'empowering', 'empowerment', 'emptiness', 'empty', 'ems', 'emt', 'en', 'enabling', 'enamored', 'enamoured', 'encampments', 'encapsulates', 'encephalitis', 'encounter', 'encountered', 'encounters', 'encourage', 'encouraged', 'encouragement', 'encourages', 'encouraging', 'encrypted', 'end', 'endangerment', 'endeavor', 'ended', 'ending', 'endings', 'endless', 'endlessly', 'endorphins', 'endowed', 'ends', 'endure', 'endured', 'enduring', 'enemies', 'enemy', 'energetic', 'energize', 'energizing', 'energy', 'enforce', 'enforcement', 'engage', 'engaged', 'engagement', 'engages', 'engaging', 'engine', 'engineer', 'engineering', 'engineers', 'england', 'english', 'engman', 'enhacems', 'enhanced', 'enjoy', 'enjoyable', 'enjoyed', 'enjoying', 'enjoys', 'enormous', 'enough', 'enraged', 'enrolled', 'enrollment', 'ensemble', 'ensue', 'ensued', 'ensure', 'ensuring', 'entangled', 'enter', 'entered', 'entering', 'enters', 'entertain', 'entertained', 'entertainer', 'entertaining', 'entertainment', 'enthusiasm', 'enthusiastic', 'enthusiastically', 'entire', 'entirely', 'entirety', 'entitled', 'entity', 'entrance', 'entrances', 'entrenched', 'entrepreneur', 'entrepreneurs', 'entrepreneurship', 'entries', 'entry', 'envied', 'envious', 'enviromnet', 'environment', 'environmental', 'environments', 'envy', 'ep', 'epic', 'epidemic', 'epidermal', 'epilepsy', 'episode', 'episodes', 'equal', 'equally', 'equate', 'equated', 'equation', 'equipment', 'equipped', 'equitable', 'equivalent', 'er', 'erase', 'erasing', 'erection', 'erections', 'ericsson', 'erik', 'ernie', 'erode', 'eroded', 'erogenous', 'err', 'errand', 'errands', 'erratic', 'erroneously', 'error', 'errors', 'erupts', 'es', 'esa', 'escalate', 'escalated', 'escalates', 'escalating', 'escape', 'escaped', 'escaping', 'escapism', 'escitalopram', 'escort', 'esk', 'esoteric', 'especially', 'esports', 'esque', 'essay', 'essays', 'essential', 'essentially', 'essentials', 'est', 'establish', 'established', 'estate', 'estazolam', 'esteem', 'estimate', 'estimated', 'estimation', 'et', 'etc', 'eternal', 'eternally', 'ethical', 'etiquette', 'eucalyptus', 'euphoria', 'eurasian', 'euro', 'europe', 'euthanized', 'eva', 'evacuated', 'evade', 'evaluating', 'evaluation', 'evaluations', 'evaluator', 'evangelism', 'evangelist', 'eve', 'even', 'evening', 'evenings', 'event', 'eventially', 'events', 'eventual', 'eventually', 'ever', 'everdently', 'eversince', 'every', 'everybody', 'everyday', 'everyone', 'everythig', 'everything', 'everythinggoals', 'everytime', 'everywhere', 'evicted', 'eviction', 'evidence', 'evidences', 'evil', 'evolve', 'evolved', 'ex', 'exacerbate', 'exacerbated', 'exact', 'exactly', 'exaggerate', 'exaggerated', 'exaggerating', 'exaggeration', 'exam', 'examine', 'examiner', 'example', 'examples', 'exams', 'exarcebate', 'exasperated', 'exbf', 'exceed', 'excel', 'excellent', 'except', 'exception', 'exceptional', 'excessive', 'excessively', 'exchange', 'exchanged', 'excite', 'excited', 'excitement', 'exciting', 'exclaim', 'excluded', 'excluding', 'exclusive', 'excuse', 'excused', 'excuses', 'excute', 'exe', 'exec', 'execute', 'executive', 'exemption', 'exercise', 'exercised', 'exercises', 'exercising', 'exert', 'exes', 'exhale', 'exhaust', 'exhausted', 'exhausting', 'exhaustion', 'exhibiting', 'exhibition', 'exhibits', 'exist', 'existant', 'existed', 'existence', 'existent', 'existing', 'exists', 'exit', 'exited', 'exiting', 'expand', 'expanded', 'expanding', 'expect', 'expectations', 'expected', 'expecting', 'expects', 'expelled', 'expense', 'expenses', 'expensive', 'experience', 'experienced', 'experiences', 'experiencing', 'experiment', 'experimental', 'experimenting', 'experiments', 'expersses', 'expert', 'expertise', 'expire', 'expired', 'expiressed', 'explain', 'explained', 'explaining', 'explains', 'explanation', 'explanations', 'explicit', 'explicitly', 'explode', 'exploded', 'exploding', 'exploitation', 'exploited', 'explore', 'explored', 'explores', 'exploring', 'explosives', 'exponentially', 'expose', 'exposed', 'exposition', 'exposure', 'express', 'expressed', 'expressing', 'expression', 'expressive', 'expressway', 'exsample', 'extend', 'extended', 'extending', 'extends', 'extension', 'extensive', 'extensively', 'extent', 'external', 'externally', 'extinction', 'extort', 'extra', 'extraordinary', 'extreme', 'extremely', 'extremes', 'extremities', 'extremly', 'extroverted', 'exuding', 'eye', 'eyebrows', 'eyecandy', 'eyed', 'eyelids', 'eyes', 'f150', 'f17', 'f18', 'f2', 'f26', 'f32', 'f402166', 'fabricating', 'facades', 'face', 'facebook', 'faced', 'faces', 'facetime', 'facets', 'facial', 'faciitis', 'facilities', 'facility', 'facing', 'fact', 'faction', 'factor', 'factors', 'factory', 'facts', 'fade', 'fades', 'fafsa', 'fail', 'failed', 'failing', 'fails', 'failure', 'failures', 'fainted', 'fainting', 'fair', 'fairfax', 'fairly', 'faith', 'faithful', 'fake', 'faking', 'falcompro', 'fall', 'fallen', 'falling', 'fallout', 'falls', 'false', 'falsely', 'faltered', 'familial', 'familiar', 'familiarity', 'families', 'family', 'famous', 'famously', 'fan', 'fanclub', 'fancy', 'fanfiction', 'fantasies', 'fantasize', 'fantasized', 'fantasizing', 'fantastic', 'fantasy', 'far', 'fare', 'farm', 'farmers', 'farthest', 'fascinated', 'fascinates', 'fascination', 'fascist', 'fast', 'faster', 'fastest', 'fastforward', 'fat', 'fatal', 'fate', 'father', 'fathering', 'fathers', 'fathom', 'fatigue', 'fatigued', 'fault', 'faultily', 'faults', 'faulty', 'fav', 'favor', 'favorite', 'favorites', 'favors', 'favour', 'favourite', 'fb', 'fbis', 'fcking', 'fda', 'fealt', 'fear', 'feared', 'fearful', 'fearfully', 'fearing', 'fearless', 'fears', 'feasible', 'feat', 'feb', 'febreze', 'february', 'fed', 'federal', 'feds', 'fee', 'feed', 'feedback', 'feedbacks', 'feeding', 'feeds', 'feel', 'feeling', 'feelings', 'feels', 'feely', 'fees', 'feet', 'feigning', 'felating', 'felf', 'fell', 'fellatio', 'fellow', 'felony', 'felt', 'female', 'females', 'feminine', 'feminist', 'feminization', 'fence', 'fend', 'fender', 'feral', 'fernando', 'ferrets', 'fester', 'festival', 'festivals', 'fetal', 'fetish', 'fever', 'few', 'fewer', 'ffs', 'fh', 'fiance', 'fiancee', 'fiancì', 'fibromyalgia', 'fidesz', 'fidgeting', 'field', 'fields', 'fiend', 'fifteen', 'fifth', 'fifties', 'fight', 'fighter', 'fighters', 'fighting', 'fights', 'figment', 'figuratively', 'figure', 'figured', 'figures', 'figuring', 'fil', 'file', 'filed', 'files', 'filing', 'filipino', 'fill', 'filled', 'filling', 'fills', 'film', 'filmed', 'filmmaker', 'filthy', 'fin', 'final', 'finalized', 'finally', 'finals', 'finance', 'finances', 'financial', 'financially', 'financials', 'financing', 'find', 'finding', 'findings', 'finds', 'fine', 'fined', 'fines', 'finger', 'fingering', 'fingernails', 'fingers', 'finish', 'finished', 'finishes', 'finishing', 'finland', 'finnaly', 'finnished', 'fire', 'firebase', 'fired', 'firefighter', 'firefighters', 'fireworks', 'firm', 'firmed', 'first', 'firstly', 'firstworldproblems', 'fish', 'fishing', 'fist', 'fists', 'fit', 'fitness', 'fits', 'fitted', 'fitting', 'fiv', 'five', 'fix', 'fixed', 'fixing', 'flabby', 'flag', 'flags', 'flake', 'flaking', 'flare', 'flares', 'flaring', 'flash', 'flashback', 'flashbacks', 'flashes', 'flashies', 'flashlight', 'flashover', 'flat', 'flatmates', 'flats', 'flattered', 'flattering', 'flavors', 'flaw', 'flawed', 'flaws', 'flea', 'fleas', 'fled', 'flee', 'fleeing', 'fleetwood', 'flew', 'flex', 'flexibility', 'flexible', 'flies', 'flight', 'flights', 'flinched', 'flinching', 'flinchy', 'fling', 'flings', 'flip', 'flipped', 'flipping', 'flirt', 'flirtatious', 'flirter', 'flirting', 'flirts', 'flirty', 'floating', 'flood', 'flooded', 'flooding', 'floods', 'floor', 'floorboards', 'floored', 'florence', 'florida', 'floss', 'flossing', 'flourish', 'flow', 'flower', 'flowers', 'flown', 'flu', 'fluctuate', 'fluctuates', 'fluctuations', 'fluent', 'fluid', 'flunitrazepam', 'fluoxetine', 'flupentixol', 'flurazepam', 'flush', 'flushed', 'flushes', 'flustered', 'flutters', 'fly', 'flying', 'fmil', 'fmla', 'foced', 'focus', 'focused', 'focusing', 'foe', 'fog', 'foggy', 'foisted', 'fold', 'folding', 'folks', 'follow', 'followed', 'followers', 'following', 'follows', 'fond', 'fondle', 'fondling', 'fontana', 'food', 'foods', 'foodservice', 'foodstamps', 'fool', 'fooling', 'foolish', 'foot', 'footage', 'football', 'footing', 'footsteps', 'foquest', 'for', 'forbearance', 'forbid', 'forbidden', 'force', 'forced', 'forcefully', 'forces', 'forcibly', 'forcing', 'ford', 'fore', 'forearm', 'forearms', 'foreclosed', 'foreclosure', 'forehead', 'foreign', 'foremost', 'foreplay', 'foreseeable', 'forest', 'forever', 'forge', 'forged', 'forget', 'forgetfulness', 'forgets', 'forgetting', 'forgive', 'forgiveness', 'forgives', 'forgiving', 'forgot', 'forgotten', 'form', 'formally', 'format', 'formatting', 'formed', 'former', 'formerly', 'forming', 'forms', 'formula', 'formulate', 'formulates', 'forplay', 'forrest', 'forseeable', 'fort', 'forth', 'fortunate', 'fortunately', 'fortune', 'forum', 'forums', 'forward', 'forwards', 'foster', 'fostered', 'fostering', 'fought', 'found', 'foundation', 'foundations', 'four', 'fourth', 'foward', 'fowleri', 'fox', 'foxnews', 'fr', 'fractured', 'fractures', 'fragile', 'frame', 'fran', 'francisco', 'frank', 'frankly', 'frantic', 'frantically', 'fraud', 'fre', 'freak', 'freaked', 'freakin', 'freaking', 'freakish', 'freaks', 'freckle', 'fred', 'free', 'freedom', 'freefall', 'freelance', 'freelancer', 'freely', 'freepathshala', 'freeway', 'freeze', 'freezer', 'freezing', 'freight', 'french', 'frequency', 'frequent', 'frequently', 'fresh', 'fresheners', 'freshly', 'freshman', 'fret', 'friday', 'fridge', 'fried', 'friend', 'friendliness', 'friendly', 'friends', 'friendship', 'friendships', 'friendzoned', 'friggin', 'fright', 'frightened', 'frightening', 'frighteningly', 'frightens', 'frigid', 'fro', 'from', 'front', 'fronts', 'froze', 'frozen', 'frugal', 'fruit', 'fruition', 'fruits', 'frustrated', 'frustrating', 'frustration', 'frustrations', 'fry', 'frying', 'ft', 'fu', 'fuck', 'fucked', 'fuckers', 'fuckery', 'fuckin', 'fucking', 'fuckkk', 'fucks', 'fudge', 'fuel', 'fueled', 'fulfill', 'fulfilled', 'fulfilling', 'full', 'fulltime', 'fully', 'fumble', 'fumbled', 'fun', 'function', 'functional', 'functioned', 'functioning', 'functions', 'fund', 'fundamental', 'funded', 'funding', 'fundraiser', 'fundraising', 'funds', 'funeral', 'funerals', 'fungus', 'funk', 'funnelled', 'funniest', 'funnily', 'funny', 'fur', 'furious', 'furiously', 'furnace', 'furnish', 'furnished', 'furnishing', 'furnishings', 'furniture', 'further', 'furthermore', 'fury', 'fuse', 'fusion', 'fuss', 'futile', 'futon', 'future', 'fwb', 'fyi', 'gaba', 'gabapentin', 'gad', 'gaga', 'gage', 'gagging', 'gain', 'gained', 'gainful', 'gainfully', 'gaining', 'gains', 'gal', 'gall', 'gallery', 'gals', 'gamble', 'gambling', 'game', 'gamer', 'gamers', 'games', 'gamestop', 'gaming', 'gang', 'gangs', 'gap', 'gaping', 'garage', 'garbage', 'garbled', 'garden', 'garnished', 'garret', 'gas', 'gaslight', 'gaslighted', 'gaslighting', 'gasoline', 'gasping', 'gastritis', 'gate', 'gather', 'gathered', 'gathering', 'gatherings', 'gatorade', 'gauge', 'gauging', 'gave', 'gay', 'gaze', 'gazillion', 'gcs', 'gcse', 'ge', 'gear', 'geared', 'gears', 'ged', 'gel', 'gelatin', 'gender', 'genders', 'general', 'generalised', 'generalists', 'generality', 'generalized', 'generally', 'generate', 'generated', 'generation', 'generations', 'generic', 'generosity', 'generous', 'generously', 'genetic', 'genetically', 'genital', 'genitals', 'genre', 'gentle', 'gentleman', 'gentlemanly', 'gentlemen', 'gently', 'genuine', 'genuinely', 'genuineness', 'geographic', 'geographical', 'geology', 'georgia', 'german', 'germantown', 'germany', 'germs', 'gesture', 'gestures', 'get', 'gets', 'getter', 'getting', 'gf', 'ghost', 'ghosted', 'ghosting', 'ghosts', 'giant', 'gibberish', 'giddy', 'gift', 'giftcard', 'gifts', 'gig', 'gigabit', 'gigantic', 'giggled', 'giggling', 'giggly', 'gigs', 'ginger', 'ginny', 'girl', 'girlfriend', 'girlfriends', 'girls', 'gist', 'github', 'give', 'giveaway', 'given', 'giver', 'gives', 'giving', 'glad', 'gladly', 'glamorizing', 'glamorous', 'glance', 'glances', 'gland', 'glares', 'glaring', 'glass', 'glasses', 'glazed', 'gleeful', 'glendale', 'glider', 'glimmer', 'glimpse', 'glinda', 'glittering', 'global', 'globe', 'globus', 'gloom', 'gloves', 'glowstick', 'glued', 'glycine', 'gm', 'gme', 'go', 'goa', 'goads', 'goal', 'goalposts', 'goals', 'god', 'goddamn', 'godforbid', 'godmother', 'gods', 'goes', 'gofund', 'gofundme', 'gofundmes', 'goig', 'goin', 'going', 'goiter', 'gold', 'golden', 'golems', 'gone', 'gong', 'gonn', 'gonna', 'good', 'goodbye', 'goodie', 'goodluck', 'goodness', 'goods', 'goodwill', 'goof', 'goofy', 'google', 'googled', 'googling', 'goose', 'gophone', 'gore', 'gorgeous', 'gory', 'gosh', 'gossipy', 'got', 'gotama', 'gotta', 'gotten', 'govern', 'government', 'gown', 'gowns', 'gp', 'gpa', 'gps', 'gr', 'grab', 'grabbed', 'grabbing', 'grabs', 'grace', 'graces', 'gracious', 'grad', 'grade', 'grades', 'gradually', 'graduate', 'graduated', 'graduating', 'graduation', 'graft', 'grain', 'gram', 'gramma', 'grammar', 'grammatical', 'grammer', 'grampa', 'grampy', 'grams', 'grand', 'grandad', 'grandchildren', 'granddaughter', 'granddaughters', 'grandfather', 'grandma', 'grandmother', 'grandpa', 'grandparent', 'grandparents', 'grandson', 'granola', 'grant', 'granted', 'granting', 'grants', 'grape', 'graphic', 'graphics', 'grasp', 'grasped', 'grasps', 'grass', 'grateful', 'grates', 'gratification', 'gratitude', 'grave', 'graveyard', 'gravitate', 'gravitated', 'grdual', 'grease', 'great', 'greated', 'greater', 'greatest', 'greatful', 'greatly', 'greedy', 'greek', 'green', 'greener', 'greeted', 'greetings', 'greif', 'grew', 'greyhound', 'grief', 'grievances', 'grieve', 'grieving', 'grill', 'grim', 'grimm', 'grimy', 'grin', 'grip', 'gripped', 'grips', 'groceries', 'grocery', 'groggy', 'groin', 'groomed', 'groped', 'gross', 'grossed', 'ground', 'grounded', 'grounding', 'grounds', 'group', 'group__', 'groupon', 'groups', 'grovel', 'grow', 'growing', 'growl', 'growled', 'growls', 'grown', 'growth', 'growths', 'grumbles', 'grumpy', 'grunge', 'grunt', 'gsve', 'gsxr', 'gtfo', 'guarantee', 'guaranteed', 'guarantees', 'guard', 'guarded', 'guards', 'guess', 'guessed', 'guessing', 'guest', 'guests', 'guidance', 'guide', 'guided', 'guides', 'guiding', 'guilt', 'guilting', 'guilty', 'guise', 'guitar', 'gump', 'gums', 'gun', 'guns', 'gurgaon', 'gurgles', 'guru', 'gushing', 'gusto', 'gut', 'guts', 'guy', 'guys', 'guzzler', 'gym', 'gyms', 'ha', 'habit', 'habitable', 'habits', 'habituated', 'hacker', 'hacks', 'had', 'hadn', 'hadnt', 'haggler', 'haha', 'hail', 'hair', 'hairbrush', 'haircut', 'haircuts', 'haired', 'half', 'halfway', 'hall', 'hallow', 'halloween', 'halls', 'hallucinated', 'hallucinating', 'hallucination', 'hallucinations', 'hallway', 'halted', 'ham', 'hammy', 'hand', 'handed', 'handedly', 'handful', 'handfuls', 'handicapped', 'handing', 'handle', 'handled', 'handles', 'handling', 'handout', 'handouts', 'hands', 'handsome', 'handwriting', 'handy', 'handyman', 'hanes', 'hang', 'hanging', 'hangout', 'hangs', 'hangups', 'happen', 'happend', 'happened', 'happening', 'happens', 'happier', 'happiest', 'happify', 'happily', 'happiness', 'happy', 'haranguing', 'harassed', 'harasses', 'harassing', 'harassment', 'harboring', 'hard', 'hardcore', 'harden', 'harder', 'hardest', 'hardly', 'hardships', 'hardworking', 'harm', 'harmed', 'harmful', 'harming', 'harmless', 'harry', 'harsh', 'harvard', 'has', 'hash', 'hashtag', 'hasn', 'hasnt', 'hassle', 'hat', 'hatchet', 'hate', 'hated', 'hates', 'hating', 'hatred', 'haughty', 'haunts', 'have', 'haven', 'havent', 'havenå', 'haver', 'havesevere', 'having', 'havn', 'havnt', 'hazy', 'hcl', 'he', 'head', 'headache', 'headaches', 'headboard', 'headbutted', 'headcase', 'headed', 'heading', 'headlights', 'headphones', 'heads', 'headspace', 'heal', 'healed', 'healer', 'healing', 'health', 'healthcare', 'healthcode', 'healthier', 'healthiest', 'healthy', 'healz', 'heap', 'hear', 'heard', 'hearing', 'hearings', 'heart', 'heartache', 'heartbeat', 'heartbreak', 'heartbreaking', 'heartbroken', 'heartfelt', 'hearts', 'heartworms', 'heat', 'heatbutting', 'heated', 'heater', 'heaters', 'heath', 'heather', 'heating', 'heaven', 'heavenly', 'heavens', 'heavier', 'heavily', 'heavy', 'hebrew', 'heck', 'heel', 'heels', 'hehe', 'heightened', 'held', 'hell', 'hellavua', 'hellish', 'hello', 'hellscape', 'helmet', 'help', 'helpable', 'helped', 'helpful', 'helpfulness', 'helping', 'helpless', 'helplessness', 'helplines', 'helps', 'helsinki', 'hemiplegic', 'hemorrhaging', 'hence', 'henry', 'hentai', 'her', 'here', 'hermit', 'hero', 'heroes', 'heroic', 'heroin', 'heroine', 'herpes', 'hers', 'herself', 'hes', 'hesitant', 'hesitate', 'heterosexual', 'hey', 'heyyyyyy', 'heå', 'hf', 'hi', 'hid', 'hidden', 'hide', 'hides', 'hiding', 'high', 'higher', 'highest', 'highlands', 'highlight', 'highlighting', 'highlights', 'highly', 'highs', 'highschool', 'highway', 'hijacking', 'hike', 'hill', 'him', 'himself', 'hind', 'hinder', 'hindsight', 'hint', 'hinting', 'hints', 'hip', 'hippie', 'hippopotamus', 'hire', 'hired', 'hires', 'hiring', 'his', 'historically', 'histories', 'history', 'hit', 'hitch', 'hitchhiked', 'hitman', 'hits', 'hitting', 'hleped', 'hm', 'hmm', 'hoard', 'hoarders', 'hoarse', 'hobbies', 'hobbled', 'hobby', 'hobos', 'hocd', 'hodgkin', 'hog', 'hokkaido', 'hold', 'holding', 'holds', 'hole', 'holes', 'holiday', 'holidays', 'holier', 'hollered', 'hollow', 'hollowed', 'hollywood', 'holy', 'home', 'homebaked', 'homebrew', 'homechef', 'homecoming', 'homed', 'homeless', 'homelessness', 'homepage', 'homes', 'homeschool', 'homeschooled', 'homeschooling', 'homescreen', 'homesick', 'homestay', 'homestead', 'hometown', 'homework', 'homies', 'homless', 'homophobia', 'homosexual', 'honeslty', 'honest', 'honestly', 'honesty', 'honey', 'honor', 'honour', 'honours', 'hons', 'hood', 'hook', 'hooked', 'hooking', 'hookup', 'hookups', 'hooping', 'hop', 'hope', 'hoped', 'hopeful', 'hopefully', 'hopefulness', 'hopeless', 'hopelessness', 'hopes', 'hoping', 'hopkins', 'hopped', 'hopping', 'horizon', 'hormonal', 'hormones', 'horrendous', 'horrible', 'horribly', 'horrid', 'horrific', 'horrified', 'horrifying', 'horror', 'horrors', 'horse', 'horseman', 'horseshit', 'hospice', 'hospitable', 'hospital', 'hospitalising', 'hospitalization', 'hospitalize', 'hospitalized', 'hospitals', 'host', 'hostage', 'hostel', 'hostels', 'hostile', 'hostility', 'hosting', 'hosts', 'hot', 'hotel', 'hotels', 'hotline', 'hotspot', 'hottest', 'hour', 'hourly', 'hours', 'house', 'housebroken', 'housed', 'household', 'households', 'housekeeper', 'houseless', 'housemate', 'houses', 'housework', 'housing', 'housr', 'houston', 'how', 'however', 'hows', 'hoyer', 'hr', 'hrs', 'hs', 'hsrc', 'htp', 'https', 'huddle', 'hug', 'huge', 'hugged', 'hugging', 'huggy', 'hugs', 'huh', 'human', 'humane', 'humanity', 'humanly', 'humans', 'humble', 'humidity', 'humiliated', 'humiliates', 'humiliating', 'humiliation', 'humor', 'humour', 'humping', 'hundred', 'hundreds', 'hung', 'hungarian', 'hunger', 'hungry', 'hunted', 'hunting', 'hurdle', 'hurling', 'hurricane', 'hurt', 'hurtful', 'hurting', 'hurts', 'husband', 'husbands', 'hvac', 'hydrated', 'hydrocortisone', 'hygiene', 'hymen', 'hype', 'hyper', 'hyperarousal', 'hyperlinking', 'hypersensitivity', 'hypertension', 'hyperventilated', 'hyperventilating', 'hyperventilation', 'hypervigilance', 'hypervigilant', 'hypervigilence', 'hypoallergenic', 'hypochondria', 'hypochondriac', 'hypocondria', 'hypocondriac', 'hypocongiract', 'hypocrite', 'hypothesis', 'hypothetical', 'hypothetically', 'hysterical', 'hysterically', 'hyundai', 'i3', 'iaff', 'iama', 'iamas', 'ican', 'ice', 'iceberg', 'iceburg', 'icing', 'icky', 'id', 'idea', 'ideal', 'ideas', 'ideation', 'identification', 'identified', 'identify', 'identity', 'idiot', 'idk', 'idol', 'idols', 'idyllic', 'ie', 'if', 'iffy', 'ifs', 'ight', 'ignition', 'ignorance', 'ignorant', 'ignore', 'ignored', 'ignores', 'ignoring', 'ii', 'iifelt', 'il', 'ill', 'illegal', 'illegally', 'illinois', 'illiterate', 'illness', 'illnesses', 'illusion', 'im', 'image', 'images', 'imaginable', 'imagination', 'imaginative', 'imagine', 'imagined', 'imagines', 'imagining', 'immature', 'immaturity', 'immediate', 'immediately', 'immense', 'immensely', 'immigrant', 'immigrants', 'immigrated', 'immigration', 'imminent', 'immoral', 'immortalized', 'immovable', 'immune', 'immunity', 'imo', 'imp', 'impact', 'impacted', 'impacts', 'impair', 'impairment', 'impatient', 'impeccable', 'impede', 'impending', 'implied', 'imply', 'implying', 'importan', 'importance', 'important', 'importantly', 'impose', 'imposed', 'impositions', 'impossible', 'impounded', 'impress', 'impression', 'impressionable', 'imprisoned', 'improve', 'improved', 'improvement', 'improvements', 'improves', 'improving', 'impulse', 'impulsive', 'impulsively', 'in', 'inability', 'inadequacy', 'inadequate', 'inadvisable', 'inanimate', 'inapproapriately', 'inappropriate', 'inappropriately', 'incapable', 'incapacitated', 'incase', 'incel', 'incendent', 'inception', 'incest', 'inch', 'inches', 'incidences', 'incident', 'incidents', 'incisive', 'inciting', 'inclination', 'inclined', 'include', 'included', 'includes', 'including', 'incoherent', 'income', 'incoming', 'incompatibilities', 'incompatibility', 'incompatible', 'incompetent', 'incomplete', 'incongruous', 'inconsequential', 'inconsiderate', 'inconsistent', 'inconvenience', 'inconvenient', 'incorrect', 'incorrectly', 'increase', 'increased', 'increases', 'increasing', 'increasingly', 'incredible', 'incredibly', 'incubator', 'incurable', 'indecisive', 'indeed', 'indefinite', 'indefinitely', 'independence', 'independent', 'independently', 'independents', 'indestructible', 'india', 'indian', 'indiana', 'indica', 'indicate', 'indication', 'indicative', 'indicator', 'indifferent', 'indigestion', 'indirectly', 'individual', 'individuals', 'indoors', 'induced', 'inducing', 'indulge', 'indulgence', 'industry', 'inebriated', 'ineligible', 'inept', 'inescapable', 'inevitable', 'inevitably', 'inexpensive', 'inexplicable', 'infact', 'infancy', 'infant', 'infatuation', 'infection', 'inferior', 'inferred', 'infested', 'infidelity', 'infinite', 'infinitely', 'infinitesimal', 'infinity', 'inflammation', 'inflammatory', 'inflection', 'inflicted', 'inflicting', 'influence', 'influenced', 'influencing', 'influx', 'info', 'infont', 'inform', 'informal', 'information', 'informational', 'informative', 'informed', 'informing', 'infp', 'infuriate', 'infuriated', 'infuriates', 'infusion', 'ingrained', 'inhale', 'inhaler', 'inherently', 'inheritance', 'inherited', 'initial', 'initially', 'initiate', 'initiated', 'initiating', 'initiation', 'initiative', 'inject', 'injection', 'injured', 'injuries', 'injury', 'inkling', 'inlaws', 'inmates', 'inmediately', 'inner', 'innie', 'innocence', 'innocent', 'innocently', 'innocuous', 'innumerous', 'inpatient', 'input', 'insane', 'insanely', 'insanity', 'inscription', 'insect', 'insecure', 'insecurities', 'insecurity', 'insensitive', 'inseparable', 'insert', 'inserted', 'inside', 'insidious', 'insight', 'insightful', 'insights', 'insignificant', 'insincere', 'insist', 'insisted', 'insistence', 'insisting', 'insists', 'insolved', 'insomnia', 'inspected', 'inspection', 'inspiration', 'inspirational', 'inspire', 'inspired', 'inspiring', 'instability', 'instagram', 'install', 'instalment', 'instance', 'instances', 'instant', 'instantly', 'instate', 'instead', 'instinct', 'instincts', 'instinctual', 'institute', 'institution', 'institutional', 'instragram', 'instructions', 'instructor', 'instruments', 'insufferable', 'insufficiently', 'insulated', 'insulin', 'insult', 'insulted', 'insulting', 'insults', 'insurance', 'insured', 'insurmountable', 'intact', 'intake', 'intangible', 'integrate', 'integrity', 'inteligence', 'intellectual', 'intellectually', 'intelligence', 'intelligent', 'intend', 'intended', 'intense', 'intensely', 'intensified', 'intensify', 'intensity', 'intensive', 'intention', 'intentional', 'intentionally', 'intentions', 'interact', 'interacting', 'interaction', 'interactions', 'interchange', 'intercourse', 'interest', 'interested', 'interesting', 'interestingly', 'interests', 'interface', 'interfaces', 'interfere', 'interferes', 'interfering', 'interior', 'interlocks', 'intermingled', 'intermittently', 'intern', 'internal', 'internalized', 'internally', 'internals', 'international', 'interned', 'internet', 'internship', 'internships', 'interpret', 'interrupted', 'intersect', 'intervene', 'intervened', 'intervening', 'intervention', 'interventions', 'interview', 'interviewed', 'interviewers', 'interviewing', 'interviews', 'intimacy', 'intimate', 'intimately', 'intimidated', 'intimidating', 'intimidation', 'into', 'intonation', 'intoxicated', 'intp', 'intro', 'introduce', 'introduced', 'introduction', 'introspection', 'introvert', 'introverted', 'intrusive', 'intubated', 'intuition', 'invade', 'invalidate', 'invalidated', 'invariably', 'invasion', 'invasive', 'inverted', 'invest', 'invested', 'investigation', 'investing', 'investments', 'investors', 'invisible', 'invitation', 'invite', 'invited', 'invites', 'inviting', 'involuntarily', 'involuntary', 'involve', 'involved', 'involvement', 'involves', 'involving', 'inward', 'iop', 'ios', 'iowa', 'ipad', 'iphone', 'ipod', 'iraq', 'ireland', 'irl', 'iron', 'ironic', 'ironically', 'irony', 'irr', 'irrational', 'irrationally', 'irrelevant', 'irreplaceable', 'irresponsible', 'irreversible', 'irritability', 'irritable', 'irritant', 'irritated', 'irritation', 'is', 'isaac', 'ish', 'island', 'isn', 'isnt', 'iso', 'isolate', 'isolated', 'isolating', 'isolation', 'isps', 'israel', 'issue', 'issued', 'issues', 'it', 'italian', 'itch', 'itchy', 'item', 'items', 'iterate', 'itherapy', 'itll', 'its', 'itself', 'itæès', 'iud', 'iv', 'ive', 'ixtlahuaca', 'iå', 'jabbed', 'jabs', 'jack', 'jacked', 'jacking', 'jacks', 'jackson', 'jaden', 'jail', 'jailed', 'jak', 'jake', 'jam', 'jamaican', 'james', 'jamie', 'jan', 'jane', 'janes', 'janet', 'january', 'japan', 'japanese', 'jar', 'jason', 'jaw', 'jay', 'jealous', 'jealousy', 'jean', 'jeans', 'jeff', 'jehovah', 'jelly', 'jenna', 'jenny', 'jeopardize', 'jerk', 'jerky', 'jersey', 'jessica', 'jessie', 'jesus', 'jett', 'jewelry', 'jewish', 'jfk', 'jia', 'jiang', 'jiggle', 'jim', 'jimmy', 'jimmyjuicebox', 'jittery', 'jive', 'jnmil', 'job', 'jobbik', 'jobless', 'jobs', 'joe', 'jog', 'jogging', 'john', 'johns', 'join', 'joined', 'joint', 'joints', 'joke', 'joked', 'jokes', 'jokey', 'joking', 'jokingly', 'jong', 'joseph', 'journal', 'journaled', 'journaling', 'journalists', 'journey', 'joy', 'jpsu', 'jude', 'judge', 'judged', 'judgement', 'judgemental', 'judgements', 'judges', 'judging', 'judgment', 'judgmental', 'judment', 'juice', 'july', 'jumbled', 'jumbles', 'jump', 'jumped', 'jumper', 'jumping', 'jumps', 'jumpsuit', 'jumpy', 'junctions', 'june', 'junior', 'junk', 'just', 'justice', 'justified', 'justify', 'justifying', 'justine', 'juststopthinking', 'juvenile', 'jyy4qm', 'kane', 'kansas', 'karma', 'kate', 'kavanaugh', 'kayak', 'kayaking', 'kebab', 'ked', 'keen', 'keep', 'keeping', 'keeps', 'kentucky', 'kept', 'ketamine', 'key', 'keyboard', 'keyring', 'keys', 'kick', 'kicked', 'kicker', 'kicking', 'kicks', 'kid', 'kiddie', 'kidding', 'kiddo', 'kidnap', 'kidnapped', 'kidnappings', 'kidney', 'kids', 'kill', 'killed', 'killer', 'killers', 'killing', 'kills', 'kilos', 'kim', 'kimber', 'kind', 'kinda', 'kinder', 'kindest', 'kindle', 'kindly', 'kindness', 'kinds', 'king', 'kings', 'kink', 'kinks', 'kiss', 'kissed', 'kisser', 'kisses', 'kissing', 'kit', 'kitchen', 'kits', 'kitten', 'kitty', 'kiwearing', 'kk', 'klonopin', 'km', 'knee', 'kneed', 'knees', 'knew', 'knife', 'knight', 'knives', 'knock', 'knocked', 'knocking', 'knocks', 'knots', 'know', 'knowing', 'knowledge', 'knowledgeable', 'known', 'knows', 'kohl', 'korea', 'korean', 'kosher', 'kratom', 'kratos', 'krillin', 'kroger', 'kubrick', 'kumar', 'kyle', 'l5', 'la', 'lab', 'label', 'labeled', 'labelled', 'labia', 'labor', 'laborious', 'labour', 'laboured', 'labradoodle', 'labradoodles', 'labrador', 'labs', 'labyrinth', 'laced', 'lack', 'lacked', 'lacking', 'lacklustre', 'ladder', 'lads', 'lady', 'lags', 'laid', 'lake', 'lakeland', 'lakes', 'lame', 'lamictal', 'lamp', 'lampooned', 'lamps', 'land', 'landed', 'landlady', 'landline', 'landlord', 'landlords', 'landscaping', 'landslide', 'laney', 'langar', 'language', 'languages', 'languge', 'lap', 'lapsed', 'laptop', 'laptops', 'large', 'largely', 'larger', 'las', 'lash', 'lashed', 'lashes', 'lashing', 'last', 'lasted', 'laster', 'lastly', 'lasts', 'latch', 'latched', 'late', 'lately', 'later', 'latest', 'latin', 'latina', 'latinos', 'latte', 'latter', 'laugh', 'laughable', 'laughed', 'laughing', 'laught', 'launching', 'laundromats', 'laundry', 'lavender', 'lavish', 'law', 'laws', 'lawyer', 'lawyers', 'lax', 'lay', 'layer', 'laying', 'layoff', 'lays', 'lazier', 'lazt', 'lazy', 'lb', 'lbs', 'lcsws', 'ldr', 'lead', 'leader', 'leadership', 'leading', 'leads', 'league', 'leak', 'leaked', 'lean', 'leandro', 'leaned', 'leaning', 'leans', 'leant', 'learn', 'learned', 'learning', 'learnt', 'lease', 'leased', 'leash', 'leasing', 'least', 'leave', 'leaves', 'leaving', 'lecture', 'lectured', 'lectures', 'led', 'ledges', 'leech', 'leeching', 'left', 'leftist', 'lefty', 'leg', 'legacy', 'legal', 'legalizing', 'legally', 'legitimate', 'legitimately', 'lego', 'legs', 'lemurs', 'lena', 'lend', 'lender', 'lending', 'length', 'lengths', 'lengthy', 'lenient', 'lentil', 'leo', 'les', 'lesbian', 'less', 'lessen', 'lessened', 'lesser', 'lesson', 'lessons', 'lest', 'let', 'lets', 'letsnotmeet', 'letter', 'letters', 'letting', 'level', 'leveling', 'levels', 'leveraging', 'levy', 'lexapro', 'lexington', 'lgbt', 'liar', 'liars', 'liberal', 'libido', 'libraries', 'library', 'licence', 'license', 'licensed', 'licked', 'lid', 'lie', 'lied', 'lies', 'life', 'lifeforms', 'lifeline', 'lifelong', 'lifespan', 'lifestyle', 'lifetime', 'lift', 'lifted', 'lifter', 'lifting', 'light', 'lighter', 'lighters', 'lightest', 'lightheaded', 'lightheadedness', 'lighting', 'lightly', 'lightning', 'lights', 'liheap', 'like', 'liked', 'likelihood', 'likely', 'likelyhood', 'likes', 'liking', 'lily', 'limbo', 'limbs', 'limewire', 'limit', 'limitations', 'limited', 'limitless', 'limits', 'limp', 'linda', 'line', 'lined', 'linehan', 'lines', 'linger', 'lingered', 'lingerie', 'lingering', 'lingers', 'link', 'linked', 'links', 'lion', 'lip', 'lips', 'liquid', 'lisa', 'list', 'listed', 'listen', 'listened', 'listeners', 'listening', 'listing', 'lists', 'lit', 'literacy', 'literal', 'literally', 'literature', 'lithium', 'litterally', 'little', 'littlest', 'live', 'lived', 'liver', 'lives', 'livid', 'living', 'livingroom', 'lkkely', 'll', 'lmao', 'load', 'loaded', 'loading', 'loads', 'loan', 'loaned', 'loans', 'loathes', 'loathing', 'lobe', 'local', 'localized', 'locally', 'located', 'location', 'locations', 'lock', 'lockdown', 'locked', 'locker', 'lockout', 'locks', 'log', 'logged', 'logging', 'logic', 'logical', 'logically', 'login', 'logistics', 'logos', 'lol', 'london', 'lone', 'loneliest', 'loneliness', 'lonely', 'long', 'longer', 'longest', 'longing', 'longterm', 'longtime', 'lonliness', 'look', 'looked', 'lookig', 'looking', 'lookout', 'looks', 'loop', 'loopholes', 'loops', 'loos', 'loose', 'loosen', 'loosing', 'lorazepam', 'lord', 'los', 'lose', 'loseing', 'loser', 'losers', 'loses', 'losing', 'loss', 'lost', 'lot', 'lots', 'lottery', 'lotto', 'loud', 'louder', 'loudest', 'loudly', 'louisiana', 'lounge', 'lovable', 'love', 'lovebombing', 'loved', 'loveless', 'lovely', 'lover', 'loves', 'loving', 'low', 'lower', 'lowered', 'lowest', 'lowkey', 'lowlife', 'lows', 'loyal', 'loyalty', 'loyd', 'lpr', 'lsd', 'ltr', 'lubrication', 'luca', 'luck', 'luckily', 'lucky', 'lucrative', 'ludicrous', 'luggage', 'luis', 'lump', 'luna', 'lunch', 'lunches', 'lung', 'lunged', 'lungs', 'lupus', 'lurker', 'lurking', 'lux', 'lvn', 'lvns', 'lyft', 'lying', 'lyme', 'lymphoma', 'm15', 'm2', 'm20', 'm21', 'm27', 'ma', 'macbook', 'machine', 'mackenzie', 'mad', 'made', 'madison', 'madly', 'madman', 'madover30', 'maelstrom', 'mafia', 'magazine', 'magazines', 'magically', 'magnetic', 'magnum', 'maid', 'maids', 'mail', 'mailed', 'mailing', 'main', 'mainly', 'maintain', 'maintained', 'maintaining', 'maintains', 'maintenance', 'major', 'majoring', 'majority', 'majorly', 'majors', 'make', 'maker', 'makes', 'makeshift', 'makeup', 'making', 'malaise', 'maldives', 'male', 'males', 'malicious', 'mallet', 'malta', 'mammary', 'man', 'manage', 'manageable', 'managed', 'management', 'manager', 'managers', 'managing', 'mandarin', 'mandated', 'mandatory', 'manga', 'mangled', 'manhattan', 'manhood', 'mani', 'mania', 'manic', 'manifest', 'manifestation', 'manifested', 'manifests', 'manipulate', 'manipulated', 'manipulating', 'manipulation', 'manipulative', 'manner', 'manners', 'manpower', 'mans', 'manual', 'many', 'mapped', 'maps', 'marathon', 'marathons', 'march', 'mares', 'margarita', 'marie', 'marijuana', 'marinas', 'marine', 'marines', 'marital', 'mark', 'marker', 'markers', 'market', 'marketing', 'marks', 'markus', 'marriage', 'marriages', 'married', 'marrow', 'marry', 'marrying', 'mars', 'mart', 'martial', 'mary', 'maryland', 'mas', 'mascots', 'mask', 'masking', 'mass', 'massachusetts', 'massage', 'massages', 'massive', 'massively', 'mast', 'master', 'masters', 'masturbating', 'match', 'matched', 'matches', 'matching', 'mate', 'mater', 'material', 'materials', 'maternal', 'maternity', 'mates', 'math', 'mathematics', 'mats', 'matt', 'matter', 'mattered', 'matters', 'mattress', 'mature', 'matured', 'max', 'maxed', 'maximum', 'may', 'maybe', 'maybes', 'maybie', 'mayor', 'mcdonald', 'mcdonalds', 'mcgraw', 'mdd', 'mdma', 'me', 'meal', 'meals', 'mean', 'meaning', 'meaningful', 'meanness', 'means', 'meant', 'meantime', 'measure', 'measured', 'measures', 'meat', 'meats', 'mechanic', 'mechanism', 'mechanisms', 'med', 'media', 'medial', 'mediate', 'mediation', 'mediators', 'medicaid', 'medical', 'medically', 'medicare', 'medicate', 'medicated', 'medication', 'medications', 'medicine', 'meditate', 'meditation', 'meditations', 'medium', 'mediums', 'meds', 'meet', 'meeting', 'meetings', 'meets', 'megathread', 'melancholy', 'melbourne', 'mellow', 'melt', 'meltdown', 'melts', 'member', 'members', 'membership', 'memberships', 'meme', 'memorable', 'memorial', 'memories', 'memory', 'men', 'mend', 'mended', 'menifee', 'meningitis', 'mental', 'mentalhealth', 'mentality', 'mentally', 'mention', 'mentioned', 'mentioning', 'mentions', 'mentor', 'merci', 'mercy', 'mere', 'merely', 'mermaids', 'merrier', 'merry', 'mesa', 'mesh', 'mess', 'message', 'messaged', 'messages', 'messaging', 'messed', 'messenger', 'messes', 'messing', 'messy', 'met', 'metabolize', 'metal', 'metaphor', 'metastasized', 'metastatic', 'meter', 'meth', 'methadone', 'method', 'methods', 'methylphenidate', 'meticulous', 'metro', 'metroplex', 'mexican', 'mexico', 'meyers', 'mf', 'mfts', 'mg', 'mgs', 'mhicm', 'mia', 'mic', 'michael', 'micro', 'microsoft', 'microwave', 'mid', 'middle', 'middlemen', 'midnight', 'midst', 'midterms', 'midwest', 'midwestern', 'might', 'mightve', 'migraine', 'migraines', 'mike', 'mil', 'mild', 'milder', 'mildew', 'mildly', 'mile', 'miles', 'milestones', 'military', 'milk', 'mill', 'millennial', 'million', 'millionaire', 'millions', 'miming', 'min', 'mina', 'mind', 'minded', 'mindful', 'mindfulness', 'minds', 'mindset', 'mine', 'minefield', 'mini', 'minimal', 'minimalizes', 'minimizing', 'minimum', 'minister', 'minnesota', 'minor', 'minority', 'mins', 'mintiness', 'mintues', 'minus', 'minuscule', 'minute', 'minutely', 'minutes', 'miracle', 'mire', 'mirror', 'mirroring', 'mirtazapine', 'misbehaved', 'miscommunication', 'misdeamenor', 'misdiagnosed', 'misdiagnosis', 'miserable', 'misery', 'misfortunes', 'misguided', 'mislead', 'misogynist', 'misophonia', 'misrepresented', 'miss', 'missed', 'misses', 'missile', 'missing', 'mission', 'mississippi', 'mist', 'mistake', 'mistaken', 'mistakes', 'mistreat', 'mistreated', 'mistreatment', 'misunderstanding', 'misunderstandings', 'misunderstood', 'mites', 'mitigate', 'mix', 'mixed', 'mixture', 'mixups', 'mmorpgs', 'mo', 'moaning', 'mobile', 'mobility', 'mobilty', 'mocked', 'mocking', 'mocks', 'mod', 'modding', 'mode', 'model', 'modelling', 'moderate', 'moderated', 'moderately', 'moderating', 'moderation', 'moderators', 'modern', 'modest', 'mods', 'module', 'modules', 'moist', 'molasses', 'mold', 'moldy', 'molested', 'molester', 'molesters', 'molly', 'mom', 'moment', 'moments', 'momentum', 'momma', 'mommy', 'moms', 'mon', 'monday', 'monetarily', 'monetary', 'money', 'monica', 'monies', 'monitor', 'monitored', 'monitoring', 'monogamous', 'monogomous', 'monologue', 'monotone', 'monster', 'monsters', 'monstrosity', 'montana', 'month', 'monthly', 'months', 'monthsalready', 'monumental', 'mood', 'moods', 'moody', 'moon', 'moral', 'morality', 'morbid', 'morbidly', 'morbidreality', 'more', 'moreover', 'moreso', 'morgie', 'morn', 'morning', 'mornings', 'morphine', 'morrison', 'morrow', 'morsel', 'mortal', 'mortgage', 'mortified', 'mosquitos', 'most', 'mostly', 'motel', 'motels', 'mother', 'motherboard', 'mothers', 'motivated', 'motivation', 'motivational', 'motives', 'motor', 'motorcycle', 'motorcycles', 'motto', 'mountain', 'mountains', 'mountie', 'mounties', 'mouse', 'moustache', 'mouth', 'mouthed', 'move', 'moved', 'movement', 'movements', 'movers', 'moves', 'movie', 'movies', 'moving', 'moya', 'mph', 'mre', 'mres', 'mris', 'mrsa', 'ms', 'msc', 'msging', 'msy', 'mt', 'mtg', 'mturk', 'much', 'mud', 'muddied', 'muffin', 'mugs', 'mulder', 'multi', 'multiple', 'multiplied', 'multiply', 'multitude', 'mum', 'mumbling', 'mundane', 'murder', 'murdered', 'murderer', 'murky', 'murphy', 'murturance', 'muscle', 'muscles', 'muscular', 'muse', 'museum', 'mushroom', 'mushrooms', 'music', 'musicals', 'musician', 'must', 'muster', 'mustered', 'mustn', 'mute', 'mutism', 'mutt', 'mutual', 'mutually', 'mvp', 'mw', 'my', 'myriad', 'myself', 'mysterious', 'mystery', 'mystic', 'myth', 'naegleria', 'nagging', 'nah', 'nail', 'nails', 'naive', 'nakazawa', 'naked', 'nakes', 'name', 'named', 'names', 'nametag', 'nan', 'nana', 'nanna', 'nanny', 'nap', 'napkins', 'napping', 'naps', 'narc', 'narcisist', 'narcissism', 'narcissist', 'narcissistic', 'narcissists', 'narcotics', 'narcy', 'narrative', 'narrow', 'nasal', 'nashville', 'nassau', 'nastiness', 'nasty', 'nation', 'national', 'native', 'nattering', 'natural', 'naturally', 'nature', 'naturopathic', 'nausea', 'nauseas', 'nauseated', 'nauseous', 'navigate', 'navigating', 'navy', 'nazarene', 'nbsp', 'nc', 'ncjw', 'nd', 'ne', 'near', 'nearby', 'nearest', 'nearly', 'nears', 'neat', 'necessarily', 'necessary', 'necessitating', 'necessities', 'necessity', 'neck', 'need', 'needed', 'neediness', 'needing', 'needle', 'needlepoint', 'needles', 'needless', 'needn', 'needs', 'needy', 'negative', 'negatively', 'negatives', 'negativity', 'neglect', 'neglected', 'neglectful', 'neglecting', 'neglective', 'negligence', 'negligent', 'negligible', 'negotiable', 'negotiate', 'negotiating', 'neighbor', 'neighborhood', 'neighbors', 'neighbour', 'neighbouring', 'neighbours', 'neither', 'nene', 'neosporin', 'nephew', 'nephews', 'nephritis', 'nerve', 'nerves', 'nervous', 'nervously', 'nervousness', 'ness', 'nest', 'net', 'netflix', 'neti', 'nets', 'network', 'networking', 'networks', 'neuralgia', 'neurofeedback', 'neurological', 'neuron', 'neuropathy', 'neuropsychologist', 'neurotic', 'neutral', 'nevada', 'never', 'nevermind', 'nevertheless', 'new', 'newborn', 'newcomer', 'newer', 'newest', 'newfound', 'newly', 'newness', 'news', 'newsfeed', 'newspaper', 'newsworthy', 'nex', 'next', 'nh', 'nice', 'nicely', 'nicer', 'nicest', 'nicotine', 'nicu', 'niece', 'nieces', 'nigh', 'night', 'nightclub', 'nightfall', 'nightly', 'nightmare', 'nightmares', 'nights', 'nighttime', 'nihilistic', 'nilly', 'nimetazepam', 'nine', 'nineteen', 'nipples', 'nj', 'nmom', 'no', 'nobody', 'nocturnal', 'nods', 'nofap', 'nofx', 'noise', 'noises', 'noisy', 'nokia', 'nomination', 'non', 'nonchalant', 'noncommittal', 'none', 'nonetheless', 'nonexistent', 'nonpayment', 'nonprofit', 'nonsense', 'nonstop', 'noodles', 'noone', 'noose', 'nope', 'nor', 'norm', 'normal', 'normalcy', 'normality', 'normalize', 'normalized', 'normally', 'north', 'northeastern', 'northern', 'northwest', 'nos', 'nose', 'not', 'notable', 'notcher', 'note', 'notebooks', 'noted', 'notes', 'nothing', 'notice', 'noticeable', 'noticeably', 'noticed', 'notices', 'noticing', 'notification', 'notifications', 'notified', 'notify', 'notion', 'notions', 'nov', 'novel', 'novels', 'november', 'novices', 'now', 'nowadays', 'nowhere', 'nsfw', 'nuances', 'nude', 'nudes', 'nudge', 'nudity', 'numb', 'numbed', 'number', 'numbers', 'numbness', 'numeral', 'numerically', 'numerous', 'nurse', 'nurses', 'nursing', 'nutcase', 'nutrition', 'nuts', 'nvm', 'nw', 'ny', 'nyc', 'o2', 'oa', 'oak', 'oakland', 'oath', 'oatmeal', 'oaxaca', 'obama', 'obese', 'obfuscated', 'object', 'objections', 'objective', 'objectively', 'objects', 'obligated', 'obligation', 'obliged', 'oblivion', 'oblivious', 'obnoxious', 'obscene', 'obscure', 'obscurer', 'observant', 'observe', 'observer', 'observers', 'obsess', 'obsessed', 'obsessing', 'obsession', 'obsessions', 'obsessive', 'obsessively', 'obstacle', 'obstacles', 'obtain', 'obtained', 'obv', 'obvious', 'obviously', 'obviousy', 'occasion', 'occasional', 'occasionally', 'occasions', 'occassion', 'occassions', 'occipital', 'occupants', 'occupying', 'occur', 'occured', 'occurence', 'occuring', 'occurred', 'occurrence', 'occurrences', 'occurring', 'occurs', 'ocd', 'ocpd', 'october', 'od', 'odd', 'oddly', 'odds', 'odor', 'odour', 'of', 'off', 'offend', 'offended', 'offender', 'offenders', 'offending', 'offense', 'offensive', 'offer', 'offered', 'offering', 'offers', 'office', 'officer', 'officers', 'official', 'officially', 'offline', 'offs', 'offset', 'often', 'oftentimes', 'og', 'oh', 'ohio', 'ohp', 'oil', 'ok', 'okay', 'okcupid', 'ol', 'old', 'older', 'oldest', 'olds', 'olfactory', 'olive', 'olivet', 'olympia', 'omg', 'omission', 'omitted', 'on', 'onboarding', 'once', 'oncologist', 'one', 'ones', 'oneself', 'ongoing', 'online', 'only', 'onset', 'ontario', 'onto', 'oof', 'op', 'open', 'opened', 'opener', 'opening', 'openly', 'opens', 'operate', 'operates', 'operating', 'operation', 'operationsafeescape', 'opiate', 'opiates', 'opinion', 'opinions', 'opioids', 'opponents', 'opportunities', 'opportunity', 'opposed', 'opposite', 'opposites', 'opposition', 'oppressed', 'opt', 'optimistic', 'option', 'optionally', 'options', 'opus', 'or', 'oral', 'orange', 'oranges', 'orchards', 'ordeal', 'order', 'ordered', 'ordering', 'orderly', 'orders', 'ordinary', 'oregon', 'orfaces', 'org', 'organ', 'organic', 'organically', 'organisms', 'organization', 'organizations', 'organize', 'organized', 'organizers', 'organs', 'orgasm', 'orientated', 'oriented', 'origin', 'original', 'originally', 'originate', 'orignally', 'ornaments', 'ornithine', 'orthodontist', 'orthostatic', 'oscillated', 'ostensibly', 'osteoarthritis', 'other', 'others', 'otherwise', 'ouch', 'ought', 'ounce', 'our', 'ours', 'ourselves', 'out', 'outbreak', 'outburst', 'outbursts', 'outcast', 'outcome', 'outdoor', 'outdoors', 'outearns', 'outfit', 'outgoing', 'outgrow', 'outgrown', 'outlet', 'outline', 'outlined', 'outlook', 'outpatient', 'outreach', 'outside', 'outsider', 'outsiders', 'outstanding', 'outstretched', 'outwardly', 'outweigh', 'outweighed', 'ovaries', 'oven', 'over', 'overactive', 'overall', 'overbearing', 'overcome', 'overcoming', 'overdose', 'overdoses', 'overdraft', 'overdramatic', 'overdrawn', 'overdrive', 'overdue', 'overflowing', 'overheard', 'overjoyed', 'overlap', 'overlapped', 'overlapping', 'overload', 'overlook', 'overly', 'overnight', 'overnights', 'overpower', 'overpriced', 'overqualified', 'overreact', 'overreacting', 'overreaction', 'override', 'overseas', 'oversized', 'overslept', 'overstepping', 'overstimulated', 'overstimulating', 'overtakes', 'overthink', 'overthinking', 'overthought', 'overtime', 'overtly', 'overturn', 'overview', 'overweight', 'overwhelm', 'overwhelmed', 'overwhelming', 'overwhelmingly', 'overworked', 'owe', 'owed', 'owens', 'own', 'owned', 'owner', 'owners', 'ownership', 'owns', 'oxycontin', 'oxygen', 'oxytocin', 'oz', 'pa', 'pace', 'paced', 'pacific', 'pack', 'package', 'packages', 'packed', 'packer', 'packet', 'packing', 'packs', 'paddling', 'pads', 'page', 'pages', 'pahse', 'paid', 'paige', 'pain', 'pained', 'painful', 'painfully', 'painkillers', 'painless', 'pains', 'paint', 'painted', 'painter', 'painting', 'pair', 'paired', 'pairs', 'pajamas', 'pal', 'pale', 'pallbearer', 'pallbearers', 'pallets', 'palpable', 'palpatations', 'palpitates', 'palpitating', 'palpitations', 'palptations', 'pam', 'pamela', 'pampering', 'pan', 'panel', 'panhandle', 'panhandling', 'panic', 'panicattack', 'panick', 'panicked', 'panicking', 'panicky', 'panics', 'pansexual', 'pantry', 'pants', 'papa', 'paper', 'papers', 'paperwork', 'par', 'paradoxical', 'paradoxically', 'paragraph', 'paralegal', 'paralysed', 'paralysis', 'paralytics', 'paralyzed', 'paramedic', 'paranoia', 'paranoid', 'parasite', 'parasympathetic', 'pare', 'parent', 'parental', 'parenting', 'parents', 'pariah', 'park', 'parked', 'parking', 'parkinsons', 'parksville', 'parma', 'parole', 'paroxetine', 'part', 'partial', 'partially', 'participant', 'participants', 'participate', 'participated', 'participates', 'participating', 'participation', 'particular', 'particularly', 'parties', 'partly', 'partner', 'partners', 'partnership', 'partnerships', 'parts', 'partum', 'party', 'partying', 'pass', 'passed', 'passers', 'passes', 'passing', 'passion', 'passionate', 'passions', 'passive', 'passport', 'password', 'passwords', 'past', 'pasta', 'paste', 'pasted', 'pastels', 'pastor', 'patch', 'paterno', 'path', 'pathetic', 'pathological', 'pathway', 'patience', 'patient', 'patiently', 'patients', 'patreon', 'patrick', 'patrolling', 'patted', 'pattern', 'patterns', 'patty', 'paul', 'pause', 'pauses', 'pavlovian', 'pawn', 'pawning', 'paxil', 'pay', 'payback', 'paycard', 'paycheck', 'paychecks', 'payday', 'payed', 'paying', 'payment', 'payments', 'paypal', 'pays', 'pc', 'pcp', 'pd', 'pdanet', 'pdd', 'pdoc', 'pe', 'pea', 'peace', 'peaceful', 'peacefully', 'peaches', 'peachy', 'peak', 'peaked', 'peanut', 'pedi', 'pedo', 'pedophila', 'pedophile', 'pedophilia', 'pee', 'peeing', 'peepee', 'peer', 'peers', 'pees', 'peg', 'pelvic', 'penalties', 'penalty', 'pending', 'pendleton', 'penetrated', 'penetration', 'penis', 'penmanship', 'penne', 'pennies', 'penniless', 'penny', 'pension', 'pent', 'penzel', 'people', 'peoples', 'pepper', 'peppermint', 'pepperoni', 'per', 'perceive', 'perceived', 'percent', 'percentage', 'perception', 'perceptions', 'perceptual', 'percocet', 'percussion', 'perfect', 'perfectly', 'perform', 'performance', 'performing', 'perhaps', 'period', 'periodic', 'periodically', 'periodontitis', 'periods', 'perishable', 'perks', 'permanent', 'permanently', 'permenant', 'permissible', 'permission', 'perp', 'perpetrator', 'perpetrators', 'perpetually', 'perpetuated', 'perpetuates', 'perpetuating', 'perplexed', 'perplexing', 'perscribed', 'persecuted', 'persistence', 'persistent', 'person', 'personable', 'personal', 'personalities', 'personality', 'personally', 'personals', 'perspective', 'perspectives', 'perspiration', 'persuade', 'persuaded', 'perverted', 'pervy', 'pessimistic', 'pet', 'pete', 'peter', 'peters', 'petition', 'petitioned', 'petitioner', 'petitioning', 'petrified', 'petrol', 'pets', 'petty', 'pft', 'ph', 'pharm', 'pharma', 'pharmaceutical', 'pharmacist', 'pharmacy', 'pharyngeal', 'phase', 'phased', 'phd', 'phenazepam', 'phew', 'phil', 'philadelphia', 'philippines', 'philips', 'philosophy', 'phlegm', 'phobia', 'phobias', 'phoenix', 'phone', 'phonecalls', 'phoned', 'phones', 'phoning', 'photo', 'photographer', 'photos', 'photoshoot', 'phrase', 'phrased', 'phrases', 'physiatrist', 'physical', 'physically', 'physics', 'physiological', 'physiologically', 'piano', 'pic', 'pick', 'pick5', 'picked', 'picking', 'picks', 'pics', 'picture', 'pictures', 'picturesque', 'picturing', 'pie', 'piece', 'pieces', 'piecing', 'pierced', 'piercer', 'piercing', 'pig', 'pile', 'piled', 'piling', 'pill', 'pillow', 'pills', 'pilot', 'pin', 'pinches', 'pine', 'pinned', 'pinpoint', 'pins', 'pint', 'pinto', 'pintrest', 'pints', 'pipe', 'pipes', 'pippa', 'piss', 'pissed', 'pisses', 'pissing', 'pit', 'pitch', 'pitched', 'pitchfork', 'pitching', 'pits', 'pity', 'pitying', 'piv', 'pivotal', 'pizza', 'place', 'placed', 'placement', 'places', 'placing', 'plagiarism', 'plagiarizing', 'plague', 'plagued', 'plain', 'plainly', 'plan', 'plane', 'planes', 'planet', 'planing', 'planned', 'planner', 'planners', 'plannin', 'planning', 'plans', 'plant', 'plantar', 'planted', 'plasma', 'plastic', 'plate', 'plates', 'platform', 'platitudes', 'platonic', 'play', 'playdate', 'played', 'player', 'players', 'playful', 'playfully', 'playground', 'playing', 'plays', 'plea', 'plead', 'pleaded', 'pleading', 'pleasantly', 'please', 'pleased', 'pleasing', 'pleasure', 'pled', 'pledge', 'plenty', 'plethora', 'plight', 'plot', 'plotting', 'plough', 'plow', 'pls', 'plug', 'plugs', 'plumber', 'plunging', 'plus', 'plushie', 'plz', 'pm', 'pneumoniae', 'pns', 'poached', 'pocket', 'podcast', 'podcasts', 'poet', 'poetry', 'poiint', 'point', 'pointed', 'pointers', 'pointing', 'pointless', 'points', 'poison', 'poisoned', 'poisoning', 'poisonous', 'poke', 'poked', 'poker', 'pokes', 'poking', 'pokì', 'polar', 'police', 'policies', 'policy', 'polite', 'politely', 'politesse', 'political', 'politician', 'politics', 'pollen', 'pollute', 'pollution', 'polyamorous', 'ponder', 'poodle', 'poodles', 'pool', 'poor', 'poorly', 'pop', 'popcorn', 'popped', 'popping', 'pops', 'popsicle', 'popular', 'popularity', 'populated', 'population', 'porch', 'porn', 'porno', 'pornographic', 'pornography', 'portable', 'portal', 'portfolio', 'portion', 'portions', 'portland', 'portrait', 'portray', 'portrayal', 'portrayed', 'pos', 'pose', 'posing', 'position', 'positions', 'positive', 'positives', 'possessed', 'possession', 'possessions', 'possessive', 'possibility', 'possible', 'possibly', 'post', 'postcard', 'posted', 'poster', 'posting', 'postpartum', 'postpone', 'posts', 'posture', 'pot', 'potato', 'potential', 'potentially', 'potholes', 'pots', 'potter', 'pottery', 'pound', 'pounded', 'pounding', 'pounds', 'poured', 'pouring', 'pov', 'poverty', 'power', 'powered', 'powerful', 'powerless', 'powerpoint', 'ppd', 'ppl', 'pr', 'practical', 'practically', 'practice', 'practiced', 'practices', 'practicing', 'practising', 'practitioner', 'pragmatic', 'praise', 'prank', 'pray', 'prayed', 'prayer', 'prayers', 'praying', 'prazocin', 'prazosin', 'pre', 'preach', 'preached', 'preacher', 'precarious', 'precautions', 'preceded', 'precedence', 'precedent', 'preceding', 'precinct', 'precious', 'precipitous', 'precise', 'precursor', 'predators', 'predatory', 'predestined', 'predicament', 'predict', 'prediction', 'preexisting', 'preface', 'prefer', 'preferably', 'preference', 'preferences', 'preferential', 'preferred', 'preferring', 'pregabalin', 'pregant', 'pregnancy', 'pregnant', 'prejudice', 'premature', 'premiere', 'premise', 'preoccupied', 'prep', 'prepaid', 'prepair', 'preparation', 'prepare', 'prepared', 'prepping', 'preprogram', 'prerequisite', 'preschool', 'prescribed', 'prescription', 'prescriptions', 'presence', 'present', 'presentation', 'presentations', 'presented', 'presenting', 'presents', 'preserve', 'preserving', 'president', 'press', 'pressed', 'pressing', 'pressure', 'pressured', 'pressuring', 'prestigious', 'presumably', 'presume', 'presumptive', 'pretend', 'pretended', 'pretending', 'pretends', 'prettier', 'pretty', 'prevail', 'prevalence', 'prevalent', 'prevent', 'prevented', 'preventing', 'prevention', 'prevents', 'previous', 'previously', 'preying', 'price', 'priced', 'prices', 'prick', 'prickle', 'pricy', 'pride', 'pried', 'pries', 'primal', 'primarily', 'primary', 'prime', 'prince', 'princess', 'principle', 'principles', 'print', 'printable', 'printed', 'printer', 'printing', 'prior', 'priorities', 'prioritize', 'prioritizing', 'priority', 'prison', 'prisoner', 'privacy', 'private', 'privately', 'privaty', 'privileged', 'privileges', 'privy', 'prize', 'prizes', 'prn', 'prob', 'probable', 'probably', 'probation', 'probiotic', 'problem', 'problematic', 'problems', 'procedure', 'procedures', 'proceed', 'proceeded', 'proceeding', 'proceeds', 'process', 'processed', 'processes', 'processing', 'processor', 'proclaimed', 'procrastinate', 'procrastinating', 'produce', 'produced', 'produces', 'product', 'production', 'productive', 'productivity', 'products', 'profession', 'professional', 'professionals', 'professor', 'professors', 'profile', 'profiles', 'profit', 'profoud', 'profoundly', 'profressionals', 'profusely', 'program', 'programmed', 'programming', 'programs', 'progress', 'progressed', 'progressing', 'progression', 'progressive', 'progressively', 'prohibited', 'prohibiting', 'project', 'projecting', 'projection', 'projects', 'prolonged', 'prolonging', 'prominent', 'prominently', 'promise', 'promised', 'promises', 'promising', 'promo', 'promoted', 'promoting', 'promotion', 'promotions', 'prompt', 'prompted', 'prone', 'pronouns', 'proof', 'proofread', 'prop', 'propaganda', 'proper', 'properly', 'property', 'proportion', 'proportions', 'propose', 'proposes', 'prorated', 'pros', 'prosecuted', 'prosecutor', 'prositutes', 'prospect', 'prospects', 'prostate', 'prostitute', 'protect', 'protected', 'protecting', 'protection', 'protective', 'protein', 'protest', 'protests', 'protocol', 'proud', 'proudly', 'provcation', 'prove', 'proved', 'proven', 'proves', 'provide', 'provided', 'provider', 'provides', 'providing', 'province', 'provinces', 'proving', 'provocative', 'provoke', 'provoked', 'provoking', 'proximity', 'prozac', 'pry', 'ps', 'ps2', 'pseudo', 'psych', 'psyche', 'psychedelics', 'psychiatric', 'psychiatrist', 'psychiatrists', 'psychic', 'psychoactive', 'psychological', 'psychologically', 'psychologist', 'psychologists', 'psychology', 'psychopath', 'psychopathic', 'psychosomatic', 'psychotherapy', 'psychotic', 'psychotically', 'psychotizing', 'psyciatrist', 'psyochologie', 'pt', 'ptsd', 'pub', 'puberty', 'pubis', 'public', 'publication', 'publicly', 'publicn', 'publish', 'published', 'puddles', 'pueblo', 'puked', 'pukes', 'pull', 'pulled', 'pulling', 'pullout', 'pulls', 'pulse', 'pulses', 'pump', 'punch', 'punched', 'punches', 'punching', 'punctuation', 'puncture', 'punish', 'punished', 'punishing', 'punishment', 'punishments', 'punitive', 'punks', 'pup', 'puppies', 'puppy', 'purchase', 'purchased', 'purchasing', 'pure', 'purely', 'purging', 'purple', 'purpose', 'purposefully', 'purposely', 'purposes', 'purpously', 'purr', 'purred', 'purse', 'pursing', 'pursue', 'pursued', 'pursuing', 'pursuit', 'push', 'pushed', 'pushes', 'pushing', 'pushover', 'pushy', 'pussy', 'put', 'puts', 'putting', 'pwork', 'pyjamas', 'pyre', 'pysch', 'pyscologist', 'qualicum', 'qualification', 'qualifications', 'qualified', 'qualifies', 'qualify', 'qualities', 'quality', 'qualms', 'quantifiable', 'quantitative', 'quarter', 'quarters', 'quartile', 'quazepam', 'queen', 'queens', 'queer', 'querying', 'quest', 'question', 'questionable', 'questioned', 'questioning', 'questionnaire', 'questionnaires', 'questions', 'queue', 'quick', 'quicker', 'quickie', 'quickly', 'quiet', 'quietly', 'quinoa', 'quire', 'quirks', 'quit', 'quite', 'quitting', 'quiz', 'quizzes', 'quo', 'quora', 'quotations', 'quote', 'quotes', 'quoting', 'rabbit', 'rabbithole', 'raccoons', 'raced', 'races', 'rachel', 'racine', 'racing', 'racism', 'racist', 'rack', 'racket', 'radar', 'radiant', 'radiates', 'radiator', 'radical', 'radicalized', 'radically', 'radio', 'radioed', 'raf', 'rafael', 'raffle', 'rafting', 'rage', 'raged', 'rageful', 'rages', 'ragged', 'raging', 'raided', 'raiding', 'railroad', 'rain', 'raincoat', 'rainy', 'raise', 'raised', 'raisedbynarcissists', 'raises', 'raising', 'ram', 'ramble', 'rambling', 'ramblings', 'ramen', 'ramming', 'ramp', 'rampage', 'rampant', 'ramped', 'ran', 'random', 'random_acts_of_pizza', 'randomly', 'randomthoughts', 'range', 'ranged', 'ranger', 'rank', 'ransack', 'ransacking', 'ransom', 'rant', 'ranted', 'ranting', 'rants', 'ranty', 'rap', 'rape', 'rapecounseling', 'raped', 'rapid', 'rapidly', 'rapids', 'raping', 'rapist', 'rapists', 'rapport', 'raptor', 'rare', 'rarely', 'ras', 'rascal', 'rash', 'rashes', 'rate', 'rates', 'rather', 'rating', 'ratio', 'rational', 'rationalize', 'rationally', 'rations', 'rats', 'rattled', 'rattling', 'raw', 'rays', 'razors', 're', 'reach', 'reachable', 'reached', 'reaches', 'reaching', 'react', 'reacted', 'reacting', 'reaction', 'reactions', 'reactivity', 'reacts', 'read', 'reader', 'readied', 'readily', 'reading', 'reads', 'ready', 'real', 'realisation', 'realise', 'realised', 'realising', 'realistically', 'reality', 'realization', 'realizations', 'realize', 'realized', 'realizes', 'realizing', 'realllly', 'really', 'realtionships', 'reaper', 'rear', 'reason', 'reasonable', 'reasonably', 'reasoned', 'reasoning', 'reasons', 'reassurance', 'reassure', 'reassured', 'reassuring', 'rebecca', 'rebel', 'rebelled', 'rebooked', 'reborn', 'rebuffed', 'rebuild', 'rebuilding', 'rebuttal', 'rec', 'recall', 'recalling', 'receipt', 'receipts', 'receive', 'received', 'receiver', 'receives', 'receiving', 'recent', 'recently', 'reception', 'receptionist', 'receptive', 'recharge', 'recieve', 'recieved', 'recipe', 'recipient', 'reciprocal', 'reciprocate', 'reciprocated', 'reciprocates', 'reckless', 'recklessness', 'reckon', 'reckoning', 'recliner', 'recognise', 'recognising', 'recognition', 'recognize', 'recognized', 'recognizing', 'recollection', 'recommend', 'recommendation', 'recommendations', 'recommended', 'reconcile', 'reconciliation', 'reconnect', 'reconnected', 'reconsider', 'reconstruct', 'record', 'recorded', 'recording', 'records', 'recover', 'recovered', 'recoveries', 'recovering', 'recovery', 'recruit', 'recruiters', 'recruiting', 'recurring', 'red', 'redding', 'reddit', 'redditor', 'redditors', 'redeeming', 'redemption', 'redesigning', 'redirect', 'redirects', 'rediscover', 'redittor', 'redo', 'redone', 'reduce', 'reduced', 'reducing', 'reduction', 'redundancy', 'reeks', 'reeling', 'reels', 'reemerged', 'reese', 'reevaluated', 'refer', 'reference', 'references', 'referral', 'referred', 'referring', 'refers', 'reflect', 'reflecting', 'reflection', 'reflections', 'reflex', 'refluxes', 'reformat', 'reformed', 'refracting', 'refrained', 'reframe', 'refrigeration', 'refrigerator', 'refuge', 'refund', 'refusal', 'refuse', 'refused', 'refuses', 'refusing', 'regard', 'regarding', 'regardless', 'regards', 'regimen', 'regiments', 'regional', 'register', 'registered', 'registration', 'registry', 'regressed', 'regression', 'regressive', 'regret', 'regrets', 'regrettably', 'regretted', 'regretting', 'regular', 'regularily', 'regularly', 'regurgitating', 'rehab', 'rehabilitation', 'rehearsed', 'rei', 'rein', 'reinforced', 'reinforcing', 'reinstated', 'reinstating', 'reject', 'rejected', 'rejecting', 'rejection', 'rejections', 'rejects', 'rejoined', 'relapsed', 'relapsing', 'relatable', 'relate', 'related', 'relates', 'relating', 'relation', 'relations', 'relationship', 'relationships', 'relatioship', 'relative', 'relatively', 'relatives', 'relax', 'relaxation', 'relaxed', 'relaxes', 'relaxing', 'release', 'released', 'relenting', 'relentless', 'relevant', 'reliable', 'reliably', 'reliant', 'relics', 'relied', 'relief', 'relies', 'relieve', 'relieved', 'relieving', 'religion', 'religious', 'religiously', 'relive', 'reliving', 'reloadable', 'relocated', 'reluctant', 'rely', 'relying', 'remain', 'remainder', 'remained', 'remaining', 'remains', 'remark', 'remarks', 'remarried', 'remedies', 'remedy', 'remember', 'remembered', 'remembering', 'remembers', 'remerchandising', 'remind', 'reminded', 'reminder', 'reminding', 'reminds', 'reminisces', 'remission', 'remorseful', 'remote', 'remotely', 'removal', 'remove', 'removed', 'rendered', 'rendering', 'renew', 'renewed', 'renourishing', 'renovated', 'renovation', 'rent', 'rental', 'rented', 'renting', 'rents', 'reoccurring', 'repaid', 'repair', 'repairs', 'repay', 'repayment', 'repeat', 'repeated', 'repeatedly', 'repeating', 'repeats', 'repel', 'repented', 'repercussions', 'repetitions', 'replace', 'replaced', 'replacement', 'replacing', 'replay', 'replaying', 'replays', 'replied', 'replies', 'reply', 'replying', 'repoed', 'report', 'reported', 'reporting', 'reports', 'repossessed', 'repost', 'represent', 'representative', 'representatives', 'repress', 'repressed', 'repressing', 'reprieve', 'reprimanded', 'reprogramming', 'reps', 'republicans', 'repulsed', 'repurcussions', 'reputable', 'reputation', 'reputations', 'request', 'requested', 'requesters', 'requesting', 'requests', 'require', 'required', 'requirement', 'requirements', 'requires', 'requirred', 'reschedule', 'rescue', 'rescued', 'rescuer', 'rescuing', 'research', 'researched', 'researcher', 'researchers', 'researching', 'resent', 'resented', 'resentment', 'resents', 'reservation', 'reserve', 'reserved', 'reset', 'reside', 'residence', 'residency', 'resident', 'residential', 'residents', 'resignating', 'resigned', 'resilience', 'resilient', 'resist', 'resistant', 'resisted', 'resisting', 'resists', 'resolution', 'resolve', 'resolved', 'resolves', 'resonates', 'resort', 'resorting', 'resource', 'resourceful', 'resources', 'respect', 'respectable', 'respected', 'respectful', 'respecting', 'respective', 'respiratory', 'respond', 'responded', 'responder', 'responders', 'responding', 'responds', 'respones', 'response', 'responses', 'responsibilities', 'responsibility', 'responsibilty', 'responsible', 'responsibly', 'rest', 'restarted', 'restarting', 'restarts', 'restaurant', 'restaurants', 'rested', 'restful', 'resting', 'restitution', 'restless', 'restlessness', 'restocking', 'restrain', 'restrained', 'restraining', 'restraints', 'restricted', 'restriction', 'restrictions', 'restrictive', 'restroom', 'restrooms', 'rests', 'result', 'resulted', 'resulting', 'results', 'resume', 'resumed', 'resumes', 'resurfaced', 'retail', 'retailer', 'retain', 'retainer', 'retains', 'retaking', 'retaliate', 'retaliating', 'retaliation', 'retarded', 'retelling', 'retention', 'rethink', 'retire', 'retired', 'retirement', 'retiring', 'retraumatized', 'retraumatizing', 'retreat', 'retreats', 'retrieve', 'retrieved', 'retrievers', 'retrigger', 'retroactively', 'retrospect', 'return', 'returned', 'returning', 'returns', 'reunion', 'reunite', 'reunited', 'reuniting', 'reusable', 'reveal', 'revealed', 'revealing', 'reveals', 'revelation', 'revenge', 'reverse', 'reverted', 'review', 'reviewed', 'reviews', 'revise', 'revising', 'revisit', 'revoked', 'revolved', 'revolves', 'revolving', 'revulsion', 'revving', 'rewarding', 'rewards', 'rewrite', 'rewriting', 'rhythm', 'ribs', 'rice', 'rich', 'richmond', 'rick', 'rid', 'riddle', 'riddled', 'ride', 'rides', 'ridiculed', 'ridiculous', 'ridiculously', 'riding', 'rifle', 'rift', 'right', 'righteous', 'rightfully', 'righthand', 'rightly', 'rights', 'rigid', 'rims', 'ring', 'ringing', 'rings', 'rinse', 'rinsed', 'rinses', 'riot', 'rip', 'ripe', 'ripped', 'ripping', 'ripple', 'rise', 'rises', 'rising', 'risk', 'risked', 'risks', 'risky', 'risperadone', 'ritalin', 'ritual', 'river', 'rn', 'roach', 'roaches', 'road', 'roadblock', 'roads', 'roadside', 'roam', 'roared', 'rob', 'robbed', 'robbery', 'robbins', 'robin', 'robot', 'rock', 'rocking', 'rocks', 'rocky', 'rode', 'rods', 'roiling', 'role', 'roles', 'roll', 'rolled', 'roller', 'rollercoaster', 'rolling', 'rolls', 'romance', 'romania', 'romantic', 'romantically', 'rommin', 'ron', 'roni', 'roo', 'roof', 'roofer', 'rookie', 'room', 'roomates', 'roommate', 'roommates', 'rooms', 'roomy', 'root', 'rooted', 'roots', 'rope', 'ropes', 'roses', 'ross', 'rote', 'roth', 'rotted', 'rotten', 'rotting', 'rouge', 'rough', 'roughed', 'roughly', 'roulette', 'round', 'rounded', 'route', 'routes', 'routine', 'row', 'rowdy', 'royal', 'royally', 'rp', 'rpgs', 'rub', 'rubbed', 'rubber', 'rubbing', 'rubbish', 'rude', 'rudely', 'rug', 'ruin', 'ruined', 'ruining', 'ruins', 'ruled', 'rules', 'ruminate', 'ruminated', 'ruminating', 'rumination', 'rummage', 'rummaging', 'rumor', 'rumors', 'rumpus', 'run', 'runaway', 'rungs', 'running', 'runs', 'ruptured', 'rural', 'rush', 'rushed', 'rushes', 'rushing', 'rushy', 'russian', 'rustle', 'rut', 'ruthless', 'rv', 'ryan', 's1', 'saan', 'sabbath', 'sabbatical', 'sabotaging', 'sachs', 'sack', 'sacrifice', 'sacrificed', 'sacrifices', 'sad', 'saddened', 'saddled', 'sadly', 'sadness', 'safe', 'safely', 'safer', 'safest', 'safety', 'sahm', 'said', 'saint', 'sake', 'sakes', 'salaam', 'salad', 'salary', 'sale', 'salem', 'sales', 'sally', 'salt', 'salvageable', 'salvation', 'sam', 'same', 'sample', 'samples', 'samplesize', 'san', 'sanctuary', 'sandia', 'sandwich', 'sandwiches', 'sane', 'sang', 'sanity', 'santa', 'sappy', 'sar', 'sarah', 'sarcasm', 'sarcastic', 'sarcastically', 'sarcoma', 'sardines', 'sartre', 'sasha', 'sassy', 'sat', 'satisfaction', 'satisfactorily', 'satisfied', 'satisfy', 'saturated', 'saturday', 'saturdays', 'sauce', 'sauna', 'sausages', 'savagely', 'savannah', 'save', 'saveable', 'saved', 'saving', 'savings', 'savour', 'savvy', 'savy', 'saw', 'say', 'saying', 'sayings', 'says', 'scabbies', 'scabies', 'scale', 'scam', 'scammed', 'scamming', 'scams', 'scan', 'scandal', 'scanning', 'scans', 'scar', 'scare', 'scared', 'scares', 'scarface', 'scarier', 'scariest', 'scaring', 'scarred', 'scarring', 'scars', 'scary', 'scattered', 'scattering', 'scavenging', 'scenario', 'scenarios', 'scene', 'scenery', 'scenes', 'schedule', 'scheduled', 'schedules', 'scheduling', 'scheme', 'schizoaffective', 'schizophrenia', 'schnitzel', 'scholarship', 'scholarships', 'school', 'schooled', 'schoolers', 'schools', 'schoolwork', 'science', 'sciences', 'scientific', 'scientists', 'sclerosis', 'scolded', 'scolds', 'scooped', 'scooters', 'score', 'scores', 'scotland', 'scott', 'scottish', 'scrambled', 'scrambling', 'scraped', 'scratch', 'scratched', 'scratches', 'scratchy', 'scream', 'screamed', 'screaming', 'screams', 'screen', 'screencaps', 'screener', 'screening', 'screens', 'screenshot', 'screenshots', 'screw', 'screwdriver', 'screwed', 'screwing', 'scribbled', 'script', 'scrolling', 'scrotum', 'scrubbing', 'scrupulous', 'sculpted', 'scum', 'scumbag', 'scuttle', 'sd', 'seafood', 'sean', 'search', 'searched', 'searches', 'searching', 'season', 'seat', 'seated', 'seats', 'seattle', 'sebaceous', 'sec', 'secluded', 'seclusion', 'second', 'secondary', 'secondly', 'seconds', 'secrecy', 'secret', 'secretary', 'secretive', 'secretly', 'secrets', 'section', 'sectioned', 'sector', 'secure', 'security', 'sedative', 'sedentary', 'seducing', 'see', 'seeded', 'seeing', 'seek', 'seeking', 'seeks', 'seem', 'seemed', 'seeming', 'seemingly', 'seems', 'seen', 'sees', 'segment', 'seize', 'seizure', 'seizures', 'seldom', 'select', 'selected', 'selective', 'self', 'selfhatred', 'selfies', 'selfish', 'selfless', 'selflessness', 'sell', 'sellable', 'selling', 'sellout', 'sells', 'selves', 'sembelrnce', 'semblance', 'semester', 'semesters', 'semi', 'seminar', 'send', 'sending', 'sends', 'senior', 'sensation', 'sensationalized', 'sensations', 'sense', 'senses', 'sensible', 'sensitive', 'sensitivity', 'sensory', 'sensual', 'sent', 'sentence', 'sentences', 'sentencing', 'sentimental', 'separate', 'separated', 'separately', 'separating', 'separation', 'seperate', 'seperated', 'sept', 'september', 'septic', 'sequence', 'serial', 'series', 'serious', 'seriously', 'seriousness', 'serotonergic', 'serotonin', 'serpentine', 'sertraline', 'servant', 'serve', 'served', 'server', 'servers', 'service', 'serviced', 'services', 'serving', 'session', 'sessions', 'set', 'setback', 'seth', 'sets', 'setting', 'settings', 'settle', 'settled', 'settlement', 'settling', 'setup', 'seven', 'seventeen', 'seventh', 'sever', 'several', 'severally', 'severe', 'severely', 'severity', 'sewing', 'sex', 'sexistentialpanic', 'sexlessness', 'sexual', 'sexualities', 'sexuality', 'sexually', 'sexy', 'sh', 'sha', 'shabbat', 'shack', 'shade', 'shadow', 'shadows', 'shady', 'shake', 'shaken', 'shakes', 'shaking', 'shaky', 'shall', 'shallow', 'shame', 'shamed', 'shameful', 'shamefully', 'shamified', 'shaming', 'shampoo', 'shape', 'shaped', 'shapes', 'share', 'shared', 'shares', 'sharing', 'sharp', 'shatter', 'shattered', 'shave', 'shazamed', 'she', 'shea', 'sheaths', 'shed', 'sheds', 'sheep', 'sheepish', 'sheer', 'sheet', 'sheets', 'shelf', 'shell', 'shelled', 'shells', 'shelter', 'shelters', 'shelves', 'shepadoodles', 'shepards', 'sheridan', 'sheriff', 'sheriffs', 'shes', 'shift', 'shifted', 'shifts', 'shined', 'shining', 'shiny', 'ship', 'shipped', 'shipping', 'shirt', 'shirtless', 'shirts', 'shit', 'shithole', 'shits', 'shitstorm', 'shitty', 'shivering', 'shock', 'shocked', 'shocking', 'shoes', 'shook', 'shoot', 'shooter', 'shooting', 'shootings', 'shop', 'shopping', 'shops', 'short', 'shortage', 'shortening', 'shorter', 'shortish', 'shortly', 'shortness', 'shorts', 'shot', 'shots', 'should', 'shoulder', 'shoulderblades', 'shoulders', 'shouldn', 'shouldnt', 'shout', 'shouting', 'shoved', 'shoving', 'show', 'showcase', 'showed', 'shower', 'showering', 'showers', 'showing', 'shown', 'shows', 'shrink', 'shrug', 'shrugged', 'shuddering', 'shuffle', 'shun', 'shunmed', 'shunt', 'shut', 'shuts', 'shutting', 'shy', 'sibling', 'siblings', 'sick', 'sickly', 'sickness', 'siddur', 'side', 'sided', 'sidedness', 'sides', 'sidewalks', 'sideways', 'sigh', 'sighs', 'sight', 'sign', 'signals', 'signature', 'signed', 'signers', 'significance', 'significant', 'significantly', 'signifiers', 'signing', 'signs', 'sil', 'silcock', 'silence', 'silent', 'silly', 'silver', 'similar', 'similes', 'simple', 'simplest', 'simplicity', 'simplifying', 'simply', 'sin', 'since', 'sincere', 'sincerely', 'sing', 'singer', 'singing', 'single', 'singleness', 'sink', 'sinking', 'sins', 'sinus', 'sip', 'sipping', 'sis', 'sisley', 'sister', 'sisters', 'sit', 'site', 'sites', 'sitter', 'sitting', 'situated', 'situation', 'situations', 'six', 'size', 'sized', 'sizes', 'skank', 'skating', 'skeptic', 'sketch', 'sketchy', 'ski', 'skies', 'skiing', 'skill', 'skilled', 'skills', 'skim', 'skin', 'skinnier', 'skinny', 'skip', 'skipped', 'skipping', 'skull', 'sky', 'skydiving', 'skype', 'skyped', 'skyrocketing', 'slab', 'slac', 'slacking', 'slam', 'slammed', 'slamming', 'slap', 'slapped', 'slapping', 'slaps', 'slashed', 'slate', 'slee', 'sleep', 'sleepiness', 'sleeping', 'sleepovers', 'sleeps', 'sleepy', 'sleet', 'sleeve', 'slept', 'slew', 'slick', 'slide', 'slides', 'sliding', 'slight', 'slightest', 'slightly', 'slim', 'slingshotted', 'slip', 'slipped', 'slipping', 'slips', 'slit', 'slobber', 'slot', 'slots', 'slow', 'slowed', 'slower', 'slowly', 'sluggish', 'slumber', 'slump', 'slumped', 'slumps', 'slut', 'smack', 'smacking', 'smacks', 'small', 'smaller', 'smallest', 'smart', 'smarter', 'smartest', 'smartphone', 'smartphones', 'smarts', 'smash', 'smashed', 'smashes', 'smell', 'smelling', 'smells', 'smile', 'smiled', 'smiles', 'smiling', 'smith', 'smithy', 'smitten', 'smokable', 'smoke', 'smoked', 'smoker', 'smoking', 'smoother', 'smoothly', 'smuggled', 'snack', 'snacks', 'snap', 'snapchat', 'snapchats', 'snapped', 'snapping', 'snaps', 'snarky', 'snatch', 'snatched', 'sneak', 'sneaking', 'sneaks', 'sneeze', 'sneezed', 'snide', 'sniff', 'snip', 'sniped', 'snoop', 'snore', 'snot', 'snow', 'snowball', 'snowballing', 'snri', 'sns', 'snuck', 'snuggle', 'so', 'soaked', 'soaking', 'soap', 'soaping', 'sobbing', 'sober', 'sobs', 'socal', 'soccer', 'sociable', 'social', 'socialization', 'socialize', 'socialized', 'socializing', 'socially', 'society', 'sociology', 'sociopath', 'sociopaths', 'socket', 'socks', 'soda', 'soemtimes', 'sofa', 'sofia', 'soft', 'softball', 'software', 'soggy', 'solar', 'sold', 'soldier', 'soldiers', 'sole', 'soleil', 'solely', 'solemn', 'solid', 'solidified', 'solitude', 'solo', 'solution', 'solutions', 'solve', 'solved', 'solving', 'som', 'somatic', 'some', 'somebody', 'someday', 'somehow', 'somehwhere', 'someone', 'someplace', 'somethin', 'something', 'somethings', 'sometime', 'sometimes', 'somewhat', 'somewhere', 'somwhere', 'son', 'sonata', 'song', 'songs', 'sons', 'soo', 'soon', 'sooner', 'sooo', 'soooo', 'sooooo', 'soooooo', 'sooper', 'sooth', 'soothe', 'soothes', 'sophie', 'sophmore', 'sophomore', 'sore', 'sorely', 'soreness', 'sorority', 'sorrow', 'sorry', 'sort', 'sorta', 'sorted', 'sorts', 'sortta', 'sos', 'sought', 'soul', 'soulmate', 'soulmates', 'sound', 'sounded', 'sounding', 'soundness', 'sounds', 'soup', 'soups', 'sour', 'source', 'sourced', 'south', 'southeast', 'southern', 'southwest', 'southwind', 'soviet', 'space', 'spaced', 'spaces', 'spaghetti', 'spaghettios', 'spam', 'spamming', 'span', 'spanish', 'spare', 'spared', 'sparingly', 'spark', 'sparkly', 'sparse', 'spasms', 'spat', 'spay', 'spayed', 'speak', 'speaker', 'speakers', 'speaking', 'speaks', 'spearheading', 'special', 'specialised', 'specialist', 'specialists', 'specializes', 'specially', 'species', 'specific', 'specifically', 'specificphobia', 'specifics', 'specified', 'specifying', 'specs', 'spectacularly', 'spectrum', 'speech', 'speechless', 'speed', 'speeds', 'speedway', 'spelling', 'spells', 'spend', 'spending', 'spends', 'spent', 'spider', 'spike', 'spilled', 'spilling', 'spills', 'spilt', 'spin', 'spinal', 'spine', 'spins', 'spiral', 'spiraled', 'spiralled', 'spirals', 'spire', 'spirit', 'spirited', 'spirits', 'spiritual', 'spirituality', 'spit', 'spite', 'spitting', 'splintered', 'splinters', 'split', 'splits', 'splitting', 'splurge', 'spmi', 'spoil', 'spoiled', 'spoilers', 'spoiling', 'spoke', 'spoken', 'spongy', 'sponsor', 'spontaneous', 'spontaneously', 'spooked', 'spools', 'sporadically', 'sport', 'sportively', 'sports', 'sportsy', 'spot', 'spots', 'spotted', 'spouse', 'spouted', 'spray', 'sprayed', 'spread', 'spreading', 'spreadsheet', 'spring', 'springing', 'springs', 'sprung', 'spur', 'spurred', 'sq', 'sqft', 'squad', 'squealed', 'squeamish', 'squeeze', 'squeezing', 'sr', 'ssdi', 'ssi', 'ssni', 'ssri', 'ssris', 'st', 'stab', 'stabbed', 'stabbing', 'stability', 'stabilize', 'stabilized', 'stabilizer', 'stable', 'stacey', 'stack', 'stacking', 'staff', 'stage', 'stages', 'staggering', 'stained', 'stains', 'stair', 'stairs', 'stairwell', 'stalemate', 'stalker', 'stalking', 'stalls', 'stamping', 'stamps', 'stance', 'stand', 'standard', 'standardized', 'standards', 'standing', 'standoffish', 'standpoint', 'stands', 'standstill', 'stanley', 'staple', 'stapled', 'staples', 'star', 'starbucks', 'stare', 'stared', 'stares', 'staring', 'starred', 'stars', 'start', 'started', 'starter', 'starters', 'startet', 'starting', 'startle', 'startled', 'starts', 'startup', 'starve', 'starving', 'stash', 'stashed', 'state', 'stated', 'statement', 'statements', 'states', 'stating', 'station', 'stationed', 'stations', 'stats', 'stature', 'status', 'stay', 'stayed', 'staying', 'stays', 'std', 'stds', 'steadily', 'steady', 'steak', 'steaks', 'steal', 'stealing', 'steam', 'steamy', 'steel', 'stem', 'stemming', 'stems', 'step', 'stepdad', 'stepfather', 'stephanie', 'stepmom', 'stepped', 'stepping', 'steps', 'stereo', 'stereotype', 'stereotypes', 'stereotypically', 'sterling', 'stern', 'sternly', 'sth', 'stick', 'sticking', 'sticks', 'sticky', 'stiff', 'stiffness', 'stigma', 'still', 'stills', 'stilted', 'stimulation', 'sting', 'stingy', 'stinks', 'stint', 'stipend', 'stitch', 'stitches', 'stock', 'stocked', 'stockers', 'stocking', 'stocks', 'stoic', 'stoked', 'stole', 'stolen', 'stomach', 'stomped', 'stomps', 'stone', 'stoned', 'stones', 'stood', 'stool', 'stoop', 'stoopid', 'stop', 'stoplight', 'stopped', 'stoppers', 'stopping', 'stops', 'storage', 'store', 'stored', 'stores', 'stories', 'storm', 'stormed', 'storming', 'storms', 'story', 'storyboards', 'storytelling', 'stove', 'straight', 'straighttalk', 'strain', 'strained', 'strains', 'straits', 'stranded', 'strange', 'strangely', 'stranger', 'strangers', 'strangled', 'strangulation', 'strap', 'strategies', 'strategize', 'straw', 'strawberries', 'straws', 'straying', 'streaming', 'street', 'streets', 'strength', 'strenuously', 'strep', 'streptococcus', 'stress', 'stressed', 'stresses', 'stressful', 'stressing', 'stretch', 'stretches', 'stretching', 'stricken', 'strict', 'strictly', 'stride', 'strides', 'strife', 'strike', 'strikes', 'striking', 'stringent', 'stripped', 'striven', 'striving', 'stroke', 'strokes', 'strolled', 'strong', 'stronger', 'strongest', 'strongly', 'stroppy', 'struck', 'structurally', 'structure', 'struggeling', 'struggle', 'struggled', 'struggles', 'struggling', 'strung', 'stubborn', 'stubby', 'stuck', 'student', 'students', 'studied', 'studies', 'studio', 'studios', 'study', 'studying', 'stuff', 'stuffed', 'stuffing', 'stuffy', 'stumbled', 'stump', 'stumped', 'stung', 'stunning', 'stunt', 'stupid', 'stupidest', 'stupidity', 'stupidly', 'stutter', 'style', 'stylus', 'sub', 'subbed', 'subconscious', 'subconsciously', 'subduing', 'subject', 'subjected', 'subjective', 'subjects', 'sublimate', 'submission', 'submit', 'submitted', 'submitter', 'submitting', 'suboxone', 'subreddit', 'subreddits', 'subs', 'subscribe', 'subscribes', 'subsequent', 'subsequently', 'subside', 'subsided', 'subsidized', 'substance', 'substances', 'substantial', 'substantially', 'subtle', 'subtleties', 'subtly', 'suburbs', 'subway', 'succeed', 'succeeded', 'success', 'successful', 'successfully', 'succint', 'succumb', 'such', 'suck', 'sucked', 'sucker', 'sucking', 'sucks', 'sudd', 'sudden', 'suddenly', 'sue', 'suffer', 'suffered', 'sufferers', 'suffering', 'suffers', 'suffice', 'sufficiency', 'sufficient', 'suffocated', 'suffocating', 'suffolk', 'suffrage', 'sugar', 'sugarbaby', 'suggest', 'suggested', 'suggestion', 'suggestions', 'suggests', 'suggeted', 'suicidal', 'suicide', 'suing', 'suit', 'suitable', 'suitcases', 'suite', 'suited', 'suitemates', 'suits', 'sulked', 'sulks', 'sum', 'summa', 'summarise', 'summarize', 'summarum', 'summary', 'summer', 'summit', 'sun', 'sunday', 'sunglasses', 'sunlight', 'sunriselady_44', 'sunshine', 'sunvisor', 'super', 'superficial', 'superior', 'supermarket', 'supermarkets', 'supernatural', 'supervised', 'supervision', 'supervisor', 'supervisors', 'suport', 'supplement', 'supplemental', 'supplied', 'supplies', 'supply', 'support', 'supported', 'supporter', 'supporting', 'supportive', 'supports', 'suppose', 'supposed', 'supposedly', 'suppport', 'suppress', 'suppressed', 'suppresses', 'suppressing', 'surcharges', 'sure', 'surely', 'surface', 'surfed', 'surfing', 'surgeon', 'surgeries', 'surgery', 'surprise', 'surprised', 'surprising', 'surprisingly', 'surreal', 'surrender', 'surrogates', 'surrounded', 'surrounding', 'surroundings', 'survey', 'surveyed', 'surveys', 'survival', 'survive', 'survived', 'surviving', 'survivor', 'survivors', 'suspect', 'suspected', 'suspecting', 'suspended', 'suspicion', 'suspicions', 'suspicious', 'sussed', 'sustain', 'sustainability', 'sustainable', 'sustained', 'sutured', 'suv', 'swallow', 'swam', 'swamp', 'swear', 'swearing', 'sweat', 'sweater', 'sweating', 'sweats', 'sweatshirts', 'sweaty', 'sweden', 'sweep', 'sweeping', 'sweet', 'sweetest', 'sweetheart', 'sweethearts', 'sweetly', 'swell', 'swelling', 'sweltering', 'swept', 'swim', 'swimmer', 'swimming', 'swing', 'swinging', 'swings', 'swiping', 'swirling', 'swirls', 'switch', 'switchblade', 'switched', 'switching', 'switchs', 'swore', 'sworn', 'swung', 'syllabus', 'symbol', 'sympathetic', 'sympathize', 'sympathized', 'sympathizers', 'sympathy', 'symphysis', 'sympthoms', 'symptom', 'symptomatic', 'symptoms', 'synchro_shoukan', 'syndrome', 'synergistic', 'system', 'systems', 'tab', 'table', 'tablet', 'tabletop', 'taboo', 'tabs', 'tachardiya', 'tackle', 'tackled', 'tacky', 'tact', 'tactic', 'tactical', 'tad', 'tag', 'tags', 'tailed', 'tails', 'taint', 'tainted', 'take', 'taken', 'takeout', 'taker', 'takes', 'taking', 'talents', 'talk', 'talkative', 'talked', 'talkers', 'talking', 'talknig', 'talks', 'tall', 'tame', 'tampa', 'tamper', 'tan', 'tangents', 'tankie', 'tantrum', 'tantrums', 'tap', 'tape', 'taped', 'taper', 'tapering', 'tapes', 'tapping', 'tarantulas', 'target', 'targeted', 'targeting', 'targets', 'tarp', 'task', 'tasks', 'taste', 'tastes', 'tasting', 'tasty', 'tattle', 'tattletale', 'tattoo', 'tattooed', 'tattooing', 'taught', 'taunt', 'taunted', 'taut', 'tax', 'taxes', 'taxi', 'taxing', 'taxis', 'taxonomically', 'tb', 'tbh', 'tbi', 'tbis', 'tcc', 'tea', 'teach', 'teacher', 'teachers', 'teaches', 'teaching', 'team', 'teaming', 'teams', 'tear', 'tearful', 'tearfulness', 'tearing', 'tears', 'teary', 'teaser', 'teasing', 'tech', 'technical', 'technically', 'technician', 'technique', 'techniques', 'technologies', 'technology', 'techs', 'teen', 'teenage', 'teenager', 'teenagers', 'teens', 'teeth', 'telenovelas', 'telephone', 'teleported', 'tell', 'telling', 'tells', 'temazepam', 'temp', 'temper', 'temperamental', 'temperature', 'temperatures', 'template', 'temple', 'temporarily', 'temporary', 'tempted', 'tempting', 'ten', 'tenancy', 'tenant', 'tend', 'tendencies', 'tendency', 'tending', 'tendonitis', 'tendons', 'tends', 'tennis', 'tense', 'tension', 'tensions', 'tent', 'tenth', 'tents', 'tenure', 'teriffied', 'term', 'termed', 'terminal', 'terminate', 'termination', 'terms', 'terrible', 'terribly', 'terrific', 'terrified', 'terrifies', 'terrifying', 'territory', 'terror', 'terrorist', 'terrorized', 'terrorizing', 'terrors', 'tertiary', 'test', 'tested', 'testify', 'testifying', 'testimony', 'testing', 'testosterone', 'tests', 'tethering', 'tetrazepam', 'texas', 'text', 'textbook', 'texted', 'texter', 'textiles', 'texting', 'texts', 'th', 'thaat', 'than', 'thank', 'thanked', 'thankful', 'thankfully', 'thanking', 'thanks', 'thanksgiving', 'that', 'thatch', 'thats', 'thays', 'the', 'thearpy', 'theaters', 'theatre', 'theft', 'thehaven', 'their', 'theirs', 'them', 'theme', 'themed', 'themselves', 'then', 'theo', 'theoretically', 'theories', 'theory', 'therapeutic', 'therapies', 'therapist', 'therapists', 'therapy', 'there', 'thereafter', 'thereby', 'therefore', 'thereof', 'theres', 'thermos', 'thescottsdale', 'these', 'theses', 'thesis', 'thewellnesssoc', 'thewellnesssocietyorg', 'they', 'theyll', 'theyre', 'theyå', 'thick', 'thicker', 'thief', 'thieves', 'thin', 'thing', 'thingie', 'things', 'thingys', 'think', 'thinkers', 'thinking', 'thinks', 'third', 'thirst', 'thirsty', 'thirties', 'thirty', 'this', 'tho', 'thomas', 'thorns', 'thorough', 'thoroughly', 'those', 'thou', 'though', 'thoughfor', 'thought', 'thoughtful', 'thoughts', 'thougths', 'thousand', 'thousands', 'thrashing', 'thread', 'threads', 'threat', 'threaten', 'threatened', 'threatening', 'threatens', 'threatenung', 'threats', 'three', 'threw', 'thrice', 'thrift', 'thrill', 'thrilled', 'thrive', 'thriving', 'throat', 'throne', 'throttling', 'through', 'throughout', 'throw', 'throwaway', 'throwing', 'thrown', 'throws', 'thru', 'thrust', 'thrusted', 'thug', 'thugs', 'thumb', 'thursday', 'thus', 'thyroid', 'tick', 'ticket', 'tickets', 'ticking', 'tickle', 'tickled', 'tickling', 'ticks', 'tide', 'tidy', 'tied', 'tier', 'ties', 'tight', 'tighten', 'tightened', 'tightly', 'tightness', 'til', 'till', 'tim', 'time', 'timeline', 'timer', 'times', 'timid', 'timing', 'tincture', 'tinder', 'tinfoil', 'tingling', 'tinkle', 'tinnitus', 'tint', 'tinted', 'tiny', 'tip', 'tipped', 'tipping', 'tips', 'tipsy', 'tire', 'tired', 'tiredness', 'tires', 'tiresome', 'tiring', 'tissue', 'tissues', 'titanium', 'title', 'titled', 'tizzy', 'tkts', 'tl', 'tldr', 'tmj', 'tnhoguht', 'to', 'toc', 'today', 'toddler', 'toddlers', 'toe', 'together', 'toilet', 'toileting', 'toiletries', 'toilets', 'toke', 'token', 'told', 'tolerable', 'tolerance', 'tolerate', 'tolerating', 'toll', 'tom', 'tomorrow', 'ton', 'tone', 'tongue', 'tonight', 'tonnes', 'tons', 'too', 'took', 'tool', 'tools', 'tooth', 'toothbrush', 'toothpaste', 'top', 'topic', 'topics', 'tops', 'toques', 'tore', 'torment', 'tormenting', 'torn', 'tornadoes', 'toronto', 'torture', 'tortured', 'torturing', 'tossed', 'tossing', 'total', 'totaling', 'totalling', 'totally', 'touch', 'touched', 'touches', 'touching', 'touchy', 'tough', 'toughest', 'tour', 'tourist', 'toward', 'towards', 'tower', 'towers', 'town', 'toxic', 'toy', 'toyed', 'toying', 'toys', 'tp', 'trace', 'track', 'tracked', 'tracking', 'tracphone', 'tract', 'traction', 'trade', 'traded', 'traditional', 'traditions', 'traffic', 'tragedy', 'tragic', 'tragically', 'trail', 'trailer', 'trailmix', 'trails', 'train', 'trained', 'trainer', 'training', 'trainings', 'trains', 'trait', 'traits', 'trajectory', 'tram', 'trance', 'tranquil', 'trans', 'transaction', 'transactions', 'transcribe', 'transfer', 'transference', 'transferred', 'transferring', 'transformations', 'transformed', 'transgender', 'transit', 'transition', 'transitioned', 'translate', 'translated', 'translations', 'transmission', 'transmissions', 'transparency', 'transpired', 'transplant', 'transport', 'transportation', 'transported', 'trap', 'trapeze', 'trapped', 'trash', 'trashcan', 'trauma', 'traumas', 'traumatic', 'traumatized', 'traumatizing', 'travel', 'traveled', 'traveling', 'travelled', 'travelling', 'travels', 'trazadone', 'trazodone', 'treadmill', 'treat', 'treatable', 'treated', 'treating', 'treatment', 'treatments', 'treats', 'tree', 'trees', 'trek', 'tremendous', 'tremendously', 'trend', 'tresspass', 'trial', 'trials', 'triangle', 'triazolam', 'trich', 'trick', 'tricked', 'tricks', 'tricky', 'tricyclic', 'tried', 'tries', 'trigeminal', 'trigger', 'triggered', 'triggering', 'triggers', 'trimester', 'trimesters', 'trip', 'tripled', 'tripped', 'trips', 'trivial', 'trolling', 'trouble', 'troubled', 'troubles', 'troubling', 'trough', 'truck', 'truckers', 'true', 'truly', 'trump', 'trunk', 'trust', 'trusted', 'trusting', 'trusts', 'trustworthiness', 'trustworthy', 'truth', 'truthfully', 'try', 'tryed', 'trying', 'tshirts', 'tsp', 'tthan', 'ttts', 'tube', 'tuck', 'tucked', 'tuesday', 'tuition', 'tulle', 'tumbling', 'tumblr', 'tummy', 'tumor', 'tumors', 'tumour', 'tumultuous', 'tuna', 'tuned', 'tunnel', 'turbulent', 'turkey', 'turkeys', 'turmeric', 'turmoil', 'turn', 'turned', 'turning', 'turns', 'tutor', 'tutors', 'tv', 'tw', 'twat', 'tweakers', 'tween', 'tweet', 'tweets', 'twelve', 'twenties', 'twenty', 'twice', 'twin', 'twinge', 'twist', 'twisted', 'twisty', 'twitch', 'twitching', 'twitter', 'two', 'twofold', 'twoxchromosomes', 'tx', 'tying', 'tyler', 'type', 'typed', 'types', 'typical', 'typically', 'typing', 'typo', 'tyson', 'uas', 'uber', 'ubereats', 'ubers', 'ugh', 'ugly', 'uh', 'uk', 'ukraine', 'ulterior', 'ultimate', 'ultimately', 'ultimatum', 'ultra', 'ultrasound', 'um', 'umm', 'un', 'unable', 'unacceptable', 'unaccepting', 'unachievable', 'unaddressed', 'unaffected', 'unapologetic', 'unappreciative', 'unattended', 'unattractive', 'unauthorized', 'unavailable', 'unaware', 'unbalance', 'unbearable', 'unbeatable', 'unbeknownst', 'unbelievable', 'unbelievably', 'unborn', 'unbuttoned', 'uncertainty', 'uncle', 'uncles', 'uncomfortable', 'uncommon', 'uncommunicative', 'unconditional', 'unconditionally', 'unconfident', 'unconscious', 'unconsciously', 'uncontrollable', 'uncontrollably', 'undeniable', 'under', 'underage', 'underappreciated', 'underdetermined', 'undergo', 'undergoing', 'undergone', 'undergrad', 'undergraduate', 'underlying', 'undermines', 'undermining', 'underneath', 'undershirt', 'understaffed', 'understand', 'understandable', 'understandably', 'understanding', 'understands', 'understatement', 'understood', 'undertaking', 'undertones', 'undertook', 'underwear', 'underwent', 'undeserving', 'undetected', 'undiagnosed', 'undocumentedandunafraid', 'undressing', 'unearthing', 'uneasiness', 'uneasy', 'unempathetic', 'unemployed', 'unemployment', 'unethical', 'uneven', 'unexpected', 'unexpectedly', 'unexperienced', 'unfair', 'unfaithful', 'unfamiliar', 'unfeeling', 'unfilled', 'unfit', 'unfixable', 'unforeseen', 'unfortunate', 'unfortunately', 'unfortunatly', 'unfourtunatley', 'unglued', 'ungrateful', 'unguided', 'unhappy', 'unhealthy', 'unhelpful', 'uni', 'uninformed', 'uninstalled', 'unintentionally', 'uninterested', 'union', 'unique', 'unit', 'unitarian', 'united', 'units', 'universalist', 'universally', 'universe', 'universities', 'university', 'unknown', 'unleash', 'unless', 'unlikable', 'unlike', 'unlikeable', 'unliked', 'unlikely', 'unlimited', 'unload', 'unloaded', 'unloading', 'unlock', 'unlocked', 'unlovable', 'unloved', 'unlubricated', 'unmandated', 'unmedicated', 'unmet', 'unmotivated', 'unnamed', 'unnatural', 'unnecessary', 'unneeded', 'unnerved', 'unofficial', 'unofficially', 'unpack', 'unpacked', 'unpaid', 'unpleasant', 'unprepared', 'unprofessional', 'unprotected', 'unqualified', 'unreal', 'unreality', 'unreasonable', 'unregistered', 'unrelated', 'unresolved', 'unromantic', 'unruly', 'unsafe', 'unsecured', 'unsettled', 'unstable', 'unsteady', 'unsuccessfully', 'unsure', 'unsurprisingly', 'untenable', 'untie', 'until', 'untill', 'untouchable', 'untreated', 'untrue', 'unused', 'unusual', 'unusually', 'unwanted', 'unwantedness', 'unwelcome', 'unwilling', 'unworthy', 'unwritten', 'unzipped', 'up', 'upbeat', 'upbringing', 'upcoming', 'update', 'updated', 'updates', 'upfront', 'upgraded', 'upgrading', 'upholds', 'upmost', 'upon', 'upper', 'uppers', 'uproar', 'uprooting', 'ups', 'upset', 'upsetting', 'upside', 'upstairs', 'upt', 'upvoting', 'urban', 'urge', 'urgency', 'urgent', 'urgently', 'urges', 'urging', 'urinary', 'urine', 'url', 'urologist', 'us', 'usa', 'usability', 'usage', 'usd', 'use', 'used', 'useful', 'usefulness', 'useless', 'user', 'username', 'users', 'uses', 'using', 'ussr', 'usual', 'usually', 'utah', 'uti', 'utilities', 'utility', 'utmost', 'utter', 'uttering', 'utterly', 'va', 'vacancy', 'vacate', 'vacation', 'vacations', 'vaccum', 'vaccuuming', 'vacuum', 'vagina', 'vaginal', 'vague', 'vaguely', 'vaguest', 'vagus', 'valentine', 'valentines', 'valid', 'validated', 'validation', 'validity', 'valium', 'valley', 'valuable', 'value', 'valued', 'values', 'valuing', 'van', 'vancouver', 'vanderbilt', 'vandrey', 'vanish', 'vapor', 'variant', 'variants', 'variation', 'varied', 'varies', 'variety', 'various', 'vary', 'varying', 'vases', 'vast', 'vastly', 've', 'vegas', 'vegetable', 'vehicle', 'vehicles', 'vein', 'veins', 'veld', 'vendetta', 'vendor', 'veneer', 'vengeance', 'venice', 'venlafaxine', 'venmo', 'venom', 'vent', 'venting', 'venturing', 'venues', 'verbal', 'verbalises', 'verbalize', 'verbalized', 'verbally', 'verbatim', 'verdict', 'verge', 'verification', 'verified', 'verify', 'versa', 'version', 'versions', 'vertigo', 'very', 'verycomfortably', 'vessels', 'vest', 'vet', 'veteran', 'veterans', 'veterinarian', 'vets', 'vhs', 'via', 'viable', 'vibe', 'vibes', 'vibration', 'vice', 'vicinity', 'vicious', 'viciously', 'vicks', 'vicodin', 'victim', 'victimize', 'victimized', 'victims', 'victory', 'video', 'videogames', 'videos', 'vienna', 'view', 'viewable', 'viewed', 'viewers', 'viewpoint', 'views', 'vigilance', 'vikings', 'village', 'villages', 'villain', 'vindictive', 'vine', 'vinigeer', 'vinyl', 'violate', 'violated', 'violates', 'violating', 'violation', 'violations', 'violence', 'violent', 'violently', 'vip', 'viral', 'virgin', 'virginity', 'virtual', 'virus', 'visa', 'visceral', 'viscerally', 'viscosity', 'viscous', 'visible', 'visibly', 'vision', 'visit', 'visitation', 'visitations', 'visited', 'visiting', 'visitor', 'visits', 'visually', 'visuals', 'vital', 'vitals', 'vitamin', 'vitriol', 'vivid', 'vividly', 'vlogs', 'vocabularies', 'vocabulary', 'vocal', 'vocalize', 'vocalizing', 'vocational', 'voice', 'voiced', 'voicemail', 'voicemails', 'voices', 'void', 'volatile', 'volcanically', 'volcano', 'voldemort', 'volume', 'voluntary', 'volunteer', 'volunteered', 'volunteering', 'volunteers', 'vomit', 'vomited', 'vomiting', 'vote', 'voted', 'voters', 'voting', 'vouch', 'voucher', 'vouchers', 'vowed', 'vs', 'vtn', 'vu', 'vulnerability', 'vulnerable', 'vunrable', 'vyanse', 'vyvanse', 'wa', 'waaaaaay', 'waffling', 'wag', 'wage', 'wages', 'waging', 'wagon', 'wail', 'wailing', 'waist', 'waisted', 'wait', 'waited', 'waiters', 'waiting', 'waitlist', 'waits', 'waitstaff', 'waive', 'wake', 'wakes', 'waking', 'wal', 'wales', 'walk', 'walked', 'walker', 'walkin', 'walking', 'walks', 'wall', 'walled', 'wallet', 'wallowing', 'walls', 'walmart', 'wander', 'wandering', 'wanderlust', 'wanna', 'want', 'wanted', 'wanting', 'wants', 'war', 'warcraft', 'ward', 'warehouse', 'warm', 'warmed', 'warmer', 'warming', 'warmth', 'warn', 'warned', 'warning', 'warnings', 'warped', 'warrant', 'warranted', 'warrants', 'wars', 'warts', 'wary', 'was', 'wash', 'washed', 'washing', 'washington', 'wasn', 'wasnt', 'waste', 'wasted', 'wasting', 'watch', 'watched', 'watcher', 'watchers', 'watches', 'watching', 'watchpeopledie', 'water', 'waterfall', 'waters', 'watery', 'watt', 'wave', 'waved', 'wavering', 'waves', 'wavy', 'waxed', 'way', 'wayne', 'ways', 'wayside', 'wayyyy', 'wayyyyyyy', 'wbc', 'we', 'weak', 'weaken', 'weaker', 'weakness', 'weaknesses', 'wealth', 'wealthier', 'wean', 'weapon', 'weaponized', 'weaponizing', 'weapons', 'wear', 'wearable', 'wearing', 'wears', 'weary', 'weasel', 'weather', 'web', 'webcam', 'website', 'websites', 'wedded', 'wedding', 'weddings', 'wedge', 'wednesday', 'wee', 'weed', 'week', 'weekend', 'weekends', 'weekly', 'weeks', 'weep', 'weigh', 'weighed', 'weighing', 'weighs', 'weight', 'weighted', 'weird', 'weirded', 'weirdest', 'weirdly', 'weirdo', 'welcome', 'welcomed', 'welcoming', 'welfare', 'well', 'wellbeing', 'wellbutrin', 'wellfare', 'wellness', 'welt', 'welts', 'wendy', 'went', 'were', 'weren', 'werent', 'west', 'western', 'wet', 'whack', 'whaling', 'what', 'whatever', 'whatnot', 'whats', 'whatsapp', 'whatsoever', 'whay', 'wheat', 'wheel', 'wheelchair', 'wheeler', 'wheeling', 'wheels', 'whelming', 'when', 'whenever', 'where', 'whereas', 'wherever', 'whether', 'which', 'whichever', 'while', 'whilst', 'whims', 'whine', 'whining', 'whip', 'whiplash', 'whipped', 'whirling', 'whisked', 'whiskey', 'whisper', 'whispers', 'whistle', 'white', 'who', 'whoever', 'whole', 'wholeheartedly', 'whom', 'whomever', 'whoopee', 'whooshing', 'whore', 'whose', 'why', 'wi', 'wich', 'wichita', 'wide', 'widely', 'widow', 'wierd', 'wife', 'wifey', 'wifi', 'wig', 'wiggle', 'wiki', 'wikipedia', 'wild', 'wilderness', 'wildly', 'wiling', 'wilkins', 'will', 'willing', 'willingly', 'willingness', 'willy', 'wilson', 'wilts', 'win', 'wince', 'wind', 'winded', 'windfall', 'winding', 'window', 'windows', 'windy', 'wine', 'wing', 'winky', 'winner', 'winners', 'winnie', 'winning', 'winter', 'winteryokohama', 'wipe', 'wiped', 'wipes', 'wire', 'wired', 'wires', 'wisconsin', 'wisdom', 'wise', 'wiser', 'wish', 'wished', 'wishes', 'wishful', 'wishing', 'wishlist', 'wit', 'witches', 'with', 'withdraw', 'withdrawal', 'withdrawals', 'withdrawing', 'withdraws', 'withdrew', 'withheld', 'withhold', 'withholding', 'withholds', 'within', 'without', 'witness', 'witnessed', 'witnesses', 'witnessing', 'wits', 'witted', 'witty', 'wives', 'wizard', 'wizards', 'wku', 'wmu', 'wobble', 'woes', 'woke', 'woken', 'wolf', 'woman', 'womanizer', 'womans', 'women', 'womens', 'won', 'wonder', 'wondered', 'wonderful', 'wonderfully', 'wondering', 'wonders', 'wonka', 'wonked', 'wont', 'wood', 'wooden', 'woods', 'woodworking', 'woozy', 'wor', 'word', 'worded', 'wording', 'words', 'wore', 'work', 'workaholic', 'workbook', 'workbooks', 'workday', 'worked', 'worker', 'workers', 'working', 'workout', 'workplace', 'works', 'worl', 'world', 'worms', 'worn', 'worried', 'worries', 'worrisomely', 'worry', 'worrying', 'worryingly', 'worse', 'worsend', 'worsened', 'worsening', 'worsens', 'worst', 'worth', 'worthless', 'worthwhile', 'worthy', 'woud', 'would', 'wouldn', 'wouldnt', 'wouldnæèt', 'wound', 'wounded', 'wounding', 'wounds', 'wow', 'wracking', 'wrangle', 'wrap', 'wrapped', 'wrath', 'wreck', 'wrecked', 'wrecks', 'wrenching', 'wrestle', 'wrestling', 'wretched', 'wring', 'wrist', 'wristbands', 'wrists', 'wristwatch', 'writ', 'write', 'writer', 'writers', 'writes', 'writing', 'written', 'wrong', 'wrote', 'wtf', 'wth', 'x200', 'x200b', 'xanax', 'xanex', 'xbox', 'xl', 'xpost', 'xr', 'xray', 'xsmall', 'xx', 'xxx', 'xyz', 'ya', 'yall', 'yard', 'yards', 'yawn', 'yawning', 'yay', 'yeah', 'year', 'yeara', 'yearn', 'years', 'yell', 'yelled', 'yelling', 'yells', 'yelped', 'yep', 'yes', 'yesterday', 'yet', 'yields', 'yo', 'yoga', 'york', 'you', 'youi', 'young', 'younger', 'youngest', 'your', 'yours', 'yourself', 'yourselves', 'youth', 'youtube', 'yr', 'yrs', 'ywca', 'zach', 'zack', 'zealand', 'zen', 'zero', 'zeroing', 'zi', 'zillow', 'zines', 'zinsser', 'zip', 'zofolt', 'zofran', 'zoloft', 'zombie', 'zombies', 'zone', 'zones', 'zoo', 'zuko', 'zumba', 'ââ8000', 'äã', 'åá', 'åê', 'åêdrink', 'åø', 'ùªâ', 'ùªã', 'ùô', 'ùõ', 'ùõü', 'ûª', 'ûª1', 'ûª9', 'ûªall', 'ûªd', 'ûªll', 'ûªm', 'ûªre', 'ûªs', 'ûªt', 'ûªve', 'ûªy', 'ûï', 'ûï7', 'ûï______', 'ûïactually', 'ûïaddiction', 'ûïaddicts', 'ûïafter', 'ûïagree', 'ûïalways', 'ûïan', 'ûïask', 'ûïavenue', 'ûïbeing', 'ûïbetter', 'ûïburner', 'ûïbut', 'ûïcan', 'ûïcatchphrase', 'ûïcheckmark', 'ûïconfidence', 'ûïcrazy', 'ûïcutting', 'ûïdead', 'ûïdefective', 'ûïdefine', 'ûïdeserve', 'ûïdis', 'ûïdo', 'ûïdrag', 'ûïeither', 'ûïemergency', 'ûïemotional', 'ûïexciting', 'ûïfamily', 'ûïfirst', 'ûïfitzgerald', 'ûïfor', 'ûïforgot', 'ûïfriend', 'ûïfriendship', 'ûïfuck', 'ûïget', 'ûïgive', 'ûïgo', 'ûïgod', 'ûïhas', 'ûïhe', 'ûïhere', 'ûïhey', 'ûïhi', 'ûïhosting', 'ûïhot', 'ûïhow', 'ûïi', 'ûïif', 'ûïin', 'ûïit', 'ûïkinda', 'ûïlevels', 'ûïlost', 'ûïlove', 'ûïlying', 'ûïmakes', 'ûïmanuel', 'ûïmatches', 'ûïme', 'ûïmediocre', 'ûïmetrics', 'ûïmore', 'ûïmum', 'ûïmy', 'ûïnice', 'ûïno', 'ûïnot', 'ûïnothing', 'ûïobviously', 'ûïoff', 'ûïoh', 'ûïok', 'ûïokay', 'ûïprotect', 'ûïprove', 'ûïreal', 'ûïrecharge', 'ûïremove', 'ûïretreat', 'ûïright', 'ûïrock', 'ûïs', 'ûïserious', 'ûïsexy', 'ûïshut', 'ûïsplurged', 'ûïstay', 'ûïsteady', 'ûïsteph', 'ûïstreet', 'ûïsurvey', 'ûïtake', 'ûïtalk', 'ûïtalks', 'ûïtech', 'ûïtell', 'ûïthanks', 'ûïthat', 'ûïthe', 'ûïthen', 'ûïtherapist', 'ûïthey', 'ûïthis', 'ûïtime', 'ûïtoo', 'ûïtrauma', 'ûïtreated', 'ûïwell', 'ûïwhat', 'ûïwho', 'ûïwhy', 'ûïwrong', 'ûïwtf', 'ûïyea', 'ûïyeah', 'ûïyo', 'ûïyou', 'ûïyour', 'ûò', 'ûó', 'ûóa', 'ûóbut', 'ûóie', 'ûóit', 'ûópanicking', 'ûóseriously', 'ûótraffic', 'ûóyou', 'ûü']\n"
     ]
    }
   ],
   "source": [
    "print(vectorizer.get_feature_names())"
   ]
  },
  {
   "cell_type": "code",
   "execution_count": 29,
   "id": "d8a75902",
   "metadata": {},
   "outputs": [
    {
     "name": "stdout",
     "output_type": "stream",
     "text": [
      "[[0 0 0 ... 0 0 0]\n",
      " [0 0 0 ... 0 0 0]\n",
      " [0 0 0 ... 0 0 0]\n",
      " ...\n",
      " [0 0 0 ... 0 0 0]\n",
      " [0 0 0 ... 0 0 0]\n",
      " [0 0 0 ... 0 0 0]]\n"
     ]
    }
   ],
   "source": [
    "print(suicide_countvectorizer.toarray()) "
   ]
  },
  {
   "cell_type": "code",
   "execution_count": 30,
   "id": "d115ec22",
   "metadata": {},
   "outputs": [
    {
     "data": {
      "text/plain": [
       "(3553, 12868)"
      ]
     },
     "execution_count": 30,
     "metadata": {},
     "output_type": "execute_result"
    }
   ],
   "source": [
    "suicide_countvectorizer.shape"
   ]
  },
  {
   "cell_type": "code",
   "execution_count": 31,
   "id": "b4d7439a",
   "metadata": {},
   "outputs": [],
   "source": [
    "X = suicide_countvectorizer"
   ]
  },
  {
   "cell_type": "code",
   "execution_count": 32,
   "id": "9bf8ad41",
   "metadata": {},
   "outputs": [
    {
     "name": "stdout",
     "output_type": "stream",
     "text": [
      "  (0, 5361)\t2\n",
      "  (0, 9748)\t1\n",
      "  (0, 5253)\t1\n",
      "  (0, 7614)\t1\n",
      "  (0, 4426)\t1\n",
      "  (0, 11320)\t2\n",
      "  (0, 12324)\t1\n",
      "  (0, 1309)\t1\n",
      "  (0, 10965)\t1\n",
      "  (0, 5034)\t1\n",
      "  (0, 9471)\t1\n",
      "  (0, 747)\t1\n",
      "  (0, 10392)\t2\n",
      "  (0, 11668)\t1\n",
      "  (0, 620)\t1\n",
      "  (0, 5742)\t1\n",
      "  (0, 12675)\t1\n",
      "  (0, 9055)\t1\n",
      "  (0, 5708)\t1\n",
      "  (0, 6651)\t1\n",
      "  (0, 7004)\t1\n",
      "  (0, 3038)\t1\n",
      "  (0, 11492)\t4\n",
      "  (0, 6757)\t1\n",
      "  (0, 11965)\t2\n",
      "  :\t:\n",
      "  (3552, 5481)\t1\n",
      "  (3552, 11332)\t1\n",
      "  (3552, 1302)\t1\n",
      "  (3552, 12400)\t1\n",
      "  (3552, 6346)\t2\n",
      "  (3552, 11665)\t1\n",
      "  (3552, 2071)\t1\n",
      "  (3552, 5638)\t1\n",
      "  (3552, 5533)\t1\n",
      "  (3552, 12000)\t1\n",
      "  (3552, 7266)\t1\n",
      "  (3552, 6559)\t1\n",
      "  (3552, 11359)\t2\n",
      "  (3552, 7256)\t1\n",
      "  (3552, 7471)\t1\n",
      "  (3552, 1863)\t1\n",
      "  (3552, 689)\t1\n",
      "  (3552, 7600)\t1\n",
      "  (3552, 6703)\t1\n",
      "  (3552, 7822)\t1\n",
      "  (3552, 10294)\t1\n",
      "  (3552, 820)\t1\n",
      "  (3552, 8776)\t2\n",
      "  (3552, 10374)\t1\n",
      "  (3552, 11960)\t1\n"
     ]
    }
   ],
   "source": [
    "print(X)"
   ]
  },
  {
   "cell_type": "code",
   "execution_count": 33,
   "id": "825d21a1",
   "metadata": {},
   "outputs": [],
   "source": [
    "y = dataset.iloc[:, -1].values"
   ]
  },
  {
   "cell_type": "code",
   "execution_count": 34,
   "id": "b7cb8709",
   "metadata": {},
   "outputs": [
    {
     "name": "stdout",
     "output_type": "stream",
     "text": [
      "[1 0 1 ... 1 0 1]\n"
     ]
    }
   ],
   "source": [
    "print(y)"
   ]
  },
  {
   "cell_type": "markdown",
   "id": "3da64785",
   "metadata": {},
   "source": [
    "# Train_Test_Split"
   ]
  },
  {
   "cell_type": "code",
   "execution_count": 35,
   "id": "fa807191",
   "metadata": {},
   "outputs": [],
   "source": [
    "from sklearn.model_selection import train_test_split\n",
    "X_train, X_test, y_train, y_test = train_test_split(X, y, test_size=0.2)"
   ]
  },
  {
   "cell_type": "code",
   "execution_count": null,
   "id": "2dbe9abd",
   "metadata": {},
   "outputs": [],
   "source": []
  },
  {
   "cell_type": "markdown",
   "id": "6cd83a8c",
   "metadata": {},
   "source": [
    "# LOGISTIC REGRESSION"
   ]
  },
  {
   "cell_type": "code",
   "execution_count": 36,
   "id": "0f9338f9",
   "metadata": {},
   "outputs": [
    {
     "data": {
      "text/plain": [
       "LogisticRegression()"
      ]
     },
     "execution_count": 36,
     "metadata": {},
     "output_type": "execute_result"
    }
   ],
   "source": [
    "from sklearn.linear_model import LogisticRegression\n",
    "\n",
    "LR_classifier = LogisticRegression()\n",
    "LR_classifier.fit(X_train, y_train)"
   ]
  },
  {
   "cell_type": "code",
   "execution_count": 37,
   "id": "55fa60ce",
   "metadata": {},
   "outputs": [],
   "source": [
    "from sklearn.metrics import classification_report, confusion_matrix, accuracy_score"
   ]
  },
  {
   "cell_type": "code",
   "execution_count": 109,
   "id": "1287b71c",
   "metadata": {},
   "outputs": [
    {
     "data": {
      "text/plain": [
       "<AxesSubplot:>"
      ]
     },
     "execution_count": 109,
     "metadata": {},
     "output_type": "execute_result"
    },
    {
     "data": {
      "image/png": "[encoded data removed]",
      "text/plain": [
       "<Figure size 432x288 with 2 Axes>"
      ]
     },
     "metadata": {
      "needs_background": "light"
     },
     "output_type": "display_data"
    }
   ],
   "source": [
    "y_predict_train = LR_classifier.predict(X_train)\n",
    "y_predict_train\n",
    "cm = confusion_matrix(y_train, y_predict_train)\n",
    "sns.heatmap(cm, annot=True)"
   ]
  },
  {
   "cell_type": "code",
   "execution_count": 38,
   "id": "68e15763",
   "metadata": {},
   "outputs": [
    {
     "data": {
      "text/plain": [
       "<AxesSubplot:>"
      ]
     },
     "execution_count": 38,
     "metadata": {},
     "output_type": "execute_result"
    },
    {
     "data": {
      "image/png": "[encoded data removed]",
      "text/plain": [
       "<Figure size 432x288 with 2 Axes>"
      ]
     },
     "metadata": {
      "needs_background": "light"
     },
     "output_type": "display_data"
    }
   ],
   "source": [
    "# Predicting the Test set results\n",
    "y_predict_test = LR_classifier.predict(X_test)\n",
    "cm = confusion_matrix(y_test, y_predict_test)\n",
    "sns.heatmap(cm, annot=True)"
   ]
  },
  {
   "cell_type": "code",
   "execution_count": 39,
   "id": "2c1b8dcf",
   "metadata": {},
   "outputs": [
    {
     "data": {
      "text/plain": [
       "0.7243319268635724"
      ]
     },
     "execution_count": 39,
     "metadata": {},
     "output_type": "execute_result"
    }
   ],
   "source": [
    "accuracy_score(y_test, y_predict_test)"
   ]
  },
  {
   "cell_type": "code",
   "execution_count": 40,
   "id": "9e1020e7",
   "metadata": {},
   "outputs": [
    {
     "name": "stdout",
     "output_type": "stream",
     "text": [
      "Accuracy: 72.34 %\n",
      "Standard Deviation: 1.13 %\n"
     ]
    }
   ],
   "source": [
    "from sklearn.model_selection import cross_val_score\n",
    "accuracies = cross_val_score(estimator = LR_classifier, X = X_train, y = y_train, cv = 5)\n",
    "print(\"Accuracy: {:.2f} %\".format(accuracies.mean()*100))\n",
    "print(\"Standard Deviation: {:.2f} %\".format(accuracies.std()*100))"
   ]
  },
  {
   "cell_type": "code",
   "execution_count": 41,
   "id": "3bd4ee03",
   "metadata": {},
   "outputs": [
    {
     "name": "stdout",
     "output_type": "stream",
     "text": [
      "Accuracy: 73.36 %\n",
      "Standard Deviation: 2.34 %\n"
     ]
    }
   ],
   "source": [
    "from sklearn.model_selection import cross_val_score\n",
    "accuracies = cross_val_score(estimator = LR_classifier, X = X_train, y = y_train, cv = 10)\n",
    "print(\"Accuracy: {:.2f} %\".format(accuracies.mean()*100))\n",
    "print(\"Standard Deviation: {:.2f} %\".format(accuracies.std()*100))"
   ]
  },
  {
   "cell_type": "code",
   "execution_count": 42,
   "id": "bed8602f",
   "metadata": {},
   "outputs": [
    {
     "name": "stdout",
     "output_type": "stream",
     "text": [
      "              precision    recall  f1-score   support\n",
      "\n",
      "           0       0.71      0.68      0.70       331\n",
      "           1       0.73      0.76      0.75       380\n",
      "\n",
      "    accuracy                           0.72       711\n",
      "   macro avg       0.72      0.72      0.72       711\n",
      "weighted avg       0.72      0.72      0.72       711\n",
      "\n"
     ]
    }
   ],
   "source": [
    "print(classification_report(y_test, y_predict_test))"
   ]
  },
  {
   "cell_type": "code",
   "execution_count": null,
   "id": "9d05a1dd",
   "metadata": {},
   "outputs": [],
   "source": []
  },
  {
   "cell_type": "markdown",
   "id": "78c8f37b",
   "metadata": {},
   "source": [
    "# XGBoost"
   ]
  },
  {
   "cell_type": "code",
   "execution_count": 43,
   "id": "4a481077",
   "metadata": {},
   "outputs": [
    {
     "name": "stdout",
     "output_type": "stream",
     "text": [
      "[10:33:08] WARNING: ..\\src\\learner.cc:1115: Starting in XGBoost 1.3.0, the default evaluation metric used with the objective 'binary:logistic' was changed from 'error' to 'logloss'. Explicitly set eval_metric if you'd like to restore the old behavior.\n"
     ]
    },
    {
     "data": {
      "text/plain": [
       "XGBClassifier(base_score=0.5, booster='gbtree', colsample_bylevel=1,\n",
       "              colsample_bynode=1, colsample_bytree=1, enable_categorical=False,\n",
       "              gamma=0, gpu_id=-1, importance_type=None,\n",
       "              interaction_constraints='', learning_rate=0.300000012,\n",
       "              max_delta_step=0, max_depth=6, min_child_weight=1, missing=nan,\n",
       "              monotone_constraints='()', n_estimators=100, n_jobs=4,\n",
       "              num_parallel_tree=1, predictor='auto', random_state=0,\n",
       "              reg_alpha=0, reg_lambda=1, scale_pos_weight=1, subsample=1,\n",
       "              tree_method='exact', validate_parameters=1, verbosity=None)"
      ]
     },
     "execution_count": 43,
     "metadata": {},
     "output_type": "execute_result"
    }
   ],
   "source": [
    "from xgboost import XGBClassifier\n",
    "XGB_classifier = XGBClassifier()\n",
    "XGB_classifier.fit(X_train, y_train)"
   ]
  },
  {
   "cell_type": "code",
   "execution_count": 44,
   "id": "7ccbc825",
   "metadata": {},
   "outputs": [],
   "source": [
    "from sklearn.metrics import classification_report, confusion_matrix, accuracy_score"
   ]
  },
  {
   "cell_type": "code",
   "execution_count": 45,
   "id": "19722567",
   "metadata": {},
   "outputs": [
    {
     "data": {
      "text/plain": [
       "<AxesSubplot:>"
      ]
     },
     "execution_count": 45,
     "metadata": {},
     "output_type": "execute_result"
    },
    {
     "data": {
      "image/png": "[encoded data removed]",
      "text/plain": [
       "<Figure size 432x288 with 2 Axes>"
      ]
     },
     "metadata": {
      "needs_background": "light"
     },
     "output_type": "display_data"
    }
   ],
   "source": [
    "y_predict_train = XGB_classifier.predict(X_train)\n",
    "y_predict_train\n",
    "cm = confusion_matrix(y_train, y_predict_train)\n",
    "sns.heatmap(cm, annot=True)"
   ]
  },
  {
   "cell_type": "code",
   "execution_count": 46,
   "id": "8b303e8d",
   "metadata": {},
   "outputs": [
    {
     "data": {
      "text/plain": [
       "<AxesSubplot:>"
      ]
     },
     "execution_count": 46,
     "metadata": {},
     "output_type": "execute_result"
    },
    {
     "data": {
      "image/png": "[encoded data removed]",
      "text/plain": [
       "<Figure size 432x288 with 2 Axes>"
      ]
     },
     "metadata": {
      "needs_background": "light"
     },
     "output_type": "display_data"
    }
   ],
   "source": [
    "# Predicting the Test set results\n",
    "y_predict_test = XGB_classifier.predict(X_test)\n",
    "cm = confusion_matrix(y_test, y_predict_test)\n",
    "sns.heatmap(cm, annot=True)"
   ]
  },
  {
   "cell_type": "code",
   "execution_count": 48,
   "id": "7799b0d7",
   "metadata": {},
   "outputs": [
    {
     "data": {
      "text/plain": [
       "0.7285513361462729"
      ]
     },
     "execution_count": 48,
     "metadata": {},
     "output_type": "execute_result"
    }
   ],
   "source": [
    "accuracy_score(y_test, y_predict_test)\n"
   ]
  },
  {
   "cell_type": "code",
   "execution_count": 49,
   "id": "02af77e4",
   "metadata": {},
   "outputs": [
    {
     "name": "stdout",
     "output_type": "stream",
     "text": [
      "[10:34:34] WARNING: ..\\src\\learner.cc:1115: Starting in XGBoost 1.3.0, the default evaluation metric used with the objective 'binary:logistic' was changed from 'error' to 'logloss'. Explicitly set eval_metric if you'd like to restore the old behavior.\n",
      "[10:34:36] WARNING: ..\\src\\learner.cc:1115: Starting in XGBoost 1.3.0, the default evaluation metric used with the objective 'binary:logistic' was changed from 'error' to 'logloss'. Explicitly set eval_metric if you'd like to restore the old behavior.\n",
      "[10:34:38] WARNING: ..\\src\\learner.cc:1115: Starting in XGBoost 1.3.0, the default evaluation metric used with the objective 'binary:logistic' was changed from 'error' to 'logloss'. Explicitly set eval_metric if you'd like to restore the old behavior.\n",
      "[10:34:39] WARNING: ..\\src\\learner.cc:1115: Starting in XGBoost 1.3.0, the default evaluation metric used with the objective 'binary:logistic' was changed from 'error' to 'logloss'. Explicitly set eval_metric if you'd like to restore the old behavior.\n",
      "[10:34:41] WARNING: ..\\src\\learner.cc:1115: Starting in XGBoost 1.3.0, the default evaluation metric used with the objective 'binary:logistic' was changed from 'error' to 'logloss'. Explicitly set eval_metric if you'd like to restore the old behavior.\n",
      "[10:34:42] WARNING: ..\\src\\learner.cc:1115: Starting in XGBoost 1.3.0, the default evaluation metric used with the objective 'binary:logistic' was changed from 'error' to 'logloss'. Explicitly set eval_metric if you'd like to restore the old behavior.\n",
      "[10:34:44] WARNING: ..\\src\\learner.cc:1115: Starting in XGBoost 1.3.0, the default evaluation metric used with the objective 'binary:logistic' was changed from 'error' to 'logloss'. Explicitly set eval_metric if you'd like to restore the old behavior.\n",
      "[10:34:45] WARNING: ..\\src\\learner.cc:1115: Starting in XGBoost 1.3.0, the default evaluation metric used with the objective 'binary:logistic' was changed from 'error' to 'logloss'. Explicitly set eval_metric if you'd like to restore the old behavior.\n",
      "[10:34:47] WARNING: ..\\src\\learner.cc:1115: Starting in XGBoost 1.3.0, the default evaluation metric used with the objective 'binary:logistic' was changed from 'error' to 'logloss'. Explicitly set eval_metric if you'd like to restore the old behavior.\n",
      "[10:34:49] WARNING: ..\\src\\learner.cc:1115: Starting in XGBoost 1.3.0, the default evaluation metric used with the objective 'binary:logistic' was changed from 'error' to 'logloss'. Explicitly set eval_metric if you'd like to restore the old behavior.\n",
      "Accuracy: 71.25 %\n",
      "Standard Deviation: 2.68 %\n"
     ]
    }
   ],
   "source": [
    "from sklearn.model_selection import cross_val_score\n",
    "accuracies = cross_val_score(estimator = XGB_classifier, X = X_train, y = y_train, cv = 10)\n",
    "print(\"Accuracy: {:.2f} %\".format(accuracies.mean()*100))\n",
    "print(\"Standard Deviation: {:.2f} %\".format(accuracies.std()*100))"
   ]
  },
  {
   "cell_type": "code",
   "execution_count": 50,
   "id": "350a0c5d",
   "metadata": {},
   "outputs": [
    {
     "name": "stdout",
     "output_type": "stream",
     "text": [
      "[10:37:01] WARNING: ..\\src\\learner.cc:1115: Starting in XGBoost 1.3.0, the default evaluation metric used with the objective 'binary:logistic' was changed from 'error' to 'logloss'. Explicitly set eval_metric if you'd like to restore the old behavior.\n",
      "[10:37:03] WARNING: ..\\src\\learner.cc:1115: Starting in XGBoost 1.3.0, the default evaluation metric used with the objective 'binary:logistic' was changed from 'error' to 'logloss'. Explicitly set eval_metric if you'd like to restore the old behavior.\n",
      "[10:37:04] WARNING: ..\\src\\learner.cc:1115: Starting in XGBoost 1.3.0, the default evaluation metric used with the objective 'binary:logistic' was changed from 'error' to 'logloss'. Explicitly set eval_metric if you'd like to restore the old behavior.\n",
      "[10:37:05] WARNING: ..\\src\\learner.cc:1115: Starting in XGBoost 1.3.0, the default evaluation metric used with the objective 'binary:logistic' was changed from 'error' to 'logloss'. Explicitly set eval_metric if you'd like to restore the old behavior.\n",
      "[10:37:07] WARNING: ..\\src\\learner.cc:1115: Starting in XGBoost 1.3.0, the default evaluation metric used with the objective 'binary:logistic' was changed from 'error' to 'logloss'. Explicitly set eval_metric if you'd like to restore the old behavior.\n",
      "Accuracy: 70.52 %\n",
      "Standard Deviation: 1.92 %\n"
     ]
    }
   ],
   "source": [
    "from sklearn.model_selection import cross_val_score\n",
    "accuracies = cross_val_score(estimator = XGB_classifier, X = X_train, y = y_train, cv = 5)\n",
    "print(\"Accuracy: {:.2f} %\".format(accuracies.mean()*100))\n",
    "print(\"Standard Deviation: {:.2f} %\".format(accuracies.std()*100))"
   ]
  },
  {
   "cell_type": "code",
   "execution_count": 51,
   "id": "ca06568d",
   "metadata": {},
   "outputs": [
    {
     "name": "stdout",
     "output_type": "stream",
     "text": [
      "              precision    recall  f1-score   support\n",
      "\n",
      "           0       0.72      0.69      0.70       331\n",
      "           1       0.74      0.76      0.75       380\n",
      "\n",
      "    accuracy                           0.73       711\n",
      "   macro avg       0.73      0.73      0.73       711\n",
      "weighted avg       0.73      0.73      0.73       711\n",
      "\n"
     ]
    }
   ],
   "source": [
    "print(classification_report(y_test, y_predict_test))"
   ]
  },
  {
   "cell_type": "code",
   "execution_count": null,
   "id": "50e184c4",
   "metadata": {},
   "outputs": [],
   "source": []
  },
  {
   "cell_type": "markdown",
   "id": "83662206",
   "metadata": {},
   "source": [
    "# SVM"
   ]
  },
  {
   "cell_type": "code",
   "execution_count": 52,
   "id": "503c8def",
   "metadata": {},
   "outputs": [
    {
     "data": {
      "text/plain": [
       "SVC(kernel='linear', random_state=0)"
      ]
     },
     "execution_count": 52,
     "metadata": {},
     "output_type": "execute_result"
    }
   ],
   "source": [
    "from sklearn.svm import SVC\n",
    "\n",
    "SVM_classifier = SVC(kernel = 'linear', random_state = 0)\n",
    "SVM_classifier.fit(X_train, y_train)"
   ]
  },
  {
   "cell_type": "code",
   "execution_count": 53,
   "id": "a11a1f60",
   "metadata": {},
   "outputs": [],
   "source": [
    "from sklearn.metrics import classification_report, confusion_matrix, accuracy_score"
   ]
  },
  {
   "cell_type": "code",
   "execution_count": 54,
   "id": "bc36ed29",
   "metadata": {},
   "outputs": [
    {
     "data": {
      "text/plain": [
       "<AxesSubplot:>"
      ]
     },
     "execution_count": 54,
     "metadata": {},
     "output_type": "execute_result"
    },
    {
     "data": {
      "image/png": "[encoded data removed]",
      "text/plain": [
       "<Figure size 432x288 with 2 Axes>"
      ]
     },
     "metadata": {
      "needs_background": "light"
     },
     "output_type": "display_data"
    }
   ],
   "source": [
    "y_predict_train = SVM_classifier.predict(X_train)\n",
    "y_predict_train\n",
    "cm = confusion_matrix(y_train, y_predict_train)\n",
    "sns.heatmap(cm, annot=True)"
   ]
  },
  {
   "cell_type": "code",
   "execution_count": 55,
   "id": "bb83042d",
   "metadata": {},
   "outputs": [
    {
     "data": {
      "text/plain": [
       "<AxesSubplot:>"
      ]
     },
     "execution_count": 55,
     "metadata": {},
     "output_type": "execute_result"
    },
    {
     "data": {
      "image/png": "[encoded data removed]",
      "text/plain": [
       "<Figure size 432x288 with 2 Axes>"
      ]
     },
     "metadata": {
      "needs_background": "light"
     },
     "output_type": "display_data"
    }
   ],
   "source": [
    "# Predicting the Test set results\n",
    "y_predict_test =SVM_classifier.predict(X_test)\n",
    "cm = confusion_matrix(y_test,y_predict_test)\n",
    "sns.heatmap(cm, annot=True)"
   ]
  },
  {
   "cell_type": "code",
   "execution_count": 57,
   "id": "836d737e",
   "metadata": {},
   "outputs": [
    {
     "data": {
      "text/plain": [
       "0.7032348804500703"
      ]
     },
     "execution_count": 57,
     "metadata": {},
     "output_type": "execute_result"
    }
   ],
   "source": [
    "accuracy_score(y_test, y_predict_test)"
   ]
  },
  {
   "cell_type": "code",
   "execution_count": 59,
   "id": "26d3c643",
   "metadata": {},
   "outputs": [
    {
     "name": "stdout",
     "output_type": "stream",
     "text": [
      "              precision    recall  f1-score   support\n",
      "\n",
      "           0       0.69      0.66      0.68       331\n",
      "           1       0.72      0.74      0.73       380\n",
      "\n",
      "    accuracy                           0.70       711\n",
      "   macro avg       0.70      0.70      0.70       711\n",
      "weighted avg       0.70      0.70      0.70       711\n",
      "\n"
     ]
    }
   ],
   "source": [
    "print(classification_report(y_test, y_predict_test))"
   ]
  },
  {
   "cell_type": "code",
   "execution_count": 60,
   "id": "6e17b440",
   "metadata": {},
   "outputs": [
    {
     "name": "stdout",
     "output_type": "stream",
     "text": [
      "Accuracy: 71.18 %\n",
      "Standard Deviation: 2.23 %\n"
     ]
    }
   ],
   "source": [
    "from sklearn.model_selection import cross_val_score\n",
    "accuracies = cross_val_score(estimator = SVM_classifier, X = X_train, y = y_train, cv = 5)\n",
    "print(\"Accuracy: {:.2f} %\".format(accuracies.mean()*100))\n",
    "print(\"Standard Deviation: {:.2f} %\".format(accuracies.std()*100))"
   ]
  },
  {
   "cell_type": "code",
   "execution_count": 61,
   "id": "63ec13d7",
   "metadata": {},
   "outputs": [
    {
     "name": "stdout",
     "output_type": "stream",
     "text": [
      "Accuracy: 71.68 %\n",
      "Standard Deviation: 2.83 %\n"
     ]
    }
   ],
   "source": [
    "from sklearn.model_selection import cross_val_score\n",
    "accuracies = cross_val_score(estimator = SVM_classifier, X = X_train, y = y_train, cv = 10)\n",
    "print(\"Accuracy: {:.2f} %\".format(accuracies.mean()*100))\n",
    "print(\"Standard Deviation: {:.2f} %\".format(accuracies.std()*100))"
   ]
  },
  {
   "cell_type": "markdown",
   "id": "b2e165df",
   "metadata": {},
   "source": [
    "# RANDOM FOREST"
   ]
  },
  {
   "cell_type": "code",
   "execution_count": 62,
   "id": "68246dce",
   "metadata": {},
   "outputs": [
    {
     "data": {
      "text/plain": [
       "RandomForestClassifier(criterion='entropy', n_estimators=40, random_state=0)"
      ]
     },
     "execution_count": 62,
     "metadata": {},
     "output_type": "execute_result"
    }
   ],
   "source": [
    "from sklearn.ensemble import RandomForestClassifier\n",
    "\n",
    "RF_classifier = RandomForestClassifier(n_estimators = 40, criterion = 'entropy', random_state = 0)\n",
    "RF_classifier.fit(X_train, y_train)"
   ]
  },
  {
   "cell_type": "code",
   "execution_count": 63,
   "id": "7a552adf",
   "metadata": {},
   "outputs": [],
   "source": [
    "from sklearn.metrics import classification_report, confusion_matrix"
   ]
  },
  {
   "cell_type": "code",
   "execution_count": 64,
   "id": "1f9e14f9",
   "metadata": {},
   "outputs": [
    {
     "data": {
      "text/plain": [
       "<AxesSubplot:>"
      ]
     },
     "execution_count": 64,
     "metadata": {},
     "output_type": "execute_result"
    },
    {
     "data": {
      "image/png": "[encoded data removed]",
      "text/plain": [
       "<Figure size 432x288 with 2 Axes>"
      ]
     },
     "metadata": {
      "needs_background": "light"
     },
     "output_type": "display_data"
    }
   ],
   "source": [
    "y_predict_train = RF_classifier.predict(X_train)\n",
    "y_predict_train\n",
    "cm = confusion_matrix(y_train, y_predict_train)\n",
    "sns.heatmap(cm, annot=True)"
   ]
  },
  {
   "cell_type": "code",
   "execution_count": 65,
   "id": "c548cd42",
   "metadata": {},
   "outputs": [
    {
     "data": {
      "text/plain": [
       "<AxesSubplot:>"
      ]
     },
     "execution_count": 65,
     "metadata": {},
     "output_type": "execute_result"
    },
    {
     "data": {
      "image/png": "[encoded data removed]",
      "text/plain": [
       "<Figure size 432x288 with 2 Axes>"
      ]
     },
     "metadata": {
      "needs_background": "light"
     },
     "output_type": "display_data"
    }
   ],
   "source": [
    "# Predicting the Test set results\n",
    "y_predict_test = RF_classifier.predict(X_test)\n",
    "cm = confusion_matrix(y_test, y_predict_test)\n",
    "sns.heatmap(cm, annot=True)"
   ]
  },
  {
   "cell_type": "code",
   "execution_count": 71,
   "id": "64dbb1dd",
   "metadata": {},
   "outputs": [
    {
     "name": "stdout",
     "output_type": "stream",
     "text": [
      "              precision    recall  f1-score   support\n",
      "\n",
      "           0       0.73      0.68      0.71       331\n",
      "           1       0.74      0.78      0.76       380\n",
      "\n",
      "    accuracy                           0.73       711\n",
      "   macro avg       0.73      0.73      0.73       711\n",
      "weighted avg       0.73      0.73      0.73       711\n",
      "\n"
     ]
    }
   ],
   "source": [
    "print(classification_report(y_test, y_predict_test))"
   ]
  },
  {
   "cell_type": "code",
   "execution_count": 72,
   "id": "8b770043",
   "metadata": {},
   "outputs": [
    {
     "name": "stdout",
     "output_type": "stream",
     "text": [
      "precision: [0.72903226 0.73815461]\n",
      "recall: [0.68277946 0.77894737]\n",
      "fscore: [0.70514821 0.75800256]\n",
      "support: [331 380]\n"
     ]
    }
   ],
   "source": [
    "from sklearn.metrics import precision_recall_fscore_support as score\n",
    "precision, recall, fscore, support = score(y_test, y_predict_test)\n",
    "\n",
    "print('precision: {}'.format(precision))\n",
    "print('recall: {}'.format(recall))\n",
    "print('fscore: {}'.format(fscore))\n",
    "print('support: {}'.format(support))"
   ]
  },
  {
   "cell_type": "code",
   "execution_count": 69,
   "id": "8b36a0f2",
   "metadata": {},
   "outputs": [
    {
     "name": "stdout",
     "output_type": "stream",
     "text": [
      "Accuracy: 71.96 %\n",
      "Standard Deviation: 2.60 %\n"
     ]
    }
   ],
   "source": [
    "from sklearn.model_selection import cross_val_score\n",
    "accuracies = cross_val_score(estimator = RF_classifier, X = X_train, y = y_train, cv = 5)\n",
    "print(\"Accuracy: {:.2f} %\".format(accuracies.mean()*100))\n",
    "print(\"Standard Deviation: {:.2f} %\".format(accuracies.std()*100))"
   ]
  },
  {
   "cell_type": "code",
   "execution_count": 70,
   "id": "de23174e",
   "metadata": {},
   "outputs": [
    {
     "name": "stdout",
     "output_type": "stream",
     "text": [
      "Accuracy: 71.39 %\n",
      "Standard Deviation: 2.18 %\n"
     ]
    }
   ],
   "source": [
    "from sklearn.model_selection import cross_val_score\n",
    "accuracies = cross_val_score(estimator = RF_classifier, X = X_train, y = y_train, cv = 10)\n",
    "print(\"Accuracy: {:.2f} %\".format(accuracies.mean()*100))\n",
    "print(\"Standard Deviation: {:.2f} %\".format(accuracies.std()*100))"
   ]
  },
  {
   "cell_type": "markdown",
   "id": "582f0db4",
   "metadata": {},
   "source": [
    "# GBDT"
   ]
  },
  {
   "cell_type": "code",
   "execution_count": 73,
   "id": "882e2113",
   "metadata": {},
   "outputs": [
    {
     "data": {
      "text/plain": [
       "GradientBoostingClassifier()"
      ]
     },
     "execution_count": 73,
     "metadata": {},
     "output_type": "execute_result"
    }
   ],
   "source": [
    "from sklearn.ensemble import GradientBoostingClassifier\n",
    "\n",
    "GBDT_classifier = GradientBoostingClassifier()\n",
    "GBDT_classifier.fit(X_train, y_train)"
   ]
  },
  {
   "cell_type": "code",
   "execution_count": 74,
   "id": "4599ba14",
   "metadata": {},
   "outputs": [],
   "source": [
    "from sklearn.metrics import classification_report, confusion_matrix"
   ]
  },
  {
   "cell_type": "code",
   "execution_count": 75,
   "id": "d408f0f8",
   "metadata": {},
   "outputs": [
    {
     "data": {
      "text/plain": [
       "<AxesSubplot:>"
      ]
     },
     "execution_count": 75,
     "metadata": {},
     "output_type": "execute_result"
    },
    {
     "data": {
      "image/png": "[encoded data removed]",
      "text/plain": [
       "<Figure size 432x288 with 2 Axes>"
      ]
     },
     "metadata": {
      "needs_background": "light"
     },
     "output_type": "display_data"
    }
   ],
   "source": [
    "y_predict_train = GBDT_classifier.predict(X_train)\n",
    "y_predict_train\n",
    "cm = confusion_matrix(y_train, y_predict_train)\n",
    "sns.heatmap(cm, annot=True)"
   ]
  },
  {
   "cell_type": "code",
   "execution_count": 76,
   "id": "1f8ba979",
   "metadata": {},
   "outputs": [
    {
     "data": {
      "text/plain": [
       "<AxesSubplot:>"
      ]
     },
     "execution_count": 76,
     "metadata": {},
     "output_type": "execute_result"
    },
    {
     "data": {
      "image/png": "[encoded data removed]",
      "text/plain": [
       "<Figure size 432x288 with 2 Axes>"
      ]
     },
     "metadata": {
      "needs_background": "light"
     },
     "output_type": "display_data"
    }
   ],
   "source": [
    "# Predicting the Test set results\n",
    "y_predict_test = GBDT_classifier.predict(X_test)\n",
    "cm = confusion_matrix(y_test, y_predict_test)\n",
    "sns.heatmap(cm, annot=True)"
   ]
  },
  {
   "cell_type": "code",
   "execution_count": 77,
   "id": "63d729c0",
   "metadata": {},
   "outputs": [
    {
     "name": "stdout",
     "output_type": "stream",
     "text": [
      "              precision    recall  f1-score   support\n",
      "\n",
      "           0       0.71      0.69      0.70       331\n",
      "           1       0.73      0.75      0.74       380\n",
      "\n",
      "    accuracy                           0.72       711\n",
      "   macro avg       0.72      0.72      0.72       711\n",
      "weighted avg       0.72      0.72      0.72       711\n",
      "\n"
     ]
    }
   ],
   "source": [
    "print(classification_report(y_test, y_predict_test))"
   ]
  },
  {
   "cell_type": "code",
   "execution_count": 78,
   "id": "c0a0f1d9",
   "metadata": {},
   "outputs": [
    {
     "name": "stdout",
     "output_type": "stream",
     "text": [
      "Accuracy: 71.43 %\n",
      "Standard Deviation: 1.67 %\n"
     ]
    }
   ],
   "source": [
    "from sklearn.model_selection import cross_val_score\n",
    "accuracies = cross_val_score(estimator = GBDT_classifier, X = X_train, y = y_train, cv = 5)\n",
    "print(\"Accuracy: {:.2f} %\".format(accuracies.mean()*100))\n",
    "print(\"Standard Deviation: {:.2f} %\".format(accuracies.std()*100))"
   ]
  },
  {
   "cell_type": "code",
   "execution_count": 79,
   "id": "e0d28302",
   "metadata": {},
   "outputs": [
    {
     "name": "stdout",
     "output_type": "stream",
     "text": [
      "Accuracy: 71.68 %\n",
      "Standard Deviation: 2.19 %\n"
     ]
    }
   ],
   "source": [
    "from sklearn.model_selection import cross_val_score\n",
    "accuracies = cross_val_score(estimator = GBDT_classifier, X = X_train, y = y_train, cv = 10)\n",
    "print(\"Accuracy: {:.2f} %\".format(accuracies.mean()*100))\n",
    "print(\"Standard Deviation: {:.2f} %\".format(accuracies.std()*100))"
   ]
  },
  {
   "cell_type": "code",
   "execution_count": null,
   "id": "e69c6de2",
   "metadata": {},
   "outputs": [],
   "source": []
  },
  {
   "cell_type": "markdown",
   "id": "265dea90",
   "metadata": {},
   "source": [
    "# NAIVE BAYES"
   ]
  },
  {
   "cell_type": "code",
   "execution_count": 80,
   "id": "e47ce47f",
   "metadata": {},
   "outputs": [
    {
     "data": {
      "text/plain": [
       "MultinomialNB()"
      ]
     },
     "execution_count": 80,
     "metadata": {},
     "output_type": "execute_result"
    }
   ],
   "source": [
    "from sklearn.naive_bayes import MultinomialNB\n",
    "\n",
    "NB_classifier = MultinomialNB()\n",
    "NB_classifier.fit(X_train, y_train)"
   ]
  },
  {
   "cell_type": "code",
   "execution_count": 81,
   "id": "2403b808",
   "metadata": {},
   "outputs": [],
   "source": [
    "from sklearn.metrics import classification_report, confusion_matrix\n"
   ]
  },
  {
   "cell_type": "code",
   "execution_count": 82,
   "id": "e7420578",
   "metadata": {},
   "outputs": [
    {
     "data": {
      "text/plain": [
       "<AxesSubplot:>"
      ]
     },
     "execution_count": 82,
     "metadata": {},
     "output_type": "execute_result"
    },
    {
     "data": {
      "image/png": "[encoded data removed]",
      "text/plain": [
       "<Figure size 432x288 with 2 Axes>"
      ]
     },
     "metadata": {
      "needs_background": "light"
     },
     "output_type": "display_data"
    }
   ],
   "source": [
    "y_predict_train = NB_classifier.predict(X_train)\n",
    "y_predict_train\n",
    "cm = confusion_matrix(y_train, y_predict_train)\n",
    "sns.heatmap(cm, annot=True)"
   ]
  },
  {
   "cell_type": "code",
   "execution_count": 83,
   "id": "8ddc1105",
   "metadata": {},
   "outputs": [
    {
     "data": {
      "text/plain": [
       "<AxesSubplot:>"
      ]
     },
     "execution_count": 83,
     "metadata": {},
     "output_type": "execute_result"
    },
    {
     "data": {
      "image/png": "[encoded data removed]",
      "text/plain": [
       "<Figure size 432x288 with 2 Axes>"
      ]
     },
     "metadata": {
      "needs_background": "light"
     },
     "output_type": "display_data"
    }
   ],
   "source": [
    "# Predicting the Test set results\n",
    "y_predict_test = NB_classifier.predict(X_test)\n",
    "cm = confusion_matrix(y_test, y_predict_test)\n",
    "sns.heatmap(cm, annot=True)"
   ]
  },
  {
   "cell_type": "code",
   "execution_count": 85,
   "id": "d8ddccf3",
   "metadata": {},
   "outputs": [
    {
     "name": "stdout",
     "output_type": "stream",
     "text": [
      "              precision    recall  f1-score   support\n",
      "\n",
      "           0       0.79      0.64      0.71       331\n",
      "           1       0.73      0.86      0.79       380\n",
      "\n",
      "    accuracy                           0.76       711\n",
      "   macro avg       0.76      0.75      0.75       711\n",
      "weighted avg       0.76      0.76      0.75       711\n",
      "\n"
     ]
    }
   ],
   "source": [
    "print(classification_report(y_test, y_predict_test))"
   ]
  },
  {
   "cell_type": "code",
   "execution_count": 86,
   "id": "1638d9f9",
   "metadata": {},
   "outputs": [
    {
     "name": "stdout",
     "output_type": "stream",
     "text": [
      "Accuracy: 74.39 %\n",
      "Standard Deviation: 1.68 %\n"
     ]
    }
   ],
   "source": [
    "from sklearn.model_selection import cross_val_score\n",
    "accuracies = cross_val_score(estimator = NB_classifier, X = X_train, y = y_train, cv = 10)\n",
    "print(\"Accuracy: {:.2f} %\".format(accuracies.mean()*100))\n",
    "print(\"Standard Deviation: {:.2f} %\".format(accuracies.std()*100))"
   ]
  },
  {
   "cell_type": "code",
   "execution_count": 170,
   "id": "af1efdcb",
   "metadata": {},
   "outputs": [
    {
     "name": "stdout",
     "output_type": "stream",
     "text": [
      "Accuracy: 94.15 %\n",
      "Standard Deviation: 0.65 %\n"
     ]
    }
   ],
   "source": [
    "from sklearn.model_selection import cross_val_score\n",
    "accuracies = cross_val_score(estimator = NB_classifier, X = X_train, y = y_train, cv = 5)\n",
    "print(\"Accuracy: {:.2f} %\".format(accuracies.mean()*100))\n",
    "print(\"Standard Deviation: {:.2f} %\".format(accuracies.std()*100))"
   ]
  },
  {
   "cell_type": "code",
   "execution_count": null,
   "id": "bc29ad07",
   "metadata": {},
   "outputs": [],
   "source": []
  },
  {
   "cell_type": "code",
   "execution_count": null,
   "id": "9069aa7a",
   "metadata": {},
   "outputs": [],
   "source": []
  }
 ],
 "metadata": {
  "kernelspec": {
   "display_name": "Python 3 (ipykernel)",
   "language": "python",
   "name": "python3"
  },
  "language_info": {
   "codemirror_mode": {
    "name": "ipython",
    "version": 3
   },
   "file_extension": ".py",
   "mimetype": "text/x-python",
   "name": "python",
   "nbconvert_exporter": "python",
   "pygments_lexer": "ipython3",
   "version": "3.9.7"
  }
 },
 "nbformat": 4,
 "nbformat_minor": 5
}
