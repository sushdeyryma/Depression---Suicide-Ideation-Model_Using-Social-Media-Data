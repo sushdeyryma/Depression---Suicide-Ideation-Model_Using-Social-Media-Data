{
 "cells": [
  {
   "cell_type": "code",
   "execution_count": 1,
   "id": "51446539",
   "metadata": {},
   "outputs": [],
   "source": [
    "import warnings; \n",
    "warnings.simplefilter('ignore')"
   ]
  },
  {
   "cell_type": "markdown",
   "id": "f135b2d1",
   "metadata": {},
   "source": [
    "# Importing the libraries"
   ]
  },
  {
   "cell_type": "code",
   "execution_count": 2,
   "id": "a72b770d",
   "metadata": {},
   "outputs": [],
   "source": [
    "import numpy as np\n",
    "import matplotlib.pyplot as plt\n",
    "import pandas as pd\n",
    "import seaborn as sns"
   ]
  },
  {
   "cell_type": "markdown",
   "id": "bd62584c",
   "metadata": {},
   "source": [
    "# Importing the dataset"
   ]
  },
  {
   "cell_type": "code",
   "execution_count": 3,
   "id": "916ceea2",
   "metadata": {},
   "outputs": [],
   "source": [
    "dataset = pd.read_csv('new1.csv', encoding = 'ISO-8859-1')"
   ]
  },
  {
   "cell_type": "code",
   "execution_count": 4,
   "id": "2242c04a",
   "metadata": {},
   "outputs": [
    {
     "data": {
      "text/html": [
       "<div>\n",
       "<style scoped>\n",
       "    .dataframe tbody tr th:only-of-type {\n",
       "        vertical-align: middle;\n",
       "    }\n",
       "\n",
       "    .dataframe tbody tr th {\n",
       "        vertical-align: top;\n",
       "    }\n",
       "\n",
       "    .dataframe thead th {\n",
       "        text-align: right;\n",
       "    }\n",
       "</style>\n",
       "<table border=\"1\" class=\"dataframe\">\n",
       "  <thead>\n",
       "    <tr style=\"text-align: right;\">\n",
       "      <th></th>\n",
       "      <th>Gender</th>\n",
       "      <th>Text</th>\n",
       "      <th>Depression</th>\n",
       "    </tr>\n",
       "  </thead>\n",
       "  <tbody>\n",
       "    <tr>\n",
       "      <th>0</th>\n",
       "      <td>1</td>\n",
       "      <td>@switchfoot http://twitpic.com/2y1zl - Awww, t...</td>\n",
       "      <td>0</td>\n",
       "    </tr>\n",
       "    <tr>\n",
       "      <th>1</th>\n",
       "      <td>0</td>\n",
       "      <td>is upset that he can't update his Facebook by ...</td>\n",
       "      <td>1</td>\n",
       "    </tr>\n",
       "    <tr>\n",
       "      <th>2</th>\n",
       "      <td>0</td>\n",
       "      <td>@Kenichan I dived many times for the ball. Man...</td>\n",
       "      <td>0</td>\n",
       "    </tr>\n",
       "    <tr>\n",
       "      <th>3</th>\n",
       "      <td>1</td>\n",
       "      <td>my whole body feels itchy and like its on fire</td>\n",
       "      <td>0</td>\n",
       "    </tr>\n",
       "    <tr>\n",
       "      <th>4</th>\n",
       "      <td>1</td>\n",
       "      <td>@nationwideclass no, it's not behaving at all....</td>\n",
       "      <td>0</td>\n",
       "    </tr>\n",
       "    <tr>\n",
       "      <th>...</th>\n",
       "      <td>...</td>\n",
       "      <td>...</td>\n",
       "      <td>...</td>\n",
       "    </tr>\n",
       "    <tr>\n",
       "      <th>996</th>\n",
       "      <td>0</td>\n",
       "      <td>Ugh. still working on project just taking a sm...</td>\n",
       "      <td>0</td>\n",
       "    </tr>\n",
       "    <tr>\n",
       "      <th>997</th>\n",
       "      <td>0</td>\n",
       "      <td>The one day I have to go to school is the same...</td>\n",
       "      <td>0</td>\n",
       "    </tr>\n",
       "    <tr>\n",
       "      <th>998</th>\n",
       "      <td>0</td>\n",
       "      <td>@watko Shockingly not!</td>\n",
       "      <td>0</td>\n",
       "    </tr>\n",
       "    <tr>\n",
       "      <th>999</th>\n",
       "      <td>0</td>\n",
       "      <td>Today was a less interesting day on Twitter. @...</td>\n",
       "      <td>0</td>\n",
       "    </tr>\n",
       "    <tr>\n",
       "      <th>1000</th>\n",
       "      <td>0</td>\n",
       "      <td>@CourtneyBrwn awww thanks.. i hate being sick</td>\n",
       "      <td>0</td>\n",
       "    </tr>\n",
       "  </tbody>\n",
       "</table>\n",
       "<p>1001 rows × 3 columns</p>\n",
       "</div>"
      ],
      "text/plain": [
       "      Gender                                               Text  Depression\n",
       "0          1  @switchfoot http://twitpic.com/2y1zl - Awww, t...           0\n",
       "1          0  is upset that he can't update his Facebook by ...           1\n",
       "2          0  @Kenichan I dived many times for the ball. Man...           0\n",
       "3          1     my whole body feels itchy and like its on fire           0\n",
       "4          1  @nationwideclass no, it's not behaving at all....           0\n",
       "...      ...                                                ...         ...\n",
       "996        0  Ugh. still working on project just taking a sm...           0\n",
       "997        0  The one day I have to go to school is the same...           0\n",
       "998        0                             @watko Shockingly not!           0\n",
       "999        0  Today was a less interesting day on Twitter. @...           0\n",
       "1000       0      @CourtneyBrwn awww thanks.. i hate being sick           0\n",
       "\n",
       "[1001 rows x 3 columns]"
      ]
     },
     "execution_count": 4,
     "metadata": {},
     "output_type": "execute_result"
    }
   ],
   "source": [
    "dataset"
   ]
  },
  {
   "cell_type": "markdown",
   "id": "68908e09",
   "metadata": {},
   "source": [
    "# Data visualization"
   ]
  },
  {
   "cell_type": "code",
   "execution_count": 5,
   "id": "8755b32c",
   "metadata": {},
   "outputs": [],
   "source": [
    "not_depressed = dataset[dataset['Depression']==0]"
   ]
  },
  {
   "cell_type": "code",
   "execution_count": 6,
   "id": "05f54ff8",
   "metadata": {},
   "outputs": [
    {
     "data": {
      "text/html": [
       "<div>\n",
       "<style scoped>\n",
       "    .dataframe tbody tr th:only-of-type {\n",
       "        vertical-align: middle;\n",
       "    }\n",
       "\n",
       "    .dataframe tbody tr th {\n",
       "        vertical-align: top;\n",
       "    }\n",
       "\n",
       "    .dataframe thead th {\n",
       "        text-align: right;\n",
       "    }\n",
       "</style>\n",
       "<table border=\"1\" class=\"dataframe\">\n",
       "  <thead>\n",
       "    <tr style=\"text-align: right;\">\n",
       "      <th></th>\n",
       "      <th>Gender</th>\n",
       "      <th>Text</th>\n",
       "      <th>Depression</th>\n",
       "    </tr>\n",
       "  </thead>\n",
       "  <tbody>\n",
       "    <tr>\n",
       "      <th>0</th>\n",
       "      <td>1</td>\n",
       "      <td>@switchfoot http://twitpic.com/2y1zl - Awww, t...</td>\n",
       "      <td>0</td>\n",
       "    </tr>\n",
       "    <tr>\n",
       "      <th>2</th>\n",
       "      <td>0</td>\n",
       "      <td>@Kenichan I dived many times for the ball. Man...</td>\n",
       "      <td>0</td>\n",
       "    </tr>\n",
       "    <tr>\n",
       "      <th>3</th>\n",
       "      <td>1</td>\n",
       "      <td>my whole body feels itchy and like its on fire</td>\n",
       "      <td>0</td>\n",
       "    </tr>\n",
       "    <tr>\n",
       "      <th>4</th>\n",
       "      <td>1</td>\n",
       "      <td>@nationwideclass no, it's not behaving at all....</td>\n",
       "      <td>0</td>\n",
       "    </tr>\n",
       "    <tr>\n",
       "      <th>5</th>\n",
       "      <td>0</td>\n",
       "      <td>@Kwesidei not the whole crew</td>\n",
       "      <td>0</td>\n",
       "    </tr>\n",
       "    <tr>\n",
       "      <th>...</th>\n",
       "      <td>...</td>\n",
       "      <td>...</td>\n",
       "      <td>...</td>\n",
       "    </tr>\n",
       "    <tr>\n",
       "      <th>996</th>\n",
       "      <td>0</td>\n",
       "      <td>Ugh. still working on project just taking a sm...</td>\n",
       "      <td>0</td>\n",
       "    </tr>\n",
       "    <tr>\n",
       "      <th>997</th>\n",
       "      <td>0</td>\n",
       "      <td>The one day I have to go to school is the same...</td>\n",
       "      <td>0</td>\n",
       "    </tr>\n",
       "    <tr>\n",
       "      <th>998</th>\n",
       "      <td>0</td>\n",
       "      <td>@watko Shockingly not!</td>\n",
       "      <td>0</td>\n",
       "    </tr>\n",
       "    <tr>\n",
       "      <th>999</th>\n",
       "      <td>0</td>\n",
       "      <td>Today was a less interesting day on Twitter. @...</td>\n",
       "      <td>0</td>\n",
       "    </tr>\n",
       "    <tr>\n",
       "      <th>1000</th>\n",
       "      <td>0</td>\n",
       "      <td>@CourtneyBrwn awww thanks.. i hate being sick</td>\n",
       "      <td>0</td>\n",
       "    </tr>\n",
       "  </tbody>\n",
       "</table>\n",
       "<p>704 rows × 3 columns</p>\n",
       "</div>"
      ],
      "text/plain": [
       "      Gender                                               Text  Depression\n",
       "0          1  @switchfoot http://twitpic.com/2y1zl - Awww, t...           0\n",
       "2          0  @Kenichan I dived many times for the ball. Man...           0\n",
       "3          1     my whole body feels itchy and like its on fire           0\n",
       "4          1  @nationwideclass no, it's not behaving at all....           0\n",
       "5          0                       @Kwesidei not the whole crew           0\n",
       "...      ...                                                ...         ...\n",
       "996        0  Ugh. still working on project just taking a sm...           0\n",
       "997        0  The one day I have to go to school is the same...           0\n",
       "998        0                             @watko Shockingly not!           0\n",
       "999        0  Today was a less interesting day on Twitter. @...           0\n",
       "1000       0      @CourtneyBrwn awww thanks.. i hate being sick           0\n",
       "\n",
       "[704 rows x 3 columns]"
      ]
     },
     "execution_count": 6,
     "metadata": {},
     "output_type": "execute_result"
    }
   ],
   "source": [
    "not_depressed"
   ]
  },
  {
   "cell_type": "code",
   "execution_count": 7,
   "id": "25f7776a",
   "metadata": {},
   "outputs": [],
   "source": [
    "depressed = dataset[dataset['Depression']==1]"
   ]
  },
  {
   "cell_type": "code",
   "execution_count": 8,
   "id": "43d17347",
   "metadata": {},
   "outputs": [
    {
     "data": {
      "text/html": [
       "<div>\n",
       "<style scoped>\n",
       "    .dataframe tbody tr th:only-of-type {\n",
       "        vertical-align: middle;\n",
       "    }\n",
       "\n",
       "    .dataframe tbody tr th {\n",
       "        vertical-align: top;\n",
       "    }\n",
       "\n",
       "    .dataframe thead th {\n",
       "        text-align: right;\n",
       "    }\n",
       "</style>\n",
       "<table border=\"1\" class=\"dataframe\">\n",
       "  <thead>\n",
       "    <tr style=\"text-align: right;\">\n",
       "      <th></th>\n",
       "      <th>Gender</th>\n",
       "      <th>Text</th>\n",
       "      <th>Depression</th>\n",
       "    </tr>\n",
       "  </thead>\n",
       "  <tbody>\n",
       "    <tr>\n",
       "      <th>1</th>\n",
       "      <td>0</td>\n",
       "      <td>is upset that he can't update his Facebook by ...</td>\n",
       "      <td>1</td>\n",
       "    </tr>\n",
       "    <tr>\n",
       "      <th>9</th>\n",
       "      <td>1</td>\n",
       "      <td>@twittera que me muera ?</td>\n",
       "      <td>1</td>\n",
       "    </tr>\n",
       "    <tr>\n",
       "      <th>14</th>\n",
       "      <td>0</td>\n",
       "      <td>@smarrison i would've been the first, but i di...</td>\n",
       "      <td>1</td>\n",
       "    </tr>\n",
       "    <tr>\n",
       "      <th>16</th>\n",
       "      <td>1</td>\n",
       "      <td>Hollis' death scene will hurt me severely to w...</td>\n",
       "      <td>1</td>\n",
       "    </tr>\n",
       "    <tr>\n",
       "      <th>23</th>\n",
       "      <td>0</td>\n",
       "      <td>this week is not going as i had hoped</td>\n",
       "      <td>1</td>\n",
       "    </tr>\n",
       "    <tr>\n",
       "      <th>...</th>\n",
       "      <td>...</td>\n",
       "      <td>...</td>\n",
       "      <td>...</td>\n",
       "    </tr>\n",
       "    <tr>\n",
       "      <th>959</th>\n",
       "      <td>0</td>\n",
       "      <td>@mostazzza Im sorry I've failed you</td>\n",
       "      <td>1</td>\n",
       "    </tr>\n",
       "    <tr>\n",
       "      <th>961</th>\n",
       "      <td>1</td>\n",
       "      <td>is missing talking to my bff on da phone!!!!</td>\n",
       "      <td>1</td>\n",
       "    </tr>\n",
       "    <tr>\n",
       "      <th>978</th>\n",
       "      <td>0</td>\n",
       "      <td>All ready to go to the premier and just realiz...</td>\n",
       "      <td>1</td>\n",
       "    </tr>\n",
       "    <tr>\n",
       "      <th>982</th>\n",
       "      <td>0</td>\n",
       "      <td>@almostcool i'm off now</td>\n",
       "      <td>1</td>\n",
       "    </tr>\n",
       "    <tr>\n",
       "      <th>995</th>\n",
       "      <td>1</td>\n",
       "      <td>poor mel. Feeling your pain.</td>\n",
       "      <td>1</td>\n",
       "    </tr>\n",
       "  </tbody>\n",
       "</table>\n",
       "<p>297 rows × 3 columns</p>\n",
       "</div>"
      ],
      "text/plain": [
       "     Gender                                               Text  Depression\n",
       "1         0  is upset that he can't update his Facebook by ...           1\n",
       "9         1                           @twittera que me muera ?           1\n",
       "14        0  @smarrison i would've been the first, but i di...           1\n",
       "16        1  Hollis' death scene will hurt me severely to w...           1\n",
       "23        0              this week is not going as i had hoped           1\n",
       "..      ...                                                ...         ...\n",
       "959       0                @mostazzza Im sorry I've failed you           1\n",
       "961       1       is missing talking to my bff on da phone!!!!           1\n",
       "978       0  All ready to go to the premier and just realiz...           1\n",
       "982       0                            @almostcool i'm off now           1\n",
       "995       1                       poor mel. Feeling your pain.           1\n",
       "\n",
       "[297 rows x 3 columns]"
      ]
     },
     "execution_count": 8,
     "metadata": {},
     "output_type": "execute_result"
    }
   ],
   "source": [
    "depressed"
   ]
  },
  {
   "cell_type": "code",
   "execution_count": 9,
   "id": "bbeb827e",
   "metadata": {},
   "outputs": [
    {
     "name": "stdout",
     "output_type": "stream",
     "text": [
      "Depressed percentage = 29.67032967032967 %\n"
     ]
    }
   ],
   "source": [
    "print( 'Depressed percentage =', (len(depressed) / len(dataset) )*100,\"%\")"
   ]
  },
  {
   "cell_type": "code",
   "execution_count": 10,
   "id": "b8154909",
   "metadata": {},
   "outputs": [
    {
     "name": "stdout",
     "output_type": "stream",
     "text": [
      "Not Depressed percentage = 70.32967032967034 %\n"
     ]
    }
   ],
   "source": [
    "print( 'Not Depressed percentage =', (len(not_depressed) / len(dataset) )*100,\"%\")"
   ]
  },
  {
   "cell_type": "code",
   "execution_count": 11,
   "id": "10c1ab19",
   "metadata": {},
   "outputs": [],
   "source": [
    "Male = dataset[dataset['Gender']==0]"
   ]
  },
  {
   "cell_type": "code",
   "execution_count": 12,
   "id": "fd318b60",
   "metadata": {},
   "outputs": [
    {
     "data": {
      "text/html": [
       "<div>\n",
       "<style scoped>\n",
       "    .dataframe tbody tr th:only-of-type {\n",
       "        vertical-align: middle;\n",
       "    }\n",
       "\n",
       "    .dataframe tbody tr th {\n",
       "        vertical-align: top;\n",
       "    }\n",
       "\n",
       "    .dataframe thead th {\n",
       "        text-align: right;\n",
       "    }\n",
       "</style>\n",
       "<table border=\"1\" class=\"dataframe\">\n",
       "  <thead>\n",
       "    <tr style=\"text-align: right;\">\n",
       "      <th></th>\n",
       "      <th>Gender</th>\n",
       "      <th>Text</th>\n",
       "      <th>Depression</th>\n",
       "    </tr>\n",
       "  </thead>\n",
       "  <tbody>\n",
       "    <tr>\n",
       "      <th>1</th>\n",
       "      <td>0</td>\n",
       "      <td>is upset that he can't update his Facebook by ...</td>\n",
       "      <td>1</td>\n",
       "    </tr>\n",
       "    <tr>\n",
       "      <th>2</th>\n",
       "      <td>0</td>\n",
       "      <td>@Kenichan I dived many times for the ball. Man...</td>\n",
       "      <td>0</td>\n",
       "    </tr>\n",
       "    <tr>\n",
       "      <th>5</th>\n",
       "      <td>0</td>\n",
       "      <td>@Kwesidei not the whole crew</td>\n",
       "      <td>0</td>\n",
       "    </tr>\n",
       "    <tr>\n",
       "      <th>12</th>\n",
       "      <td>0</td>\n",
       "      <td>@caregiving I couldn't bear to watch it. And I...</td>\n",
       "      <td>0</td>\n",
       "    </tr>\n",
       "    <tr>\n",
       "      <th>13</th>\n",
       "      <td>0</td>\n",
       "      <td>@octolinz16 It it counts, idk why I did either...</td>\n",
       "      <td>0</td>\n",
       "    </tr>\n",
       "    <tr>\n",
       "      <th>...</th>\n",
       "      <td>...</td>\n",
       "      <td>...</td>\n",
       "      <td>...</td>\n",
       "    </tr>\n",
       "    <tr>\n",
       "      <th>996</th>\n",
       "      <td>0</td>\n",
       "      <td>Ugh. still working on project just taking a sm...</td>\n",
       "      <td>0</td>\n",
       "    </tr>\n",
       "    <tr>\n",
       "      <th>997</th>\n",
       "      <td>0</td>\n",
       "      <td>The one day I have to go to school is the same...</td>\n",
       "      <td>0</td>\n",
       "    </tr>\n",
       "    <tr>\n",
       "      <th>998</th>\n",
       "      <td>0</td>\n",
       "      <td>@watko Shockingly not!</td>\n",
       "      <td>0</td>\n",
       "    </tr>\n",
       "    <tr>\n",
       "      <th>999</th>\n",
       "      <td>0</td>\n",
       "      <td>Today was a less interesting day on Twitter. @...</td>\n",
       "      <td>0</td>\n",
       "    </tr>\n",
       "    <tr>\n",
       "      <th>1000</th>\n",
       "      <td>0</td>\n",
       "      <td>@CourtneyBrwn awww thanks.. i hate being sick</td>\n",
       "      <td>0</td>\n",
       "    </tr>\n",
       "  </tbody>\n",
       "</table>\n",
       "<p>483 rows × 3 columns</p>\n",
       "</div>"
      ],
      "text/plain": [
       "      Gender                                               Text  Depression\n",
       "1          0  is upset that he can't update his Facebook by ...           1\n",
       "2          0  @Kenichan I dived many times for the ball. Man...           0\n",
       "5          0                       @Kwesidei not the whole crew           0\n",
       "12         0  @caregiving I couldn't bear to watch it. And I...           0\n",
       "13         0  @octolinz16 It it counts, idk why I did either...           0\n",
       "...      ...                                                ...         ...\n",
       "996        0  Ugh. still working on project just taking a sm...           0\n",
       "997        0  The one day I have to go to school is the same...           0\n",
       "998        0                             @watko Shockingly not!           0\n",
       "999        0  Today was a less interesting day on Twitter. @...           0\n",
       "1000       0      @CourtneyBrwn awww thanks.. i hate being sick           0\n",
       "\n",
       "[483 rows x 3 columns]"
      ]
     },
     "execution_count": 12,
     "metadata": {},
     "output_type": "execute_result"
    }
   ],
   "source": [
    "Male"
   ]
  },
  {
   "cell_type": "code",
   "execution_count": 13,
   "id": "cbeb7dca",
   "metadata": {},
   "outputs": [],
   "source": [
    "Female = dataset[dataset['Gender']==1]"
   ]
  },
  {
   "cell_type": "code",
   "execution_count": 14,
   "id": "b3551471",
   "metadata": {},
   "outputs": [
    {
     "data": {
      "text/html": [
       "<div>\n",
       "<style scoped>\n",
       "    .dataframe tbody tr th:only-of-type {\n",
       "        vertical-align: middle;\n",
       "    }\n",
       "\n",
       "    .dataframe tbody tr th {\n",
       "        vertical-align: top;\n",
       "    }\n",
       "\n",
       "    .dataframe thead th {\n",
       "        text-align: right;\n",
       "    }\n",
       "</style>\n",
       "<table border=\"1\" class=\"dataframe\">\n",
       "  <thead>\n",
       "    <tr style=\"text-align: right;\">\n",
       "      <th></th>\n",
       "      <th>Gender</th>\n",
       "      <th>Text</th>\n",
       "      <th>Depression</th>\n",
       "    </tr>\n",
       "  </thead>\n",
       "  <tbody>\n",
       "    <tr>\n",
       "      <th>0</th>\n",
       "      <td>1</td>\n",
       "      <td>@switchfoot http://twitpic.com/2y1zl - Awww, t...</td>\n",
       "      <td>0</td>\n",
       "    </tr>\n",
       "    <tr>\n",
       "      <th>3</th>\n",
       "      <td>1</td>\n",
       "      <td>my whole body feels itchy and like its on fire</td>\n",
       "      <td>0</td>\n",
       "    </tr>\n",
       "    <tr>\n",
       "      <th>4</th>\n",
       "      <td>1</td>\n",
       "      <td>@nationwideclass no, it's not behaving at all....</td>\n",
       "      <td>0</td>\n",
       "    </tr>\n",
       "    <tr>\n",
       "      <th>6</th>\n",
       "      <td>1</td>\n",
       "      <td>Need a hug</td>\n",
       "      <td>0</td>\n",
       "    </tr>\n",
       "    <tr>\n",
       "      <th>7</th>\n",
       "      <td>1</td>\n",
       "      <td>@LOLTrish hey long time no see! Yes.. Rains a ...</td>\n",
       "      <td>0</td>\n",
       "    </tr>\n",
       "    <tr>\n",
       "      <th>...</th>\n",
       "      <td>...</td>\n",
       "      <td>...</td>\n",
       "      <td>...</td>\n",
       "    </tr>\n",
       "    <tr>\n",
       "      <th>987</th>\n",
       "      <td>1</td>\n",
       "      <td>is still effinggggg sick when will i get bette...</td>\n",
       "      <td>0</td>\n",
       "    </tr>\n",
       "    <tr>\n",
       "      <th>988</th>\n",
       "      <td>1</td>\n",
       "      <td>Still in bed and dont want to do anything else...</td>\n",
       "      <td>0</td>\n",
       "    </tr>\n",
       "    <tr>\n",
       "      <th>991</th>\n",
       "      <td>1</td>\n",
       "      <td>Errrggggg! My tummy hurts.</td>\n",
       "      <td>0</td>\n",
       "    </tr>\n",
       "    <tr>\n",
       "      <th>993</th>\n",
       "      <td>1</td>\n",
       "      <td>ripped switcheasy colors</td>\n",
       "      <td>0</td>\n",
       "    </tr>\n",
       "    <tr>\n",
       "      <th>995</th>\n",
       "      <td>1</td>\n",
       "      <td>poor mel. Feeling your pain.</td>\n",
       "      <td>1</td>\n",
       "    </tr>\n",
       "  </tbody>\n",
       "</table>\n",
       "<p>518 rows × 3 columns</p>\n",
       "</div>"
      ],
      "text/plain": [
       "     Gender                                               Text  Depression\n",
       "0         1  @switchfoot http://twitpic.com/2y1zl - Awww, t...           0\n",
       "3         1     my whole body feels itchy and like its on fire           0\n",
       "4         1  @nationwideclass no, it's not behaving at all....           0\n",
       "6         1                                         Need a hug           0\n",
       "7         1  @LOLTrish hey long time no see! Yes.. Rains a ...           0\n",
       "..      ...                                                ...         ...\n",
       "987       1  is still effinggggg sick when will i get bette...           0\n",
       "988       1  Still in bed and dont want to do anything else...           0\n",
       "991       1                         Errrggggg! My tummy hurts.           0\n",
       "993       1                           ripped switcheasy colors           0\n",
       "995       1                       poor mel. Feeling your pain.           1\n",
       "\n",
       "[518 rows x 3 columns]"
      ]
     },
     "execution_count": 14,
     "metadata": {},
     "output_type": "execute_result"
    }
   ],
   "source": [
    "Female"
   ]
  },
  {
   "cell_type": "code",
   "execution_count": 15,
   "id": "56e4a889",
   "metadata": {},
   "outputs": [
    {
     "data": {
      "text/plain": [
       "<AxesSubplot:xlabel='Depression', ylabel='count'>"
      ]
     },
     "execution_count": 15,
     "metadata": {},
     "output_type": "execute_result"
    },
    {
     "data": {
      "image/png": "[encoded data removed]",
      "text/plain": [
       "<Figure size 432x288 with 1 Axes>"
      ]
     },
     "metadata": {
      "needs_background": "light"
     },
     "output_type": "display_data"
    }
   ],
   "source": [
    "sns.countplot(dataset['Depression'], label = \"Count\") "
   ]
  },
  {
   "cell_type": "code",
   "execution_count": 16,
   "id": "cf1b4f08",
   "metadata": {},
   "outputs": [
    {
     "data": {
      "text/plain": [
       "<AxesSubplot:xlabel='Gender', ylabel='count'>"
      ]
     },
     "execution_count": 16,
     "metadata": {},
     "output_type": "execute_result"
    },
    {
     "data": {
      "image/png": "[encoded data removed]",
      "text/plain": [
       "<Figure size 432x288 with 1 Axes>"
      ]
     },
     "metadata": {
      "needs_background": "light"
     },
     "output_type": "display_data"
    }
   ],
   "source": [
    "sns.countplot(dataset['Gender'],label = \"Count\") "
   ]
  },
  {
   "cell_type": "markdown",
   "id": "c5de7e33",
   "metadata": {},
   "source": [
    "# Count Vectorizer"
   ]
  },
  {
   "cell_type": "code",
   "execution_count": 17,
   "id": "3906f204",
   "metadata": {},
   "outputs": [],
   "source": [
    "from sklearn.feature_extraction.text import CountVectorizer\n",
    "\n",
    "vectorizer = CountVectorizer()\n",
    "depression_countvectorizer = vectorizer.fit_transform(dataset['Text'])"
   ]
  },
  {
   "cell_type": "code",
   "execution_count": 18,
   "id": "f2bd3f7a",
   "metadata": {},
   "outputs": [
    {
     "name": "stdout",
     "output_type": "stream",
     "text": [
      "['00', '08', '0g', '10', '100', '1000', '1000000', '1001', '100th', '10th', '11', '1110', '12', '12player', '13', '132am', '13th', '14', '140', '15', '160', '18th', '1am', '1st', '1xtti', '20', '2008', '2009', '200ml', '22', '23', '24', '25', '250', '2552', '25th', '273', '2nd', '2y1zl', '2y2es', '30', '30am', '310', '320', '360', '3rd', '40', '400', '45am', '4chan', '4g', '50', '5248435', '536', '56', '5am', '5minute', '5th', '600ms', '6176014', '6pm', '700', '75', '7am', '808', '8th', '8yr', '900', '92', '9th', '_saffron', '_secretgarden_', 'a5hleyf', 'aaaaand', 'aaronrva', 'aaw', 'able', 'about', 'absolutely', 'abt', 'accent', 'accept', 'access', 'accessed', 'accessing', 'accident', 'accidentally', 'accompaniers', 'according', 'account', 'ache', 'acronyms', 'acting', 'activated', 'actually', 'ad', 'adamgoldston', 'add', 'added', 'addicted', 'adds', 'adidas', 'admitting', 'adorno', 'advance', 'advertising', 'affected', 'afraid', 'africa', 'after', 'afternoon', 'again', 'against', 'agency', 'ages', 'aggressor', 'agh', 'ago', 'agree', 'agreed', 'ah', 'ahead', 'ahh', 'ahhhh', 'aim', 'aint', 'airfare', 'airport', 'akianz', 'alarm', 'alarms', 'album', 'alejandralei', 'alert', 'alicayaba', 'alicia', 'alielayus', 'alive', 'all', 'allergic', 'alliana07', 'allllll', 'allows', 'allyheman', 'almost', 'almostcool', 'alone', 'along', 'alot', 'aloud', 'already', 'alright', 'also', 'although', 'altrincham', 'always', 'alydesigns', 'am', 'amandaenglund', 'amanita', 'amanorris', 'amazing', 'amazingly', 'amazon', 'amber_benson', 'amberpacific', 'amirrabennett', 'amp', 'amyserrata', 'an', 'anaheim', 'analyse', 'and', 'andreabakes', 'android', 'andy', 'andywana', 'angel', 'angela', 'angels', 'angry_barista', 'angst', 'anistorm', 'announcement', 'annoyed', 'annoying', 'annoys', 'anonymous', 'anoop', 'another', 'ans', 'answer', 'anti', 'anwb', 'any', 'anymore', 'anyone', 'anything', 'anyway', 'anywhere', 'ap', 'apologize', 'app', 'apparently', 'apple', 'applepears', 'application', 'applications', 'appointment', 'appomattox_news', 'appraisal', 'apps', 'april', 'are', 'aren', 'arent', 'arggg', 'argh', 'arlenecd', 'arm', 'arms', 'around', 'arranged', 'arrived', 'art', 'articulation', 'artistbabee', 'as', 'asap', 'asba', 'ashamed', 'ashleyac', 'ashleyskyy', 'ashman01', 'ashok', 'asian', 'ask', 'asked', 'asleep', 'ass', 'assets', 'assignment', 'astros', 'at', 'ate', 'ated', 'atekinzz', 'athlete', 'atk', 'attempts', 'attend', 'attention', 'attire', 'auburn', 'augh', 'austinhill', 'austins', 'authentic', 'avatar', 'avlbl', 'aw', 'awake', 'away', 'awe', 'awesome', 'awh', 'awhile', 'awol', 'aww', 'awwh', 'awww', 'awwwww', 'axis', 'b4', 'b_barnett', 'baaaad', 'babe', 'babies', 'babs', 'baby', 'back', 'background', 'bad', 'bags', 'bah', 'bak', 'baked', 'balamurugan', 'ball', 'ballin', 'ballinbitch', 'ballistic', 'balls', 'baltimore', 'ban', 'bananaface', 'band', 'bands', 'bank', 'banning', 'bar', 'barnes', 'bars', 'basketball', 'bass', 'bathroom', 'bathtub', 'batmanyng', 'bawled', 'bay', 'bc', 'be', 'beach', 'bear', 'beat', 'beautiful', 'because', 'become', 'becoming', 'bed', 'bedtime', 'been', 'before', 'behaved', 'behaving', 'behind', 'being', 'believe', 'belle', 'belly', 'ben', 'benackerman', 'benpritchett', 'bentley', 'bern', 'beso', 'best', 'bestfriend', 'bestie', 'bet', 'betfair', 'better', 'between', 'bff', 'bgs', 'bh', 'bidders', 'big', 'big_think', 'bill', 'bills', 'billy', 'bio', 'biofuel', 'bioshock', 'birding', 'birthday', 'birutagme', 'bit', 'bitchfucks', 'bitchy', 'bites', 'black', 'blackberry', 'blagh', 'blah', 'blame', 'blankets', 'blast', 'blegghhhh', 'block', 'blocked', 'blogspot', 'blood', 'bloody', 'blues', 'bm', 'bmar', 'boba', 'bobby', 'body', 'bones', 'boo', 'boohoo', 'book', 'booked', 'books', 'boooo', 'boot', 'border', 'borders', 'bored', 'boredd', 'boring', 'born_4_broadway', 'boss', 'boston', 'bostongarden', 'both', 'bottle', 'bounds', 'bouts', 'box', 'boy', 'boyfriend', 'braces', 'bracket', 'brakes', 'branch', 'brandizzzle08', 'brat', 'brb', 'bread', 'breadandbadger', 'break', 'breakers', 'breakfast', 'breaking', 'breakn', 'breaks', 'breast', 'brekkie', 'brendamew2', 'brent', 'brian', 'brian_armstrong', 'bridget', 'bridgetsbeaches', 'brie', 'bright', 'britney', 'bro', 'broadband', 'brodhe', 'broke', 'broken', 'brother', 'brownstone', 'brutal', 'bs', 'bt', 'btw', 'bubble', 'buck', 'buddy', 'budget', 'builders', 'bum', 'bummer', 'bummerr', 'bunch', 'burgaw', 'burned', 'burnt', 'bursting', 'bus', 'business', 'busy', 'but', 'buttload', 'button', 'buu', 'buy', 'buying', 'by', 'bye', 'bypass', 'cabernet', 'cage', 'cairo', 'caitlinoconnor', 'cake', 'calif', 'california', 'call', 'called', 'callin', 'calling', 'callum', 'callung', 'calorie', 'calves', 'calving', 'cam', 'came', 'camera', 'camerafail', 'cameron', 'camilla', 'camp', 'campus', 'can', 'canada', 'cancer', 'cannot', 'cant', 'cantu', 'capacity', 'captain', 'car', 'card', 'cardiff', 'care', 'careful', 'caregiving', 'carlyw66', 'carmonium', 'carolina', 'carolrainbow', 'carpet', 'carr', 'cartoons', 'carvin1', 'cash', 'casting', 'cat', 'catch', 'catering', 'cats', 'cause', 'causes', 'causing', 'cboyack', 'ceased', 'celebrate', 'cell', 'cellphone', 'celycarmo', 'centre', 'cexkqy', 'chalk', 'chalkboard', 'champ', 'chance', 'change', 'changed', 'channels', 'charger', 'charleneli', 'charlietm', 'chases', 'chat', 'cheap', 'check', 'checked', 'cheechbud', 'cheek', 'cheese', 'chef', 'chelserlynn', 'cherry', 'chezburger', 'chi', 'chicago', 'chicken', 'chiefdelphi', 'child', 'children', 'chill', 'chillen', 'china', 'chocolate', 'choose', 'chopra', 'chordsy', 'chose', 'chris', 'chriscantore', 'christina', 'ci', 'cigarette', 'cigarettes', 'cillian', 'cinema', 'citizensheep', 'citrus', 'city', 'clam', 'clamped', 'clams', 'clarianne', 'class', 'classes', 'classic', 'clearly', 'cleders', 'cleo', 'click', 'client', 'clip', 'clock', 'close', 'closed', 'closer', 'closing', 'clothes', 'clubroom', 'cmykevin', 'co', 'coachella', 'coaching', 'cococourtney', 'cocomix04', 'codaqueen', 'code', 'coffee', 'coitus', 'coke', 'cold', 'colddd', 'coleman', 'colindemar', 'collie', 'color', 'colors', 'columbus', 'com', 'combination', 'combo', 'come', 'comes', 'comfortable', 'comin', 'coming', 'comment', 'comments', 'commission', 'commuters', 'comp', 'company', 'competitive', 'complaint', 'complaints', 'complete', 'compress', 'computer', 'condolences', 'confidence', 'conflict', 'confused', 'confusing', 'congested', 'congrats', 'consecutive', 'considering', 'constants', 'contactabe', 'contd', 'continue', 'conversations', 'convert', 'converting', 'convicts', 'cook', 'cooked', 'cookies', 'cooking', 'cool', 'cooooold', 'coords', 'copout', 'copped', 'cops', 'copy', 'coral', 'corner', 'corp', 'correclty', 'correctly', 'corrosivecandy', 'cos', 'cost', 'coughing', 'could', 'couldn', 'couldnt', 'counting', 'counts', 'county', 'couple', 'course', 'courtneybrwn', 'courts', 'cousins', 'covered', 'covers', 'coz', 'craigslist', 'crap', 'crash', 'crashed', 'craving', 'crazy', 'creaking', 'cream', 'create', 'created', 'crew', 'crib', 'cried', 'criminals', 'crooners', 'cross', 'crossed', 'cruel', 'crummy', 'crummyasshole', 'crush', 'cry', 'crying', 'csi', 'css', 'cuddle', 'culminates', 'culpa', 'cuppa', 'cups', 'currently', 'curry', 'cushings', 'custom', 'cut', 'cute', 'cuuute', 'cuz', 'd_castillo', 'da', 'dachesterfrench', 'dad', 'daddy', 'dallas', 'dam', 'damm', 'dammit', 'damn', 'damnnn', 'dananner', 'dance', 'dancing', 'dang', 'dangerm0use', 'dangit', 'daniela_95616', 'danielhalpin', 'danielledeleasa', 'danny', 'dannyvegasbaby', 'danphelan', 'daria', 'dark', 'date', 'dates', 'david', 'david_henrie', 'dawn', 'day', 'daydee', 'daylight', 'days', 'db2', 'dcuc33', 'ddlovato', 'dead', 'deal', 'dear', 'death', 'debating', 'december', 'decent', 'decide', 'decided', 'decime', 'decision', 'deepbluesealove', 'def', 'default', 'defined', 'definitely', 'degrees', 'deleted', 'delicious', 'dentist', 'depressants', 'depressd', 'depressed', 'depressing', 'derrick', 'deserved', 'deserves', 'design', 'devastating', 'devinthedude007', 'dialogue', 'diannepulham', 'diaries', 'did', 'didn', 'didnt', 'die', 'died', 'dierks', 'diet', 'diff', 'difference', 'different', 'difficult', 'diigo', 'dining', 'direct', 'directions', 'directors', 'disappeared', 'disappointed', 'disappointing', 'disapproving', 'disaster', 'disbelief', 'disco', 'disconcerting', 'discussion', 'disease', 'disgruntled', 'dish', 'dislike', 'dispatch', 'disqus', 'diss', 'dissappointment', 'distribution', 'dived', 'djalizay', 'djsoulsister', 'dmb', 'dnf', 'dnwallace', 'do', 'doa', 'doc', 'docs', 'doctor', 'does', 'doesn', 'doesnt', 'dog', 'dogbook', 'doing', 'dollar', 'don', 'done', 'donkey', 'donnie', 'donniewahlberg', 'dont', 'doriantaylor', 'double', 'doubtful', 'doucheclown', 'down', 'download', 'downloading', 'downloads', 'downstairs', 'downtown', 'dr', 'draft', 'dragoneer', 'drain', 'draining', 'drains', 'drano', 'dreading', 'dream', 'dreams', 'dress', 'dressed', 'dresses', 'drink', 'drinking', 'drinks', 'drive', 'driveway', 'drool', 'dropping', 'dry', 'ds9', 'dtmafia', 'dtmafiaofficial', 'du', 'duchess_rebecca', 'duck', 'duckling', 'dude', 'due', 'dumb', 'dun', 'dunno', 'during', 'dvd', 'dvr', 'dye', 'dying', 'e3', 'e71', 'each', 'earlier', 'earliest', 'early', 'ears', 'earthquake', 'easier', 'easily', 'easter', 'easy', 'eat', 'eating', 'eazydoesit87', 'ebay', 'economics', 'ed', 'edges', 'edit', 'editing', 'eff', 'efficacy', 'effinggggg', 'egg', 'eh', 'ehhh', 'either', 'el', 'electricity', 'elementary', 'ellen', 'ellievolia', 'eloquentembrace', 'else', 'elses', 'em', 'email', 'emailed', 'emails', 'emanuel', 'embarasing', 'embarrassing', 'embed', 'emily', 'emilyruppe', 'emitstop', 'emma', 'emmaketurah', 'emotional', 'emotionally', 'employ', 'empty', 'en', 'end', 'ended', 'ending', 'energy', 'english', 'enjoy', 'enjoyable', 'enough', 'enterbelladonna', 'entrance', 'ep', 'episode', 'episodes', 'erika', 'erre_sc', 'errrggggg', 'esa', 'esn', 'espresso', 'estas', 'esuriospiritus', 'etc', 'europe', 'evaluations', 'even', 'evening', 'ever', 'everbody', 'every', 'everybody', 'everyday', 'everyone', 'everyonee', 'everything', 'everytime', 'everywhere', 'evicted', 'evil', 'ewarden', 'ex', 'exactly', 'exam', 'except', 'exception', 'exceptional', 'exchanging', 'excited', 'exciting', 'exec', 'exercising', 'exist', 'experience', 'experiments', 'explain', 'external', 'extinct', 'extra', 'extraordinare', 'extremely', 'eye', 'eyebrows', 'eyelid', 'eyes', 'eyrro', 'f1', 'fab', 'face', 'facebook', 'fact', 'fades', 'faham', 'fail', 'failed', 'failwhale', 'fair', 'faithgg45', 'fake', 'fakerpattypattz', 'faking', 'fall', 'falling', 'fallon', 'fam', 'family', 'famous', 'fan', 'fancast', 'fans', 'far', 'fares', 'fast', 'faster', 'fasting', 'fat', 'fatal', 'fav', 'fave', 'favereds', 'favor', 'favorite', 'fb', 'features', 'feed', 'feel', 'feelin', 'feeling', 'feelings', 'feels', 'feet', 'fell', 'felt', 'female', 'few', 'ff', 'fight', 'figure', 'file', 'fill', 'filled', 'filling', 'film', 'filters', 'finale', 'finally', 'finals', 'find', 'finding', 'fine', 'finger', 'fingers', 'finish', 'finished', 'finishing', 'finland', 'fire', 'fired', 'first', 'fish', 'fishmouse', 'fit', 'fix', 'flashed', 'flashing', 'flawda', 'flawless326', 'fleurylis', 'fling', 'flintstones', 'flip', 'flipped', 'floor', 'flowers', 'flu', 'fly', 'fml', 'fnge', 'focus', 'focused', 'folders', 'folio', 'folk', 'folks', 'follow', 'follower', 'followers', 'followin', 'followsavvy', 'foo', 'food', 'foot', 'footage', 'for', 'forever', 'forget', 'forgot', 'forgotten', 'fork', 'form', 'forthcoming', 'forum', 'forward', 'found', 'four', 'frago', 'fraking', 'framed', 'france', 'francesca', 'franklin', 'franzglaus', 'free', 'freezing', 'french', 'freshly', 'fri', 'friday', 'friend', 'friends', 'frogs', 'from', 'froofroo', 'fruit', 'frustrated', 'frustrating', 'ftf', 'fuck', 'fucked', 'fucking', 'fuckkkkkkkkkkkkk', 'full', 'fun', 'funding', 'funny', 'furious', 'furniture', 'fyi', 'g4', 'gabbie', 'gabbyisactive', 'gah', 'gaining', 'gallbladder', 'gamble', 'game', 'gamebattles', 'gamertag', 'games', 'garage', 'garden', 'gardening', 'gardner', 'gas', 'gave', 'gawwd', 'gay', 'gayforpeavy', 'gd', 'gear', 'gee', 'geez', 'georgeruiz', 'germany', 'get', 'gets', 'getting', 'getty', 'gg', 'ghost', 'giant', 'gift', 'gigdiary', 'ginayates', 'girl', 'girlfriend', 'girls', 'girlsgonechild', 'girlyvue', 'give', 'given', 'gives', 'glad', 'glass', 'glasses', 'glittery', 'gloss', 'gmt', 'gng', 'go', 'god', 'godaddy', 'goes', 'goin', 'going', 'golden', 'goldfish', 'gone', 'gonna', 'good', 'goodlaura', 'goodness', 'goodnight', 'goodniight', 'google', 'goonite', 'gooood', 'gooooood', 'gosh', 'gossip', 'got', 'gotcha', 'gotta', 'gotten', 'gr8t', 'grace', 'gracedent', 'graemearcher', 'grandma', 'grass', 'great', 'greed', 'green', 'greggrunberg', 'griffmiester', 'grind', 'gripping', 'grog', 'groove', 'gross', 'grouchy', 'ground', 'group', 'grr', 'grrr', 'grum', 'gsd', 'gt', 'guess', 'guessing', 'guilt', 'guitar', 'guitarist', 'gun', 'gurumn', 'guy', 'guys', 'gym', 'ha', 'hack', 'hacked', 'had', 'hadtobeyou', 'haha', 'hahaa', 'hahaha', 'hahahahahah', 'hahahahhha', 'hair', 'half', 'hall', 'halo', 'hamilton', 'handle', 'hang', 'hanging', 'hangnon', 'hannah', 'hannahsix', 'happen', 'happened', 'happening', 'happens', 'happier', 'happily', 'happy', 'harassed', 'hard', 'harder', 'hardest', 'has', 'hasn', 'hatch', 'hate', 'hated', 'hates', 'hating', 'hats', 'have', 'haven', 'having', 'havnt', 'hay', 'haz', 'hd', 'he', 'head', 'headache', 'heading', 'headstart', 'health4uandpets', 'healthy', 'heaps', 'hear', 'heard', 'hearing', 'heart', 'heartbroken', 'heat', 'heel', 'heidimontag', 'heif', 'held', 'hell', 'hella', 'hellivina', 'hello', 'help', 'helppp', 'henkuyinepu', 'henrygooden', 'her', 'here', 'heroes', 'herpes', 'herself', 'hert', 'hey', 'hibanick', 'hiding', 'hightlight', 'hilarious', 'hill', 'hillary006', 'hills', 'hillsong', 'hillydop', 'him', 'his', 'history', 'hit', 'hitokyri', 'hits', 'hmm', 'hmmm', 'hn', 'ho', 'hoax', 'hobby', 'hold', 'holiday', 'holidays', 'hollis', 'hollywood', 'hollywoodheat', 'home', 'homesick', 'homework', 'homeworks', 'hon', 'honey3223', 'hope', 'hoped', 'hopefully', 'hopes', 'hoping', 'horrible', 'horrified', 'horses', 'hospital', 'host', 'hosting', 'hot', 'hotel', 'houndour', 'hour', 'hours', 'house', 'how', 'however', 'hows', 'hoyts', 'hpricot', 'hrs', 'http', 'hubby', 'huen', 'hug', 'hugs', 'humanopium', 'hummiemd', 'humpninja', 'hun', 'hundred', 'hungry', 'hunt', 'huntermoore', 'hurt', 'hurting', 'hurts', 'hutsoncap', 'huuuge', 'hyperbets', 'hypnosis', 'iamjazzyfizzle', 'iamlilnicki', 'ic', 'ice', 'icecream', 'icons', 'idea', 'idiot', 'idk', 'ids', 'ie', 'if', 'igeldard', 'ignacius', 'ihop', 'iidiocracy', 'iitsc', 'ikimb0', 'ilearn', 'ill', 'illegal', 'ilovepie', 'ily', 'im', 'imac', 'imaginarypeach', 'imiss', 'imji', 'imma', 'implies', 'important', 'impune', 'in', 'includes', 'incomprehension', 'increase', 'incredible', 'india', 'indian', 'indic', 'individual', 'indonesia', 'ineptness', 'infinitydefines', 'info', 'inform', 'innocent', 'insomnia', 'insomniac', 'inspirational', 'install', 'instead', 'integrates', 'intending', 'interesting', 'internal', 'internet', 'interrupted', 'intervention', 'interview', 'into', 'intro', 'inventory', 'invite', 'invited', 'involucrado', 'inyoureyes2410', 'iowa', 'iphone', 'ipod', 'ipods', 'ircmaxell', 'ironically', 'ironing', 'is', 'ish', 'islands', 'isn', 'isnt', 'it', 'italy', 'itchy', 'item', 'items', 'itm', 'itouch', 'its', 'itunes', 'ive', 'iz', 'izzy', 'j_stricko', 'jackhammers', 'jacobsummers', 'jade', 'jai', 'jake', 'januarycrimson', 'jap', 'japan', 'japanese', 'jared', 'jayanti', 'jdarter', 'jealous', 'jeancjumbe', 'jeez', 'jeffree', 'jeffree_star', 'jeffreecuntstar', 'jemcam', 'jennifermf', 'jenny', 'jerk', 'jerks', 'jessdubb', 'jessy', 'jesus', 'jew', 'jillianfish', 'jinxcat', 'jk', 'job', 'jobros', 'jobs', 'joefernandez', 'john', 'johnnybeane', 'johns', 'joined', 'joke', 'jokerrrr', 'jon', 'jon8737', 'jonathanchard', 'jonathanrknight', 'josephheustess', 'joshy', 'jpfurry', 'jrk', 'jruby', 'js', 'jst', 'julieebaby', 'july', 'jumbo', 'jumped', 'junk', 'jus', 'just', 'justgelo', 'jyesmith', 'kaeeeep', 'kal', 'kal_penn', 'kant', 'kantu', 'kaozdesign', 'karate', 'karenucol', 'kariajay', 'katebornstein', 'katortiz', 'ke', 'keep', 'keeping', 'keeps', 'kelleyrowe', 'kelly', 'kenichan', 'kenny', 'kevchoice', 'keys', 'kicked', 'kidding', 'kids', 'kill', 'killed', 'killing', 'kimmyawesome', 'kind', 'kinda', 'kinds', 'kings', 'kishorek', 'kissability', 'kit', 'kitties', 'klout', 'knackered', 'knew', 'knight', 'knights_', 'kno', 'knot2serious', 'know', 'knowing', 'known', 'knows', 'koodo', 'kourtneykardash', 'kpreyes', 'kristencampisi', 'kung', 'kutner', 'kutnerrrr', 'kwesidei', 'kyle44', 'kyte', 'la', 'labelsnotlove', 'lacking', 'laid', 'lakin', 'lamb', 'lame', 'lanarisque', 'languages', 'lanyard', 'laptop', 'last', 'lasts', 'late', 'later', 'latest', 'latroneb', 'laugh', 'laughing', 'launch', 'lauredhel', 'lauren', 'laurenlenewx', 'laurwee_boo', 'lawnord', 'lay', 'laying', 'lazy', 'lc', 'lead', 'learn', 'learned', 'learning', 'least', 'leather', 'leave', 'leavin', 'leaving', 'lecture', 'left', 'leftovers', 'leg', 'legal', 'legend', 'legendary', 'legitimately', 'lemak', 'lenesha', 'leslie', 'less', 'let', 'letters', 'letting', 'lettya', 'levenrambin', 'library', 'licking', 'life', 'lifee', 'lighter', 'lights', 'like', 'liking', 'lilbucknuts41', 'lilly', 'lilo', 'limbecky', 'limited', 'lines', 'link', 'linked', 'lip', 'list', 'listen', 'listening', 'listing', 'little', 'littleyellowjen', 'live', 'living', 'lizchavez', 'lizhenry', 'lj', 'll', 'lll', 'lmao', 'lobo', 'localtweeps', 'location', 'lodged', 'logging', 'login', 'lol', 'lolitariot', 'loltrish', 'lonely', 'lonesome', 'long', 'longer', 'longs', 'longterm', 'look', 'looking', 'looks', 'looser', 'lorry', 'lose', 'losing', 'loss', 'lost', 'lot', 'lots', 'loud', 'louie094', 'louis', 'love', 'lovebscott', 'loved', 'lovemeagan', 'lover', 'loves', 'lower', 'lt', 'lt_algonquin', 'luck', 'lucky', 'luggage', 'luisa', 'lunafiko', 'luvvvvv', 'luxuryprgal', 'lymph', 'ma', 'mac', 'macbook', 'macheist', 'machine', 'machineplay', 'macs', 'mad', 'madame', 'maddyva', 'made', 'maggie', 'mahavir', 'mail', 'mails', 'main', 'make', 'makeherfamous', 'maker', 'makes', 'making', 'malaysian', 'mama', 'mamasvan', 'mammy', 'man', 'manage', 'managed', 'management', 'mangaaa', 'mantra', 'manu', 'manuscript', 'many', 'map', 'march', 'margaretcho', 'margarhitas', 'margarita', 'marge_inovera', 'marieclr', 'market', 'markhardy1974', 'marley', 'marriages', 'marry', 'mart', 'martens', 'marwan', 'marybethune', 'marykatherine_q', 'massive', 'maternity', 'mathewsmichael', 'matt', 'matter', 'matthew', 'mattpro13', 'maxi', 'maxime68', 'may', 'maybe', 'mayer', 'mccainblogette', 'me', 'mea', 'mean', 'meaning', 'means', 'meant', 'meanwhile', 'meat', 'medicine', 'meet', 'meeting', 'meetings', 'megafast', 'megelder', 'meh', 'mel', 'melatonin', 'member', 'memorial', 'men', 'mention', 'mercedesashley', 'mereka', 'message', 'messages', 'messing', 'mhm', 'mich', 'michigan', 'microwave', 'mid', 'middle', 'midv', 'might', 'mikey', 'mil', 'mileycyrus', 'milk', 'milky', 'milo', 'min', 'mind', 'mine', 'mines', 'miniature', 'minimum', 'mins', 'minute', 'minutes', 'mirrors', 'miserable', 'miss', 'miss_om', 'miss_sil', 'missed', 'misses', 'missin', 'missing', 'misstoriblack', 'missxmarisa', 'missxu', 'misty', 'mixed', 'mizzchievouz', 'mmm', 'mo', 'mobbler', 'mobi', 'mobilityvic', 'mocha', 'modern', 'moe', 'moethebeat', 'mom', 'moment', 'moments', 'mommy', 'moms', 'monday', 'money', 'moneys', 'monkeys', 'monster', 'month', 'mood', 'moony394', 'moooorniiiiiiing', 'more', 'morning', 'mornings', 'mornng', 'moscow', 'most', 'mostazzza', 'mostly', 'motivates', 'mouse', 'mouth', 'move', 'moves', 'movie', 'movies', 'mph', 'mqu', 'mraow', 'mrsaintnick', 'msdrama', 'mss', 'msu', 'mts', 'mtub', 'mtva', 'muahaha', 'much', 'muera', 'mug', 'muir', 'mum', 'mumbo', 'murd', 'murder', 'murphy', 'muscle', 'music', 'musik', 'must', 'my', 'mycaricature', 'myconnecticut', 'myki', 'myself', 'myspace', 'mysteezradio', 'mythic', 'n2', 'na', 'naaaaaaaaaaaaaaaaaaaam', 'nachojohnny', 'nah', 'nail', 'naked', 'name', 'named', 'names', 'nao', 'nap', 'naples', 'naps', 'nasi', 'nasty', 'natasha', 'nathan', 'nationwideclass', 'nature', 'naughtyhaughty', 'nausea', 'nawwww', 'nba', 'nbensalem', 'nchokkan', 'nd', 'nearly', 'neccessary', 'neecee', 'need', 'needed', 'needs', 'negative', 'neighbors', 'neither', 'net', 'netbal', 'netball', 'netbeans', 'network', 'nevada', 'nevadawolf', 'never', 'nevertheless', 'new', 'news', 'newsletter', 'next', 'nicatrolls', 'nice', 'nicely', 'nick', 'nick_carter', 'nicolerichie', 'night', 'nightmare', 'nightmares', 'nighty', 'nikster', 'nile', 'nilelegania', 'nin', 'ninjen', 'nite', 'nkdreamer', 'no', 'noah', 'nobody', 'nodes', 'noes', 'nokia', 'nomadicmatt', 'none', 'nonsense', 'noo', 'noon', 'nope', 'normalguyguide', 'north', 'northern', 'nose', 'not', 'note', 'notes', 'nother', 'nothin', 'nothing', 'notice', 'notices', 'noticing', 'novel', 'now', 'number', 'nurse', 'nursing', 'nwo', 'ny', 'nz', 'oakland', 'oanhlove', 'oats', 'obeying', 'obscura', 'occupied', 'oct', 'octolinz16', 'octopuseatspie', 'ocular', 'oddchicken', 'odst', 'of', 'off', 'office', 'official', 'officially', 'officialprofoz', 'officialrandl', 'often', 'oh', 'ohh', 'ohhhh', 'ohsbrat30', 'oj', 'ok', 'okay', 'old', 'omg', 'omgawd', 'on', 'once', 'one', 'oneindia', 'onemoreproject', 'ones', 'online', 'only', 'onlysweeter', 'onlytosee', 'ons', 'ooh', 'ooooh', 'oooonly', 'ooooooh', 'oooooooo', 'ooops', 'open', 'opening', 'opera', 'opps', 'option', 'or', 'order', 'ordered', 'org', 'organize', 'organizing', 'otakusecret', 'other', 'others', 'ouch', 'our', 'ourcitylight', 'out', 'outage', 'outings', 'outline', 'outnumbered', 'outside', 'outta', 'outttt', 'oven', 'over', 'overheating', 'overrated', 'overreacted', 'owl', 'ox', 'ozesteph1992', 'paaaaay', 'pack', 'packed', 'padre', 'page', 'pages', 'pagina', 'paid', 'pain', 'painful', 'pancakes', 'panini', 'pants', 'paper', 'paradisej', 'parent', 'paris', 'park', 'parking', 'parliament', 'part', 'partion', 'party', 'passion', 'passport', 'password', 'past', 'path', 'patio', 'paul_e_wog', 'paula', 'paulaabdul', 'paulcoles', 'paulieseow', 'paxil', 'pay', 'paycheck', 'pc', 'peaceful', 'pealuh', 'pears', 'peavy', 'pee', 'peepz', 'penalba', 'penn', 'penndbad', 'people', 'pepperoni', 'permanent', 'persons', 'phantasy', 'philippine', 'phlaimeaux', 'phone', 'photos', 'photoshop', 'php', 'phuckin', 'physical', 'pick', 'picked', 'picnic', 'pics', 'picture', 'piece', 'pierced', 'pills', 'pimple', 'pinging', 'pinkserendipity', 'pinky', 'pissed', 'pissing', 'pitch', 'pity', 'place', 'plain', 'plan', 'planet', 'planned', 'planning', 'plans', 'platforms', 'play', 'playing', 'playradioplay', 'pleasant', 'please', 'pleeeease', 'pls', 'plugin', 'plus', 'plz', 'pm', 'pms', 'poaching', 'point', 'pointless', 'poisening', 'poisoning', 'polhillian', 'police', 'polish', 'poo', 'poohpot', 'pookie', 'pools', 'poop', 'poor', 'poots', 'pop', 'popular', 'por', 'porn', 'pornstartweet', 'pos', 'pose', 'possible', 'post', 'posted', 'posterior', 'pout', 'powers', 'pox', 'ppl', 'practical', 'praise', 'pratama', 'pray', 'prayers', 'praying', 'pre', 'premier', 'premiere', 'prepatory', 'prescribed', 'presentation', 'president', 'pretty', 'prevent', 'previously', 'pride', 'princess', 'print', 'probably', 'problem', 'problems', 'probs', 'procrastinating', 'productive', 'professor', 'profile', 'project', 'prolly', 'promise', 'promote', 'proposal', 'protesting', 'provider', 'prunes', 'ps3', 'psyched', 'public', 'pudding', 'puerto', 'puff', 'puke', 'pulled', 'pulls', 'puma', 'pumps', 'punch', 'punk', 'puppy', 'pushing', 'put', 'puter', 'pwc', 'qc', 'qtr', 'quandotcom', 'que', 'quick', 'quickly', 'quiet', 'quiz', 'quot', 'qweendassah', 'rabbit', 'rachel', 'radio', 'radioactive', 'rahm', 'rail', 'rain', 'rained', 'rains', 'rainy', 'rambunctious', 'ramen', 'rammed', 'ran', 'random', 'randomlynat', 'range', 'rape', 'rare', 'rash', 'rather', 'raw', 'raymondroman', 'razr', 'rcompo', 're', 'reaaly', 'reach', 'reaction', 'read', 'reading', 'reads', 'ready', 'real', 'realized', 'realizing', 'really', 'reason', 'recalls', 'received', 'reckon', 'recommends', 'reconnected', 'red', 'reduce', 'reducing', 'redvinylgirl', 'reese', 'reeses', 'reference', 'reflection', 'refuse', 'register', 'regressing', 'regretting', 'regularizing', 'related', 'release', 'remain', 'remains', 'remark', 'remember', 'reminds', 'remove', 'rent', 'renting', 'rents', 'repair', 'repeat', 'repeated', 'replied', 'replies', 'reply', 'rerun', 'resources', 'responded', 'rest', 'restaurant', 'result', 'retriever', 'return', 'retweeting', 'reviewed', 'reviews', 'revisions', 'revolution', 'rewrote', 'rex', 'riancurtis', 'rican', 'richardson', 'ride', 'ridley1013', 'right', 'rily', 'ring', 'rip', 'ripped', 'risk', 'road', 'robcthegeek', 'robertfperez', 'robluketic', 'robots', 'rock', 'rocko', 'rofl', 'roger', 'rolls', 'room', 'rootbeerfloats8', 'rooting', 'rotti', 'round', 'row', 'rub', 'rubyrose1', 'rude', 'ruined', 'rules', 'rumblepurr', 'rumbles', 'rumlover', 'run', 'running', 'runs', 'rushing', 'russians', 'rut', 'ryanmwilson', 'ryanseacrest', 'rylee', 's3', 'sad', 'sadden', 'saddening', 'saddest', 'sadly', 'sadness', 'said', 'salancaster', 'sam', 'same', 'samro', 'sand', 'sandra', 'sara_kate', 'sarah', 'sarahprout', 'sarahreedsc', 'sarahsaturday', 'sardines', 'sarmar', 'sarth', 'sasii', 'sat', 'saturday', 'sausage', 'save', 'savethestrib', 'saving', 'savings', 'saw', 'say', 'sayin', 'saying', 'says', 'scared', 'scaring', 'scary', 'scene', 'schedule', 'school', 'schools', 'scoutbuck', 'scrappy', 'scratch', 'screaming', 'screams', 'screen', 'screwed', 'scrolling', 'sd', 'seafood', 'seaghostdesigns', 'sealclap', 'searches', 'searching', 'season', 'seasons', 'seattle', 'seblefebvre', 'seccond', 'second', 'seconds', 'sed', 'see', 'seeing', 'seem', 'seems', 'seen', 'self', 'selfcontrol', 'sell', 'selling', 'send', 'seniority', 'sense', 'sensesdestroyer', 'sensitive', 'sent', 'serial', 'serious', 'seriously', 'server', 'session', 'set', 'severely', 'sex', 'sexist', 'sfmta', 'sh', 'sha', 'shaking', 'shame', 'shameful', 'shandasaurus', 'shapeshifting', 'shawnna', 'she', 'shiner', 'shit', 'shitloads', 'shitty', 'shockingly', 'shockwave', 'shoe', 'shoes', 'shoog', 'shooting', 'shop', 'shopping', 'shortiethug', 'shorts', 'should', 'shoulda', 'shouldn', 'shouldnt', 'shouldve', 'shout', 'show', 'shower', 'shows', 'shucks', 'shuddering', 'sick', 'sickness', 'siddharth_ind', 'side', 'sidekick', 'sides', 'sigh', 'sighhhh', 'sighs', 'silly', 'simultaneously', 'simx', 'since', 'sing', 'single', 'singles', 'singlet', 'sirrah21', 'sis', 'sister', 'site', 'sitting', 'size', 'sketchy', 'skinny', 'skins', 'skip', 'skittles', 'skype', 'slap', 'sleeeep', 'sleep', 'sleep_til_noon', 'sleepin', 'sleeping', 'sleepy', 'slept', 'sliced', 'slide', 'slides', 'slideshare', 'slightly', 'slip', 'sloanb', 'slot', 'slow', 'slowly', 'small', 'smarrison', 'smart', 'smells', 'smelt', 'smoking', 'snack', 'snaprebelx', 'snarl', 'sneak', 'snick_the_dog', 'snippet', 'snoo', 'snow', 'snowing', 'snuggles', 'snyder', 'so', 'soaked', 'socks', 'sod', 'sodas', 'sofa', 'sofii_noel', 'softball', 'softbelly', 'software', 'soillodge', 'sold', 'solid', 'some', 'some1', 'somebody', 'someone', 'something', 'somewhere', 'son', 'song', 'songs', 'sonoma', 'soo', 'soon', 'sooo', 'soooo', 'sooooo', 'sophmore', 'sore', 'sorry', 'sorryto', 'sort', 'sorting', 'sound', 'sounds', 'soundtrack', 'sour', 'south', 'sox', 'spam', 'spammers', 'spark', 'spartans', 'speak', 'spell', 'spencer', 'spend', 'spending', 'spent', 'spider', 'spinning', 'spiral', 'split', 'spoil', 'spoiled', 'spoon', 'sports', 'spot', 'spring', 'sprint', 'spunky', 'square', 'squeezed', 'squid', 'st', 'staff', 'stand', 'star', 'starburst', 'stare', 'stark', 'starrbby', 'start', 'started', 'starts', 'starving', 'state', 'states', 'station', 'statistics', 'statravelau', 'stats', 'status', 'stay', 'stayed', 'staying', 'step', 'stephan', 'stephenkruiser', 'stern', 'steve', 'steve_buscemi', 'still', 'stillllll', 'stimulus', 'stink', 'stinks', 'stock', 'stole', 'stolen', 'stomach', 'stooopeeed', 'stop', 'stopped', 'stopping', 'store', 'stories', 'story', 'storylineee', 'stou', 'straight', 'strain', 'strange', 'strangely', 'strawberry', 'street', 'stress', 'stressed', 'stressing', 'strictest', 'strider', 'strikes', 'string', 'strong', 'strongly', 'struggling', 'stubborn', 'stuck', 'studio', 'study', 'studying', 'stuff', 'stuffing', 'stuiy', 'stupid', 'stupido', 'stustone', 'su', 'submit', 'such', 'suck', 'sucked', 'sucks', 'sudden', 'suddenly', 'suffered', 'suicide', 'suitcase', 'suitcases', 'summe', 'summer', 'sun', 'sup', 'supamagg', 'superneej', 'supersport', 'support', 'suppose', 'supposed', 'sure', 'suriously', 'surprised', 'suuuper', 'swarley', 'swear', 'sweating', 'sweet', 'sweets', 'swetdreamss', 'swimming', 'switcheasy', 'switchfoot', 'swollen', 'sydney', 'syekr', 'sympathies', 'synth', 'table', 'tablets', 'tacce', 'tacos', 'tad', 'tak', 'take', 'taken', 'takes', 'taking', 'talent', 'talk', 'talked', 'talking', 'tar', 'tara', 'tarik', 'taste', 'tastiest', 'tatiana_k', 'tattoos', 'tautao', 'tax', 'taxes', 'tea', 'teach', 'team', 'teams', 'teardrops', 'tech', 'techhelp', 'techniques', 'technological', 'teh', 'tejanos', 'tell', 'telling', 'telll', 'tempted', 'tennis', 'tense', 'tents', 'term', 'terms', 'terrible', 'terrified', 'test', 'testament', 'teusday', 'texas', 'text', 'texting', 'than', 'thank', 'thankfully', 'thanks', 'thastevieg', 'that', 'thats', 'the', 'thecoolestout', 'their', 'theleaguesf', 'them', 'themselves', 'then', 'theory', 'therapist', 'therapyfail', 'there', 'theres', 'theresawhite', 'thesage1014', 'these', 'thestar_rage', 'they', 'thing', 'things', 'think', 'thinking', 'thinks', 'third', 'this', 'tho', 'thoroughly', 'those', 'though', 'thought', 'thoughts', 'thousand_miles', 'threatening', 'three', 'throat', 'through', 'thru', 'tht', 'thunder', 'thursday', 'ticks', 'til', 'till', 'tim_grainger', 'time', 'timeline', 'times', 'tiny', 'tinyurl', 'tips', 'tipsy', 'tired', 'to', 'toast', 'today', 'told', 'tom', 'tomomorrow', 'tomorrow', 'tomorrows', 'tongue', 'tonight', 'tonite', 'tons', 'too', 'took', 'toon', 'tooo', 'top', 'tops', 'torrents', 'torts', 'torturedlady', 'total', 'totally', 'tough', 'tour', 'tourism', 'tournament', 'tourney', 'town', 'tp', 'tr', 'trace', 'track', 'tracy', 'trade', 'traffic', 'tragedy', 'train', 'training', 'transbay', 'transformer', 'trash', 'travesty', 'travian', 'treaty', 'tree', 'treesahquiche', 'trek', 'tried', 'trip', 'trishzw', 'troll', 'trolley', 'tromped', 'tropic', 'trouble', 'trounces', 'true', 'trumpet', 'trust', 'try', 'trying', 'ttb', 'ttsc', 'ttyl', 'tuesday', 'tuesdays', 'tum', 'tumblr', 'tummy', 'turbotax', 'turn', 'turned', 'turns', 'turtles', 'twanking', 'tweeps', 'tweet', 'tweetdeck', 'tweeted', 'tweeters', 'tweetfinder', 'tweets', 'twenty', 'twiggassssssss', 'twilight', 'twilighter4life', 'twin', 'twista202', 'twitpic', 'twittas', 'twitter', 'twittera', 'twitterholics', 'twitters', 'two', 'ua', 'ugggggh', 'ugh', 'ughh', 'ughhh', 'ugly', 'uh', 'uids', 'uk', 'ulcer', 'ulike', 'um', 'umm', 'ummmmm', 'unbearable', 'unbelievable', 'uncapped', 'unclever', 'under', 'undergrad', 'underneath', 'underneith', 'understand', 'understood', 'underxposed', 'unexpected', 'unfair', 'unfollow', 'unfornately', 'unfortunately', 'unfortunetly', 'unhappy', 'unholyknight', 'uni', 'united', 'university', 'unless', 'unlike', 'unliving', 'unreadable', 'until', 'untill', 'up', 'update', 'updates', 'updatingffe', 'upload', 'upon', 'upp', 'upset', 'upside', 'ur', 'urgh', 'us', 'usb', 'usc', 'use', 'used', 'useful', 'useless', 'user', 'using', 'uti', 'v0', 'vacation', 'vacations', 'vaccinate', 'vaccinated', 'vain', 'val', 'valentino', 'valley', 'van', 've', 'vegas', 'velvet', 'vene2ia', 'venture', 'verruca', 'versions', 'very', 'vets', 'vhs', 'via', 'victory', 'vid', 'video', 'videos', 'vids', 'viennah', 'view', 'villa', 'vincas', 'visit', 'visits', 'visual', 'vitamin', 'vivekg86', 'vivid', 'voice', 'vomit', 'vomiting', 'vote', 'vs', 'wage', 'wah', 'wahh', 'wahhh', 'wait', 'waitin', 'waiting', 'waits', 'wake', 'waking', 'walk', 'walking', 'wall', 'wally', 'wan', 'wana', 'wanna', 'want', 'wanted', 'wanting', 'wants', 'wanttss', 'warfare', 'warm', 'warn', 'warp', 'was', 'wasn', 'wasnt', 'wasted', 'wat', 'watch', 'watched', 'watching', 'water', 'watermellon', 'watko', 'waxed', 'way', 'wayyy', 'we', 'wear', 'wearing', 'weather', 'web', 'webpage', 'website', 'wednesday', 'weds', 'week', 'weekend', 'weeks', 'weird', 'wekend', 'well', 'wellbutrin', 'went', 'were', 'weren', 'wet', 'wetting', 'whack', 'whale', 'what', 'wheat', 'when', 'where', 'whether', 'which', 'while', 'whinging', 'white', 'whitney', 'who', 'whoa', 'whoisariston', 'whole', 'wht', 'why', 'whyyyyyyyy', 'wide', 'wif', 'wiggety', 'will', 'williams', 'win', 'wind', 'wise', 'wish', 'wishes', 'wishing', 'wit', 'with', 'within', 'without', 'wk', 'wnt', 'woke', 'woken', 'woman', 'won', 'wonder', 'wondered', 'wondering', 'wonders', 'wont', 'wood', 'woodntap', 'woot', 'word', 'words', 'work', 'workday', 'worked', 'workin', 'working', 'workload', 'workng', 'workouts', 'works', 'workshops', 'world', 'worn', 'worried', 'worry', 'worse', 'worsee', 'worst', 'worth', 'would', 'wow', 'wrenching', 'write', 'writer', 'writing', 'written', 'wrong', 'wrote', 'wry', 'wtf', 'wts', 'wudnt', 'wutcha', 'wwi', 'www', 'wyldceltic1', 'xblm', 'xbox', 'xm', 'xxx', 'ya', 'yahoo', 'yaknow', 'yawn', 'yawwwn', 'yawwwnn', 'yay', 'yea', 'yeah', 'year', 'years', 'yeh', 'yer', 'yes', 'yesterday', 'yet', 'yielded', 'yin', 'york', 'you', 'your', 'yours', 'youtube', 'yoyoyo', 'yr', 'yrs', 'yucky', 'yup', 'zac', 'zack', 'zaydia', 'zip', 'zone', 'zoo']\n"
     ]
    }
   ],
   "source": [
    "print(vectorizer.get_feature_names())"
   ]
  },
  {
   "cell_type": "code",
   "execution_count": 19,
   "id": "d8a75902",
   "metadata": {},
   "outputs": [
    {
     "name": "stdout",
     "output_type": "stream",
     "text": [
      "[[0 0 0 ... 0 0 0]\n",
      " [0 0 0 ... 0 0 0]\n",
      " [0 0 0 ... 0 0 0]\n",
      " ...\n",
      " [0 0 0 ... 0 0 0]\n",
      " [0 0 0 ... 0 0 0]\n",
      " [0 0 0 ... 0 0 0]]\n"
     ]
    }
   ],
   "source": [
    "print(depression_countvectorizer.toarray()) "
   ]
  },
  {
   "cell_type": "code",
   "execution_count": 20,
   "id": "d115ec22",
   "metadata": {},
   "outputs": [
    {
     "data": {
      "text/plain": [
       "(1001, 3335)"
      ]
     },
     "execution_count": 20,
     "metadata": {},
     "output_type": "execute_result"
    }
   ],
   "source": [
    "depression_countvectorizer.shape"
   ]
  },
  {
   "cell_type": "code",
   "execution_count": 21,
   "id": "b4d7439a",
   "metadata": {},
   "outputs": [],
   "source": [
    "X = depression_countvectorizer"
   ]
  },
  {
   "cell_type": "code",
   "execution_count": 22,
   "id": "9bf8ad41",
   "metadata": {},
   "outputs": [
    {
     "name": "stdout",
     "output_type": "stream",
     "text": [
      "  (0, 2835)\t1\n",
      "  (0, 1417)\t1\n",
      "  (0, 3040)\t1\n",
      "  (0, 616)\t1\n",
      "  (0, 38)\t1\n",
      "  (0, 270)\t1\n",
      "  (0, 2898)\t1\n",
      "  (0, 448)\t1\n",
      "  (0, 3320)\t1\n",
      "  (0, 2589)\t1\n",
      "  (0, 1243)\t1\n",
      "  (0, 752)\t1\n",
      "  (0, 510)\t1\n",
      "  (0, 2087)\t1\n",
      "  (0, 2922)\t1\n",
      "  (0, 755)\t1\n",
      "  (0, 2951)\t1\n",
      "  (0, 835)\t1\n",
      "  (0, 1516)\t1\n",
      "  (1, 2898)\t1\n",
      "  (1, 1516)\t1\n",
      "  (1, 1511)\t1\n",
      "  (1, 3096)\t1\n",
      "  (1, 1328)\t1\n",
      "  (1, 491)\t1\n",
      "  :\t:\n",
      "  (998, 2058)\t1\n",
      "  (998, 3187)\t1\n",
      "  (998, 2578)\t1\n",
      "  (999, 2087)\t1\n",
      "  (999, 755)\t1\n",
      "  (999, 172)\t1\n",
      "  (999, 2953)\t2\n",
      "  (999, 2105)\t1\n",
      "  (999, 138)\t1\n",
      "  (999, 3177)\t1\n",
      "  (999, 3208)\t1\n",
      "  (999, 1695)\t1\n",
      "  (999, 1617)\t1\n",
      "  (999, 3042)\t1\n",
      "  (999, 2340)\t1\n",
      "  (999, 1491)\t1\n",
      "  (999, 522)\t1\n",
      "  (999, 1449)\t1\n",
      "  (999, 1452)\t1\n",
      "  (1000, 270)\t1\n",
      "  (1000, 2896)\t1\n",
      "  (1000, 1316)\t1\n",
      "  (1000, 2599)\t1\n",
      "  (1000, 326)\t1\n",
      "  (1000, 681)\t1\n"
     ]
    }
   ],
   "source": [
    "print(X)"
   ]
  },
  {
   "cell_type": "code",
   "execution_count": 23,
   "id": "825d21a1",
   "metadata": {},
   "outputs": [],
   "source": [
    "y = dataset.iloc[:, -1].values"
   ]
  },
  {
   "cell_type": "code",
   "execution_count": 24,
   "id": "b7cb8709",
   "metadata": {},
   "outputs": [
    {
     "name": "stdout",
     "output_type": "stream",
     "text": [
      "[0 1 0 ... 0 0 0]\n"
     ]
    }
   ],
   "source": [
    "print(y)"
   ]
  },
  {
   "cell_type": "markdown",
   "id": "3da64785",
   "metadata": {},
   "source": [
    "# Train_Test_Split"
   ]
  },
  {
   "cell_type": "code",
   "execution_count": 25,
   "id": "fa807191",
   "metadata": {},
   "outputs": [],
   "source": [
    "from sklearn.model_selection import train_test_split\n",
    "X_train, X_test, y_train, y_test = train_test_split(X, y, test_size=0.2)"
   ]
  },
  {
   "cell_type": "code",
   "execution_count": null,
   "id": "2dbe9abd",
   "metadata": {},
   "outputs": [],
   "source": []
  },
  {
   "cell_type": "markdown",
   "id": "6cd83a8c",
   "metadata": {},
   "source": [
    "# LOGISTIC REGRESSION"
   ]
  },
  {
   "cell_type": "code",
   "execution_count": 26,
   "id": "0f9338f9",
   "metadata": {},
   "outputs": [
    {
     "data": {
      "text/plain": [
       "LogisticRegression()"
      ]
     },
     "execution_count": 26,
     "metadata": {},
     "output_type": "execute_result"
    }
   ],
   "source": [
    "from sklearn.linear_model import LogisticRegression\n",
    "\n",
    "LR_classifier = LogisticRegression()\n",
    "LR_classifier.fit(X_train, y_train)"
   ]
  },
  {
   "cell_type": "code",
   "execution_count": 27,
   "id": "55fa60ce",
   "metadata": {},
   "outputs": [],
   "source": [
    "from sklearn.metrics import classification_report, confusion_matrix, accuracy_score"
   ]
  },
  {
   "cell_type": "code",
   "execution_count": 28,
   "id": "1287b71c",
   "metadata": {},
   "outputs": [
    {
     "data": {
      "text/plain": [
       "<AxesSubplot:>"
      ]
     },
     "execution_count": 28,
     "metadata": {},
     "output_type": "execute_result"
    },
    {
     "data": {
      "image/png": "[encoded data removed]",
      "text/plain": [
       "<Figure size 432x288 with 2 Axes>"
      ]
     },
     "metadata": {
      "needs_background": "light"
     },
     "output_type": "display_data"
    }
   ],
   "source": [
    "y_predict_train = LR_classifier.predict(X_train)\n",
    "y_predict_train\n",
    "cm = confusion_matrix(y_train, y_predict_train)\n",
    "sns.heatmap(cm, annot=True)"
   ]
  },
  {
   "cell_type": "code",
   "execution_count": 29,
   "id": "68e15763",
   "metadata": {},
   "outputs": [
    {
     "data": {
      "text/plain": [
       "<AxesSubplot:>"
      ]
     },
     "execution_count": 29,
     "metadata": {},
     "output_type": "execute_result"
    },
    {
     "data": {
      "image/png": "[encoded data removed]",
      "text/plain": [
       "<Figure size 432x288 with 2 Axes>"
      ]
     },
     "metadata": {
      "needs_background": "light"
     },
     "output_type": "display_data"
    }
   ],
   "source": [
    "# Predicting the Test set results\n",
    "y_predict_test = LR_classifier.predict(X_test)\n",
    "cm = confusion_matrix(y_test, y_predict_test)\n",
    "sns.heatmap(cm, annot=True)"
   ]
  },
  {
   "cell_type": "code",
   "execution_count": 30,
   "id": "2c1b8dcf",
   "metadata": {},
   "outputs": [
    {
     "data": {
      "text/plain": [
       "0.7711442786069652"
      ]
     },
     "execution_count": 30,
     "metadata": {},
     "output_type": "execute_result"
    }
   ],
   "source": [
    "accuracy_score(y_test, y_predict_test)\n"
   ]
  },
  {
   "cell_type": "code",
   "execution_count": 31,
   "id": "bed8602f",
   "metadata": {},
   "outputs": [
    {
     "name": "stdout",
     "output_type": "stream",
     "text": [
      "              precision    recall  f1-score   support\n",
      "\n",
      "           0       0.77      0.95      0.85       141\n",
      "           1       0.75      0.35      0.48        60\n",
      "\n",
      "    accuracy                           0.77       201\n",
      "   macro avg       0.76      0.65      0.67       201\n",
      "weighted avg       0.77      0.77      0.74       201\n",
      "\n"
     ]
    }
   ],
   "source": [
    "print(classification_report(y_test, y_predict_test))"
   ]
  },
  {
   "cell_type": "code",
   "execution_count": null,
   "id": "9d05a1dd",
   "metadata": {},
   "outputs": [],
   "source": []
  },
  {
   "cell_type": "markdown",
   "id": "83662206",
   "metadata": {},
   "source": [
    "# SVM"
   ]
  },
  {
   "cell_type": "code",
   "execution_count": 32,
   "id": "503c8def",
   "metadata": {},
   "outputs": [
    {
     "data": {
      "text/plain": [
       "SVC(kernel='linear', random_state=0)"
      ]
     },
     "execution_count": 32,
     "metadata": {},
     "output_type": "execute_result"
    }
   ],
   "source": [
    "from sklearn.svm import SVC\n",
    "\n",
    "SVM_classifier = SVC(kernel = 'linear', random_state = 0)\n",
    "SVM_classifier.fit(X_train, y_train)"
   ]
  },
  {
   "cell_type": "code",
   "execution_count": 33,
   "id": "a11a1f60",
   "metadata": {},
   "outputs": [],
   "source": [
    "from sklearn.metrics import classification_report, confusion_matrix, accuracy_score"
   ]
  },
  {
   "cell_type": "code",
   "execution_count": 34,
   "id": "bc36ed29",
   "metadata": {},
   "outputs": [
    {
     "data": {
      "text/plain": [
       "<AxesSubplot:>"
      ]
     },
     "execution_count": 34,
     "metadata": {},
     "output_type": "execute_result"
    },
    {
     "data": {
      "image/png": "[encoded data removed]",
      "text/plain": [
       "<Figure size 432x288 with 2 Axes>"
      ]
     },
     "metadata": {
      "needs_background": "light"
     },
     "output_type": "display_data"
    }
   ],
   "source": [
    "y_predict_train = SVM_classifier.predict(X_train)\n",
    "y_predict_train\n",
    "cm = confusion_matrix(y_train, y_predict_train)\n",
    "sns.heatmap(cm, annot=True)"
   ]
  },
  {
   "cell_type": "code",
   "execution_count": 35,
   "id": "bb83042d",
   "metadata": {},
   "outputs": [
    {
     "data": {
      "text/plain": [
       "<AxesSubplot:>"
      ]
     },
     "execution_count": 35,
     "metadata": {},
     "output_type": "execute_result"
    },
    {
     "data": {
      "image/png": "[encoded data removed]",
      "text/plain": [
       "<Figure size 432x288 with 2 Axes>"
      ]
     },
     "metadata": {
      "needs_background": "light"
     },
     "output_type": "display_data"
    }
   ],
   "source": [
    "# Predicting the Test set results\n",
    "y_predict_test =SVM_classifier.predict(X_test)\n",
    "cm = confusion_matrix(y_test,y_predict_test)\n",
    "sns.heatmap(cm, annot=True)"
   ]
  },
  {
   "cell_type": "code",
   "execution_count": 36,
   "id": "836d737e",
   "metadata": {},
   "outputs": [
    {
     "data": {
      "text/plain": [
       "0.7313432835820896"
      ]
     },
     "execution_count": 36,
     "metadata": {},
     "output_type": "execute_result"
    }
   ],
   "source": [
    "accuracy_score(y_test, y_predict_test)"
   ]
  },
  {
   "cell_type": "code",
   "execution_count": 37,
   "id": "26d3c643",
   "metadata": {},
   "outputs": [
    {
     "name": "stdout",
     "output_type": "stream",
     "text": [
      "              precision    recall  f1-score   support\n",
      "\n",
      "           0       0.78      0.86      0.82       141\n",
      "           1       0.57      0.43      0.49        60\n",
      "\n",
      "    accuracy                           0.73       201\n",
      "   macro avg       0.67      0.65      0.65       201\n",
      "weighted avg       0.72      0.73      0.72       201\n",
      "\n"
     ]
    }
   ],
   "source": [
    "print(classification_report(y_test, y_predict_test))"
   ]
  },
  {
   "cell_type": "code",
   "execution_count": null,
   "id": "63ec13d7",
   "metadata": {},
   "outputs": [],
   "source": []
  },
  {
   "cell_type": "markdown",
   "id": "b2e165df",
   "metadata": {},
   "source": [
    "# RANDOM FOREST"
   ]
  },
  {
   "cell_type": "code",
   "execution_count": 38,
   "id": "68246dce",
   "metadata": {},
   "outputs": [
    {
     "data": {
      "text/plain": [
       "RandomForestClassifier(criterion='entropy', n_estimators=10, random_state=0)"
      ]
     },
     "execution_count": 38,
     "metadata": {},
     "output_type": "execute_result"
    }
   ],
   "source": [
    "from sklearn.ensemble import RandomForestClassifier\n",
    "\n",
    "RF_classifier = RandomForestClassifier(n_estimators = 10, criterion = 'entropy', random_state = 0)\n",
    "RF_classifier.fit(X_train, y_train)"
   ]
  },
  {
   "cell_type": "code",
   "execution_count": 39,
   "id": "7a552adf",
   "metadata": {},
   "outputs": [],
   "source": [
    "from sklearn.metrics import classification_report, confusion_matrix"
   ]
  },
  {
   "cell_type": "code",
   "execution_count": 40,
   "id": "1f9e14f9",
   "metadata": {},
   "outputs": [
    {
     "data": {
      "text/plain": [
       "<AxesSubplot:>"
      ]
     },
     "execution_count": 40,
     "metadata": {},
     "output_type": "execute_result"
    },
    {
     "data": {
      "image/png": "[encoded data removed]",
      "text/plain": [
       "<Figure size 432x288 with 2 Axes>"
      ]
     },
     "metadata": {
      "needs_background": "light"
     },
     "output_type": "display_data"
    }
   ],
   "source": [
    "y_predict_train = RF_classifier.predict(X_train)\n",
    "y_predict_train\n",
    "cm = confusion_matrix(y_train, y_predict_train)\n",
    "sns.heatmap(cm, annot=True)"
   ]
  },
  {
   "cell_type": "code",
   "execution_count": 41,
   "id": "c548cd42",
   "metadata": {},
   "outputs": [
    {
     "data": {
      "text/plain": [
       "<AxesSubplot:>"
      ]
     },
     "execution_count": 41,
     "metadata": {},
     "output_type": "execute_result"
    },
    {
     "data": {
      "image/png": "[encoded data removed]",
      "text/plain": [
       "<Figure size 432x288 with 2 Axes>"
      ]
     },
     "metadata": {
      "needs_background": "light"
     },
     "output_type": "display_data"
    }
   ],
   "source": [
    "# Predicting the Test set results\n",
    "y_predict_test = RF_classifier.predict(X_test)\n",
    "cm = confusion_matrix(y_test, y_predict_test)\n",
    "sns.heatmap(cm, annot=True)"
   ]
  },
  {
   "cell_type": "code",
   "execution_count": 42,
   "id": "64dbb1dd",
   "metadata": {},
   "outputs": [
    {
     "name": "stdout",
     "output_type": "stream",
     "text": [
      "              precision    recall  f1-score   support\n",
      "\n",
      "           0       0.72      0.99      0.83       141\n",
      "           1       0.75      0.10      0.18        60\n",
      "\n",
      "    accuracy                           0.72       201\n",
      "   macro avg       0.74      0.54      0.50       201\n",
      "weighted avg       0.73      0.72      0.64       201\n",
      "\n"
     ]
    }
   ],
   "source": [
    "print(classification_report(y_test, y_predict_test))"
   ]
  },
  {
   "cell_type": "code",
   "execution_count": null,
   "id": "de23174e",
   "metadata": {},
   "outputs": [],
   "source": []
  },
  {
   "cell_type": "markdown",
   "id": "582f0db4",
   "metadata": {},
   "source": [
    "# GBDT"
   ]
  },
  {
   "cell_type": "code",
   "execution_count": 43,
   "id": "882e2113",
   "metadata": {},
   "outputs": [
    {
     "data": {
      "text/plain": [
       "GradientBoostingClassifier()"
      ]
     },
     "execution_count": 43,
     "metadata": {},
     "output_type": "execute_result"
    }
   ],
   "source": [
    "from sklearn.ensemble import GradientBoostingClassifier\n",
    "\n",
    "GBDT_classifier = GradientBoostingClassifier()\n",
    "GBDT_classifier.fit(X_train, y_train)"
   ]
  },
  {
   "cell_type": "code",
   "execution_count": 44,
   "id": "4599ba14",
   "metadata": {},
   "outputs": [],
   "source": [
    "from sklearn.metrics import classification_report, confusion_matrix"
   ]
  },
  {
   "cell_type": "code",
   "execution_count": 45,
   "id": "d408f0f8",
   "metadata": {},
   "outputs": [
    {
     "data": {
      "text/plain": [
       "<AxesSubplot:>"
      ]
     },
     "execution_count": 45,
     "metadata": {},
     "output_type": "execute_result"
    },
    {
     "data": {
      "image/png": "[encoded data removed]",
      "text/plain": [
       "<Figure size 432x288 with 2 Axes>"
      ]
     },
     "metadata": {
      "needs_background": "light"
     },
     "output_type": "display_data"
    }
   ],
   "source": [
    "y_predict_train = GBDT_classifier.predict(X_train)\n",
    "y_predict_train\n",
    "cm = confusion_matrix(y_train, y_predict_train)\n",
    "sns.heatmap(cm, annot=True)"
   ]
  },
  {
   "cell_type": "code",
   "execution_count": 46,
   "id": "1f8ba979",
   "metadata": {},
   "outputs": [
    {
     "data": {
      "text/plain": [
       "<AxesSubplot:>"
      ]
     },
     "execution_count": 46,
     "metadata": {},
     "output_type": "execute_result"
    },
    {
     "data": {
      "image/png": "[encoded data removed]",
      "text/plain": [
       "<Figure size 432x288 with 2 Axes>"
      ]
     },
     "metadata": {
      "needs_background": "light"
     },
     "output_type": "display_data"
    }
   ],
   "source": [
    "# Predicting the Test set results\n",
    "y_predict_test = GBDT_classifier.predict(X_test)\n",
    "cm = confusion_matrix(y_test, y_predict_test)\n",
    "sns.heatmap(cm, annot=True)"
   ]
  },
  {
   "cell_type": "code",
   "execution_count": 47,
   "id": "63d729c0",
   "metadata": {},
   "outputs": [
    {
     "name": "stdout",
     "output_type": "stream",
     "text": [
      "              precision    recall  f1-score   support\n",
      "\n",
      "           0       0.75      0.95      0.84       141\n",
      "           1       0.68      0.25      0.37        60\n",
      "\n",
      "    accuracy                           0.74       201\n",
      "   macro avg       0.72      0.60      0.60       201\n",
      "weighted avg       0.73      0.74      0.70       201\n",
      "\n"
     ]
    }
   ],
   "source": [
    "print(classification_report(y_test, y_predict_test))"
   ]
  },
  {
   "cell_type": "code",
   "execution_count": null,
   "id": "e0d28302",
   "metadata": {},
   "outputs": [],
   "source": []
  },
  {
   "cell_type": "code",
   "execution_count": null,
   "id": "e69c6de2",
   "metadata": {},
   "outputs": [],
   "source": []
  },
  {
   "cell_type": "markdown",
   "id": "265dea90",
   "metadata": {},
   "source": [
    "# NAIVE BAYES"
   ]
  },
  {
   "cell_type": "code",
   "execution_count": 48,
   "id": "e47ce47f",
   "metadata": {},
   "outputs": [
    {
     "data": {
      "text/plain": [
       "MultinomialNB()"
      ]
     },
     "execution_count": 48,
     "metadata": {},
     "output_type": "execute_result"
    }
   ],
   "source": [
    "from sklearn.naive_bayes import MultinomialNB\n",
    "\n",
    "NB_classifier = MultinomialNB()\n",
    "NB_classifier.fit(X_train, y_train)"
   ]
  },
  {
   "cell_type": "code",
   "execution_count": 49,
   "id": "2403b808",
   "metadata": {},
   "outputs": [],
   "source": [
    "from sklearn.metrics import classification_report, confusion_matrix\n"
   ]
  },
  {
   "cell_type": "code",
   "execution_count": 50,
   "id": "e7420578",
   "metadata": {},
   "outputs": [
    {
     "data": {
      "text/plain": [
       "<AxesSubplot:>"
      ]
     },
     "execution_count": 50,
     "metadata": {},
     "output_type": "execute_result"
    },
    {
     "data": {
      "image/png": "[encoded data removed]",
      "text/plain": [
       "<Figure size 432x288 with 2 Axes>"
      ]
     },
     "metadata": {
      "needs_background": "light"
     },
     "output_type": "display_data"
    }
   ],
   "source": [
    "y_predict_train = NB_classifier.predict(X_train)\n",
    "y_predict_train\n",
    "cm = confusion_matrix(y_train, y_predict_train)\n",
    "sns.heatmap(cm, annot=True)"
   ]
  },
  {
   "cell_type": "code",
   "execution_count": 51,
   "id": "8ddc1105",
   "metadata": {},
   "outputs": [
    {
     "data": {
      "text/plain": [
       "<AxesSubplot:>"
      ]
     },
     "execution_count": 51,
     "metadata": {},
     "output_type": "execute_result"
    },
    {
     "data": {
      "image/png": "[encoded data removed]",
      "text/plain": [
       "<Figure size 432x288 with 2 Axes>"
      ]
     },
     "metadata": {
      "needs_background": "light"
     },
     "output_type": "display_data"
    }
   ],
   "source": [
    "# Predicting the Test set results\n",
    "y_predict_test = NB_classifier.predict(X_test)\n",
    "cm = confusion_matrix(y_test, y_predict_test)\n",
    "sns.heatmap(cm, annot=True)"
   ]
  },
  {
   "cell_type": "code",
   "execution_count": 52,
   "id": "d8ddccf3",
   "metadata": {},
   "outputs": [
    {
     "name": "stdout",
     "output_type": "stream",
     "text": [
      "              precision    recall  f1-score   support\n",
      "\n",
      "           0       0.74      0.81      0.77       141\n",
      "           1       0.43      0.33      0.37        60\n",
      "\n",
      "    accuracy                           0.67       201\n",
      "   macro avg       0.58      0.57      0.57       201\n",
      "weighted avg       0.65      0.67      0.65       201\n",
      "\n"
     ]
    }
   ],
   "source": [
    "print(classification_report(y_test, y_predict_test))"
   ]
  },
  {
   "cell_type": "code",
   "execution_count": null,
   "id": "1638d9f9",
   "metadata": {},
   "outputs": [],
   "source": []
  },
  {
   "cell_type": "code",
   "execution_count": null,
   "id": "af1efdcb",
   "metadata": {},
   "outputs": [],
   "source": []
  }
 ],
 "metadata": {
  "kernelspec": {
   "display_name": "Python 3 (ipykernel)",
   "language": "python",
   "name": "python3"
  },
  "language_info": {
   "codemirror_mode": {
    "name": "ipython",
    "version": 3
   },
   "file_extension": ".py",
   "mimetype": "text/x-python",
   "name": "python",
   "nbconvert_exporter": "python",
   "pygments_lexer": "ipython3",
   "version": "3.9.7"
  }
 },
 "nbformat": 4,
 "nbformat_minor": 5
}
